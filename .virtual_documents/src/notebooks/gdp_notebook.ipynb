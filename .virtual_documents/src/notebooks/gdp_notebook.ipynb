# imports
import pandas as pd


gdp_path = '../../data/gdpaverage/gdpaverage.csv'
gdp = pd.read_csv(gdp_path)


gdp.head(2)


gdp_subset = gdp[['REF_DATE', 'Seasonal adjustment', 'Prices', 'North American Industry Classification System (NAICS)', 'VALUE', 'STATUS']]
gdp_subset.head()


gdp_subset.dtypes






