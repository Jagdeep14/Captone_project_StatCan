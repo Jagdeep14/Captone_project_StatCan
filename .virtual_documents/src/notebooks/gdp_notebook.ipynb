# imports
import pandas as pd
import numpy as np


gdp_path = '../../data/gdpexpenditurebased/36100104.csv'
gdp = pd.read_csv(gdp_path)


gdp.head(2)


gdp_subset = gdp[['REF_DATE', 'GEO', 'Prices', 'Estimates', 'UOM', 'VALUE']]
gdp_subset.head()


gdp_subset['Prices'].unique()


from datetime import datetime
datetime.strptime('Feb-2010', '%b-%Y')



