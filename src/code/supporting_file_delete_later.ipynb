{
 "cells": [
  {
   "cell_type": "code",
   "execution_count": 36,
   "id": "234658c3-1265-4abb-99a7-9c5353650103",
   "metadata": {},
   "outputs": [],
   "source": [
    "import pandas as pd"
   ]
  },
  {
   "cell_type": "code",
   "execution_count": 38,
   "id": "fb0e7ba9",
   "metadata": {},
   "outputs": [
    {
     "data": {
      "text/html": [
       "<div>\n",
       "<style scoped>\n",
       "    .dataframe tbody tr th:only-of-type {\n",
       "        vertical-align: middle;\n",
       "    }\n",
       "\n",
       "    .dataframe tbody tr th {\n",
       "        vertical-align: top;\n",
       "    }\n",
       "\n",
       "    .dataframe thead th {\n",
       "        text-align: right;\n",
       "    }\n",
       "</style>\n",
       "<table border=\"1\" class=\"dataframe\">\n",
       "  <thead>\n",
       "    <tr style=\"text-align: right;\">\n",
       "      <th></th>\n",
       "      <th>CatNo</th>\n",
       "      <th>Category</th>\n",
       "      <th>Keywords</th>\n",
       "      <th>keywordCat</th>\n",
       "      <th>keywordCatNo</th>\n",
       "    </tr>\n",
       "  </thead>\n",
       "  <tbody>\n",
       "    <tr>\n",
       "      <th>0</th>\n",
       "      <td>569</td>\n",
       "      <td>Events &amp; Listings</td>\n",
       "      <td>Economic crisis</td>\n",
       "      <td>Economics</td>\n",
       "      <td>520.0</td>\n",
       "    </tr>\n",
       "    <tr>\n",
       "      <th>1</th>\n",
       "      <td>23</td>\n",
       "      <td>Performing Arts</td>\n",
       "      <td>Crisis</td>\n",
       "      <td>Economics</td>\n",
       "      <td>520.0</td>\n",
       "    </tr>\n",
       "    <tr>\n",
       "      <th>2</th>\n",
       "      <td>47</td>\n",
       "      <td>Autos &amp; Vehicles</td>\n",
       "      <td>Recession</td>\n",
       "      <td>Economics</td>\n",
       "      <td>520.0</td>\n",
       "    </tr>\n",
       "    <tr>\n",
       "      <th>3</th>\n",
       "      <td>815</td>\n",
       "      <td>Vehicle Brands</td>\n",
       "      <td>Financial crisis</td>\n",
       "      <td>Economics</td>\n",
       "      <td>520.0</td>\n",
       "    </tr>\n",
       "    <tr>\n",
       "      <th>4</th>\n",
       "      <td>170</td>\n",
       "      <td>Vehicle Licensing &amp; Registration</td>\n",
       "      <td>Krach</td>\n",
       "      <td>Economics</td>\n",
       "      <td>520.0</td>\n",
       "    </tr>\n",
       "    <tr>\n",
       "      <th>...</th>\n",
       "      <td>...</td>\n",
       "      <td>...</td>\n",
       "      <td>...</td>\n",
       "      <td>...</td>\n",
       "      <td>...</td>\n",
       "    </tr>\n",
       "    <tr>\n",
       "      <th>148</th>\n",
       "      <td>566</td>\n",
       "      <td>Textiles &amp; Nonwovens</td>\n",
       "      <td>NaN</td>\n",
       "      <td>NaN</td>\n",
       "      <td>NaN</td>\n",
       "    </tr>\n",
       "    <tr>\n",
       "      <th>149</th>\n",
       "      <td>672</td>\n",
       "      <td>Coatings &amp; Adhesives</td>\n",
       "      <td>NaN</td>\n",
       "      <td>NaN</td>\n",
       "      <td>NaN</td>\n",
       "    </tr>\n",
       "    <tr>\n",
       "      <th>150</th>\n",
       "      <td>673</td>\n",
       "      <td>Dyes &amp; Pigments</td>\n",
       "      <td>NaN</td>\n",
       "      <td>NaN</td>\n",
       "      <td>NaN</td>\n",
       "    </tr>\n",
       "    <tr>\n",
       "      <th>151</th>\n",
       "      <td>289</td>\n",
       "      <td>Freight &amp; Trucking</td>\n",
       "      <td>NaN</td>\n",
       "      <td>NaN</td>\n",
       "      <td>NaN</td>\n",
       "    </tr>\n",
       "    <tr>\n",
       "      <th>152</th>\n",
       "      <td>49</td>\n",
       "      <td>Manufacturing</td>\n",
       "      <td>NaN</td>\n",
       "      <td>NaN</td>\n",
       "      <td>NaN</td>\n",
       "    </tr>\n",
       "  </tbody>\n",
       "</table>\n",
       "<p>153 rows × 5 columns</p>\n",
       "</div>"
      ],
      "text/plain": [
       "     CatNo                          Category          Keywords keywordCat  \\\n",
       "0      569                 Events & Listings   Economic crisis  Economics   \n",
       "1       23                   Performing Arts            Crisis  Economics   \n",
       "2       47                  Autos & Vehicles         Recession  Economics   \n",
       "3      815                    Vehicle Brands  Financial crisis  Economics   \n",
       "4      170  Vehicle Licensing & Registration             Krach  Economics   \n",
       "..     ...                               ...               ...        ...   \n",
       "148    566              Textiles & Nonwovens               NaN        NaN   \n",
       "149    672              Coatings & Adhesives               NaN        NaN   \n",
       "150    673                   Dyes & Pigments               NaN        NaN   \n",
       "151    289                Freight & Trucking               NaN        NaN   \n",
       "152     49                     Manufacturing               NaN        NaN   \n",
       "\n",
       "     keywordCatNo  \n",
       "0           520.0  \n",
       "1           520.0  \n",
       "2           520.0  \n",
       "3           520.0  \n",
       "4           520.0  \n",
       "..            ...  \n",
       "148           NaN  \n",
       "149           NaN  \n",
       "150           NaN  \n",
       "151           NaN  \n",
       "152           NaN  \n",
       "\n",
       "[153 rows x 5 columns]"
      ]
     },
     "execution_count": 38,
     "metadata": {},
     "output_type": "execute_result"
    }
   ],
   "source": [
    "pred_error_path = 'https://raw.githubusercontent.com/ubco-mds-2021-labs/capstone-project-googletrends_capstone/main/data/keywords_data/GDP.csv?token=GHSAT0AAAAAABQEJ7WG4WGHRLQYZQGFQ6RUYVDZNGA'\n",
    "pred_error = pd.read_csv(pred_error_path)\n",
    "pred_error"
   ]
  },
  {
   "cell_type": "code",
   "execution_count": 15,
   "id": "9138c2c8",
   "metadata": {},
   "outputs": [
    {
     "data": {
      "text/plain": [
       "62278.51901989501"
      ]
     },
     "execution_count": 15,
     "metadata": {},
     "output_type": "execute_result"
    }
   ],
   "source": [
    "pred_error['GDP'][0]"
   ]
  },
  {
   "cell_type": "code",
   "execution_count": 28,
   "id": "2323e59a",
   "metadata": {},
   "outputs": [
    {
     "data": {
      "text/plain": [
       "'351,825.3'"
      ]
     },
     "execution_count": 28,
     "metadata": {},
     "output_type": "execute_result"
    }
   ],
   "source": [
    "pred_error_path = '../../data/storeddata/PredictionErrors.csv'\n",
    "pred_error = pd.read_csv(pred_error_path)\n",
    "\n",
    "def pred_error_scorecard(value='GDP'):\n",
    "    \"\"\"function returns the prediction error of the desired indicator value\"\"\"\n",
    "    if value == 'GDP':\n",
    "        return '{:,}'.format(round(pred_error['GDP'][0], 2))\n",
    "    elif value == 'RTS':\n",
    "        return '{:,}'.format(round(pred_error['RTS'][0], 2))\n",
    "    elif value == 'EC':\n",
    "        return '{:,}'.format(round(pred_error['ECOM'][0], 2))\n",
    "\n",
    "pred_error_scorecard(value='EC')"
   ]
  },
  {
   "cell_type": "code",
   "execution_count": 21,
   "id": "60c6d64b",
   "metadata": {},
   "outputs": [
    {
     "data": {
      "text/plain": [
       "'10,000'"
      ]
     },
     "execution_count": 21,
     "metadata": {},
     "output_type": "execute_result"
    }
   ],
   "source": [
    "t = 10000\n",
    "'{:,}'.format(t)"
   ]
  }
 ],
 "metadata": {
  "kernelspec": {
   "display_name": "Python 3.10.4 ('capstone_env')",
   "language": "python",
   "name": "python3"
  },
  "language_info": {
   "codemirror_mode": {
    "name": "ipython",
    "version": 3
   },
   "file_extension": ".py",
   "mimetype": "text/x-python",
   "name": "python",
   "nbconvert_exporter": "python",
   "pygments_lexer": "ipython3",
   "version": "3.10.4"
  },
  "vscode": {
   "interpreter": {
    "hash": "2def621223592bab3076fe8a7b46a545eabdd895ba8f6b5954ffd7644e6e7c58"
   }
  }
 },
 "nbformat": 4,
 "nbformat_minor": 5
}
