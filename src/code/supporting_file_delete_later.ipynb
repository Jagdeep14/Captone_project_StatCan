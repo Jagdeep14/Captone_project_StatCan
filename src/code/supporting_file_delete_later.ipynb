{
 "cells": [
  {
   "cell_type": "code",
   "execution_count": 1,
   "id": "234658c3-1265-4abb-99a7-9c5353650103",
   "metadata": {},
   "outputs": [],
   "source": [
    "import pandas as pd"
   ]
  },
  {
   "cell_type": "code",
   "execution_count": 12,
   "id": "fb0e7ba9",
   "metadata": {},
   "outputs": [
    {
     "data": {
      "text/html": [
       "<div>\n",
       "<style scoped>\n",
       "    .dataframe tbody tr th:only-of-type {\n",
       "        vertical-align: middle;\n",
       "    }\n",
       "\n",
       "    .dataframe tbody tr th {\n",
       "        vertical-align: top;\n",
       "    }\n",
       "\n",
       "    .dataframe thead th {\n",
       "        text-align: right;\n",
       "    }\n",
       "</style>\n",
       "<table border=\"1\" class=\"dataframe\">\n",
       "  <thead>\n",
       "    <tr style=\"text-align: right;\">\n",
       "      <th></th>\n",
       "      <th>GDP</th>\n",
       "      <th>RTS</th>\n",
       "      <th>ECOM</th>\n",
       "    </tr>\n",
       "  </thead>\n",
       "  <tbody>\n",
       "    <tr>\n",
       "      <th>0</th>\n",
       "      <td>62278.51902</td>\n",
       "      <td>2.256763e+06</td>\n",
       "      <td>351825.302926</td>\n",
       "    </tr>\n",
       "  </tbody>\n",
       "</table>\n",
       "</div>"
      ],
      "text/plain": [
       "           GDP           RTS           ECOM\n",
       "0  62278.51902  2.256763e+06  351825.302926"
      ]
     },
     "execution_count": 12,
     "metadata": {},
     "output_type": "execute_result"
    }
   ],
   "source": [
    "pred_error_path = '../../data/storeddata/PredictionErrors.csv'\n",
    "pred_error = pd.read_csv(pred_error_path)\n",
    "pred_error"
   ]
  },
  {
   "cell_type": "code",
   "execution_count": 15,
   "id": "9138c2c8",
   "metadata": {},
   "outputs": [
    {
     "data": {
      "text/plain": [
       "62278.51901989501"
      ]
     },
     "execution_count": 15,
     "metadata": {},
     "output_type": "execute_result"
    }
   ],
   "source": [
    "pred_error['GDP'][0]"
   ]
  },
  {
   "cell_type": "code",
   "execution_count": 28,
   "id": "2323e59a",
   "metadata": {},
   "outputs": [
    {
     "data": {
      "text/plain": [
       "'351,825.3'"
      ]
     },
     "execution_count": 28,
     "metadata": {},
     "output_type": "execute_result"
    }
   ],
   "source": [
    "pred_error_path = '../../data/storeddata/PredictionErrors.csv'\n",
    "pred_error = pd.read_csv(pred_error_path)\n",
    "\n",
    "def pred_error_scorecard(value='GDP'):\n",
    "    \"\"\"function returns the prediction error of the desired indicator value\"\"\"\n",
    "    if value == 'GDP':\n",
    "        return '{:,}'.format(round(pred_error['GDP'][0], 2))\n",
    "    elif value == 'RTS':\n",
    "        return '{:,}'.format(round(pred_error['RTS'][0], 2))\n",
    "    elif value == 'EC':\n",
    "        return '{:,}'.format(round(pred_error['ECOM'][0], 2))\n",
    "\n",
    "pred_error_scorecard(value='EC')"
   ]
  },
  {
   "cell_type": "code",
   "execution_count": 21,
   "id": "60c6d64b",
   "metadata": {},
   "outputs": [
    {
     "data": {
      "text/plain": [
       "'10,000'"
      ]
     },
     "execution_count": 21,
     "metadata": {},
     "output_type": "execute_result"
    }
   ],
   "source": [
    "t = 10000\n",
    "'{:,}'.format(t)"
   ]
  }
 ],
 "metadata": {
  "kernelspec": {
   "display_name": "Python 3.10.4 ('capstone_env')",
   "language": "python",
   "name": "python3"
  },
  "language_info": {
   "codemirror_mode": {
    "name": "ipython",
    "version": 3
   },
   "file_extension": ".py",
   "mimetype": "text/x-python",
   "name": "python",
   "nbconvert_exporter": "python",
   "pygments_lexer": "ipython3",
   "version": "3.10.4"
  },
  "vscode": {
   "interpreter": {
    "hash": "2def621223592bab3076fe8a7b46a545eabdd895ba8f6b5954ffd7644e6e7c58"
   }
  }
 },
 "nbformat": 4,
 "nbformat_minor": 5
}
