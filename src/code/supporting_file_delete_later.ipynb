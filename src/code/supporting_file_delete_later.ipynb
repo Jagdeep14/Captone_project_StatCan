{
 "cells": [
  {
   "cell_type": "code",
   "execution_count": 1,
   "id": "234658c3-1265-4abb-99a7-9c5353650103",
   "metadata": {},
   "outputs": [],
   "source": []
  },
  {
   "cell_type": "code",
   "execution_count": null,
   "id": "fb0e7ba9",
   "metadata": {},
   "outputs": [],
   "source": []
  }
 ],
 "metadata": {
  "kernelspec": {
   "display_name": "Python 3.10.4 ('capstone_env')",
   "language": "python",
   "name": "python3"
  },
  "language_info": {
   "codemirror_mode": {
    "name": "ipython",
    "version": 3
   },
   "file_extension": ".py",
   "mimetype": "text/x-python",
   "name": "python",
   "nbconvert_exporter": "python",
   "pygments_lexer": "ipython3",
   "version": "3.10.4"
  },
  "vscode": {
   "interpreter": {
    "hash": "2def621223592bab3076fe8a7b46a545eabdd895ba8f6b5954ffd7644e6e7c58"
   }
  }
 },
 "nbformat": 4,
 "nbformat_minor": 5
}
