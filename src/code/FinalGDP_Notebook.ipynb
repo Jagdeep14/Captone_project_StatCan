{
 "cells": [
  {
   "cell_type": "code",
   "execution_count": 8,
   "id": "e302b67b-0482-4d0c-b3da-c8a0b17df807",
   "metadata": {},
   "outputs": [],
   "source": [
    "# imports\n",
    "import pandas as pd\n",
    "import numpy as np\n",
    "import matplotlib.pyplot as plt\n",
    "import json\n",
    "import time\n",
    "\n",
    "from statistics import mean, stdev\n",
    "from pytrends.request import TrendReq\n",
    "from urllib3.exceptions import MaxRetryError\n",
    "\n",
    "from statsmodels.tsa.stattools import adfuller, kpss\n",
    "import statsmodels.api as sm\n",
    "\n",
    "from sklearn.decomposition import PCA\n",
    "from sklearn.preprocessing import StandardScaler\n",
    "from sklearn.model_selection import train_test_split\n",
    "\n",
    "import warnings\n",
    "\n",
    "# our modules\n",
    "from plotSeries import *\n",
    "from checkStationarity import *\n",
    "from GoogleTrendsData import *\n",
    "from makeDataQuarterly import *\n",
    "from makeSeriesStationary import *\n",
    "from predictorsSelection import *\n",
    "from dataPreProcessing import *\n",
    "from tsModels import *\n",
    "from rollingPredictionfuns import *\n",
    "from fittedAndPredictedValuefuns import *\n",
    "from bootstrapfuns import *"
   ]
  },
  {
   "cell_type": "markdown",
   "id": "a6443cb3-75c4-4131-9903-c5d725d71ca1",
   "metadata": {},
   "source": [
    "# 1. Read data (StatCan)"
   ]
  },
  {
   "cell_type": "code",
   "execution_count": 3,
   "id": "48faa0f2-d11a-479e-b467-f895b0b503ef",
   "metadata": {},
   "outputs": [],
   "source": [
    "# Read GDP data\n",
    "warnings.filterwarnings(\"ignore\")\n",
    "gdp_path = '../../data/expenditure/expenditure_gdp.csv'\n",
    "gdp = pd.read_csv(gdp_path)\n",
    "gdp['REF_DATE'] = pd.to_datetime(gdp['REF_DATE'])\n",
    "\n",
    "# filter data\n",
    "gdp_subset = gdp[(gdp['REF_DATE'] >= '2004-01-01') &\n",
    "                (gdp['Prices'] == 'Chained (2012) dollars') & \n",
    "                (gdp['Estimates'] == 'Gross domestic product at market prices') &\n",
    "                 (gdp['UOM'] == 'Dollars')]\n",
    "gdpts = gdp_subset[['REF_DATE', 'VALUE']]\n",
    "\n",
    "# rename columns\n",
    "gdpts = gdpts.rename(columns = {'REF_DATE': 'Date', 'VALUE': 'GDP'})\n",
    "gdpts.index = gdpts['Date']\n",
    "gdpts = gdpts.drop(columns = ['Date'])\n",
    "\n",
    "# create copy of original data to use later\n",
    "gdp_original = gdpts.copy()\n",
    "\n",
    "# calculate and add growth rate to the dataframe\n",
    "gdpts['GDP_GrowthRate'] = gdpts['GDP'].pct_change()\n",
    "gdpts = gdpts.dropna()\n",
    "\n",
    "# check sttaionarity of time series\n",
    "#check_stationarity(gdpts[['GDP_GrowthRate']])"
   ]
  },
  {
   "cell_type": "markdown",
   "id": "d99f79d5-00c9-4e45-ae6d-ed229fcbcf0d",
   "metadata": {},
   "source": [
    "# 2. Get Google Trends data"
   ]
  },
  {
   "cell_type": "markdown",
   "id": "6dc6b06f-9461-40ba-8479-9588c57aa8d0",
   "metadata": {},
   "source": [
    "#### API call to get predictors data for GDP "
   ]
  },
  {
   "cell_type": "code",
   "execution_count": 31,
   "id": "4883cd6c-fa5a-4575-a2b0-06df1b1e1dfb",
   "metadata": {},
   "outputs": [],
   "source": [
    "# get caegories and keywords from csv file for GDP\n",
    "key_path = '../../data/keywords_data/GDP.csv'\n",
    "key_data = pd.read_csv(key_path)\n",
    "cat_lst = key_data['CatNo'].unique()                    # list of categories\n",
    "keywords_lst = key_data['Keywords'].dropna()            # list of selected keywords\n",
    "keyCat_lst = key_data['keywordCatNo'].astype('Int64').dropna()   # list of categories corresponding to keywords\n",
    "\n",
    "\n",
    "###################################################################################################\n",
    "# get dataframe of timeseries for categories (GDP)\n",
    "\n",
    "cat_queries_dict = {}\n",
    "cat_topics_dict = {}\n",
    "\n",
    "# get time series and related queries and topics of categories\n",
    "for i, category in enumerate(cat_lst):\n",
    "    category = str(category)\n",
    "    data, queries, topics = get_trends(category=category, related_queries=2, related_topics=2)\n",
    "    cat_queries_dict[category] = queries\n",
    "    cat_topics_dict[category] = topics\n",
    "\n",
    "    # Code to append data for different columns in data frame\n",
    "    if i == 0:\n",
    "        data.rename(columns={'': category}, inplace=True)\n",
    "        categoryts = data.drop(columns=['isPartial'])\n",
    "    else:\n",
    "        data.rename(columns={'': category}, inplace=True)\n",
    "        data = data.drop(columns=['isPartial'])\n",
    "        categoryts = categoryts.join(data)"
   ]
  },
  {
   "cell_type": "code",
   "execution_count": 34,
   "id": "693d9be3-1c8c-4f41-9b8a-22e0011804b7",
   "metadata": {},
   "outputs": [],
   "source": [
    "# write data to csv\n",
    "categoryts.to_csv('gdp_category_ts.csv')"
   ]
  },
  {
   "cell_type": "code",
   "execution_count": 4,
   "id": "0b789f19-7470-4f99-bf58-6748efb79f5b",
   "metadata": {},
   "outputs": [],
   "source": [
    "# Read data from csv\n",
    "categoryts = pd.read_csv('gdp_category_ts.csv', index_col=0)"
   ]
  },
  {
   "cell_type": "markdown",
   "id": "cbb41213-8ef3-426d-84be-08b5305078ac",
   "metadata": {},
   "source": [
    "# 3. Make data stationary"
   ]
  },
  {
   "cell_type": "code",
   "execution_count": 6,
   "id": "bbf094f0-3337-4ef3-bf78-13c2b72d624f",
   "metadata": {},
   "outputs": [],
   "source": [
    "# GDP\n",
    "\n",
    "# select predictors and make them stationary\n",
    "less_predictors = select_variables_with_correlation(gdpts, categoryts)\n",
    "temp_cat = get_gdp_data_quarterly(less_predictors, match='0')\n",
    "tempcat = remove_seasonality(detrend(normalize(temp_cat)))\n",
    "\n",
    "# response\n",
    "response = gdpts[['GDP_GrowthRate']]\n",
    "\n",
    "# Make predictors dataframe in right form\n",
    "predictor = make_predictors_df(tempcat)"
   ]
  },
  {
   "cell_type": "markdown",
   "id": "62219645-2879-47a6-90ac-e5c2579a45da",
   "metadata": {},
   "source": [
    "# 4. Model fit"
   ]
  },
  {
   "cell_type": "markdown",
   "id": "ba0e6fdb-24ba-4e53-862c-7556348c1fd0",
   "metadata": {},
   "source": [
    "### GDP"
   ]
  },
  {
   "cell_type": "code",
   "execution_count": null,
   "id": "0037688b-4349-48b9-bbcc-c75575a13488",
   "metadata": {},
   "outputs": [],
   "source": [
    "# Apply DFM\n",
    "factors = apply_dfm(predictor, num_factors=20, order_factors=1)\n",
    "\n",
    "# split train, test and extra test set (use 13 factors as predictors)\n",
    "train, test, extra_test = ts_train_test_split(response, factors.iloc[:, 0:13], test_size=0.2)\n",
    "\n",
    "modelfit = fit_arima_model(train)\n",
    "pred_gdpGrowth = rolling_prediction(train, test, extra_test)\n",
    "pred_error, fig, fitted_predicted_data = fitted_and_predicted_gdp(modelfit, pred_gdpGrowth, gdp_original, train, test, extra_test)\n",
    "pred_error"
   ]
  },
  {
   "cell_type": "code",
   "execution_count": null,
   "id": "45b4d894-4316-440e-ad70-6825887aa6e5",
   "metadata": {},
   "outputs": [],
   "source": [
    "# Bootstrap for GDP\n",
    "\n",
    "# create bootstrap samples\n",
    "bs_samples = get_bootstrap_samples(train, n_sample=100, rs=None)  # RandomState(1234)\n",
    "\n",
    "# get predicted growth rate uisng bootstrap samples\n",
    "predicted_growth_df = pd.DataFrame(columns=list(range(0, len(bs_samples))))\n",
    "for i, df in enumerate(bs_samples):\n",
    "    predicted_growth_temp = rolling_prediction(df, test, extra_test, dependent_var='GDP_GrowthRate')\n",
    "    predicted_growth_df.iloc[:, i] = predicted_growth_temp[0]\n",
    "\n",
    "# get predicted gdp value for bootstrap samples\n",
    "predicted_gdp_df_bs = pd.DataFrame(columns=list(range(0, len(bs_samples))))\n",
    "for i, df in enumerate(bs_samples):\n",
    "    predicted_growth_rate_temp = predicted_growth_df[[i]].rename(columns={i: 0})\n",
    "    _, _, gdp_data = fitted_and_predicted_gdp(modelfit, predicted_growth_rate_temp, gdp_original, train, test, extra_test)\n",
    "    predicted_gdp_df_bs.iloc[:, i] = gdp_data['Predicted GDP'].dropna()\n",
    "\n",
    "fig1, data = growth_rate_plot_and_data_bs(predicted_growth_df=predicted_growth_df,\n",
    "                              lower_q = 0.025,\n",
    "                              upper_q = 0.975,\n",
    "                              modelfit= modelfit, \n",
    "                              gdpts = gdpts, \n",
    "                              train = train,\n",
    "                              pred_gdpGrowth = pred_gdpGrowth)\n",
    "fig2, pred_gdp_data = gdp_plot_and_data_bs(modelfit, pred_gdpGrowth, gdp_original, train, test, extra_test, predicted_gdp_df_bs,\n",
    "                                          lower_q = 0.025, upper_q = 0.975)"
   ]
  },
  {
   "cell_type": "code",
   "execution_count": null,
   "id": "af6bd64f-373c-47ed-a87d-d171ba8b00f5",
   "metadata": {},
   "outputs": [],
   "source": []
  }
 ],
 "metadata": {
  "kernelspec": {
   "display_name": "Python 3 (ipykernel)",
   "language": "python",
   "name": "python3"
  },
  "language_info": {
   "codemirror_mode": {
    "name": "ipython",
    "version": 3
   },
   "file_extension": ".py",
   "mimetype": "text/x-python",
   "name": "python",
   "nbconvert_exporter": "python",
   "pygments_lexer": "ipython3",
   "version": "3.8.13"
  }
 },
 "nbformat": 4,
 "nbformat_minor": 5
}
