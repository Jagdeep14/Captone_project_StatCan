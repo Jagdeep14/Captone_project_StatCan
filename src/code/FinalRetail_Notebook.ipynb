{
 "cells": [
  {
   "cell_type": "code",
   "execution_count": 1,
   "id": "e44506f6-7634-4ff9-b647-a631f61c9607",
   "metadata": {},
   "outputs": [],
   "source": [
    "# Imports\n",
    "\n",
    "import pandas as pd\n",
    "import numpy as np\n",
    "import matplotlib.pyplot as plt\n",
    "import json\n",
    "import time\n",
    "from statistics import mean, stdev\n",
    "from pytrends.request import TrendReq\n",
    "from urllib3.exceptions import MaxRetryError\n",
    "\n",
    "from statsmodels.tsa.stattools import adfuller, kpss\n",
    "import statsmodels.api as sm\n",
    "\n",
    "from sklearn.decomposition import PCA\n",
    "from sklearn.preprocessing import StandardScaler\n",
    "\n",
    "from statsmodels.graphics.tsaplots import *\n",
    "from statsmodels.tsa.arima.model import ARIMA\n",
    "\n",
    "from sklearn.model_selection import train_test_split\n",
    "import statsmodels.api as sm\n",
    "from scipy.stats import pearsonr\n",
    "import warnings\n",
    "\n",
    "from sklearn.ensemble import RandomForestRegressor\n",
    "from sklearn.linear_model import Lasso\n",
    "import xgboost as xgb\n",
    "from xgboost import XGBRegressor\n",
    "from xgboost import plot_importance, plot_tree\n",
    "from arch.bootstrap import optimal_block_length, CircularBlockBootstrap\n",
    "from numpy.random import RandomState\n",
    "\n",
    "import seaborn as sns"
   ]
  },
  {
   "cell_type": "code",
   "execution_count": 4,
   "id": "24073563-acb7-4e0e-853c-162628897660",
   "metadata": {},
   "outputs": [],
   "source": [
    "# Reading file\n",
    "retailsales=pd.read_csv('../../data/retailsalesbyIndustry/retailSalesbyIndustry.csv')\n",
    "\n",
    "# Renaming columns as required\n",
    "retailsales.rename(columns = {'REF_DATE':'date', \n",
    "                                            'GEO':'LOCATION',\n",
    "                                            'North American Industry Classification System (NAICS)':'INDUSTRY',\n",
    "                                            'Adjustments':'ADJUSTMENTS'\n",
    "                                           },inplace = True)\n",
    "\n",
    "# Filtering columns as needed and extracting required columns\n",
    "retailsales_filtered=retailsales[(retailsales['LOCATION'] == 'Canada') & \n",
    "                 (retailsales['INDUSTRY'] == 'Retail trade [44-45]')&\n",
    "                 (retailsales['ADJUSTMENTS'] == 'Seasonally adjusted')&\n",
    "                 (retailsales['date'] >= '2004-01')]\n",
    "retailsales_final = retailsales_filtered[['date', 'VALUE']].copy()\n",
    "\n",
    "#Changing data type of date\n",
    "retailsales_final['date'] =  pd.to_datetime(retailsales_final['date'])\n",
    "retailsales_final = retailsales_final.set_index('date')\n",
    "\n",
    "#Copying data for further use\n",
    "retailsales_initial = retailsales_final.copy()"
   ]
  },
  {
   "cell_type": "code",
   "execution_count": null,
   "id": "1e33bbf1-8421-4a27-8c4c-aebae231637f",
   "metadata": {},
   "outputs": [],
   "source": []
  }
 ],
 "metadata": {
  "kernelspec": {
   "display_name": "Python 3 (ipykernel)",
   "language": "python",
   "name": "python3"
  },
  "language_info": {
   "codemirror_mode": {
    "name": "ipython",
    "version": 3
   },
   "file_extension": ".py",
   "mimetype": "text/x-python",
   "name": "python",
   "nbconvert_exporter": "python",
   "pygments_lexer": "ipython3",
   "version": "3.8.13"
  }
 },
 "nbformat": 4,
 "nbformat_minor": 5
}
