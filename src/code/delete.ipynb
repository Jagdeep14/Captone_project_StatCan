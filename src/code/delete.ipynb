{
 "cells": [
  {
   "cell_type": "code",
   "execution_count": 1,
   "id": "13b888c5-964c-413b-8edd-0531f8ef4227",
   "metadata": {},
   "outputs": [],
   "source": [
    "from dashboard_scorecard import * "
   ]
  },
  {
   "cell_type": "code",
   "execution_count": 2,
   "id": "37210402-f9b5-45a4-868c-502fc4446a73",
   "metadata": {},
   "outputs": [
    {
     "data": {
      "text/plain": [
       "60161762.15473677"
      ]
     },
     "execution_count": 2,
     "metadata": {},
     "output_type": "execute_result"
    }
   ],
   "source": [
    "indicator_value_scorecard(value='RTS', from_year=2020, end_year = pd.to_datetime(datetime.today().strftime('%Y-%m-%d')).year)"
   ]
  },
  {
   "cell_type": "code",
   "execution_count": 5,
   "id": "181eb2b3-4034-4986-97bb-940c79a98ea0",
   "metadata": {},
   "outputs": [
    {
     "data": {
      "text/plain": [
       "0.0198516669155819"
      ]
     },
     "execution_count": 5,
     "metadata": {},
     "output_type": "execute_result"
    }
   ],
   "source": [
    "indicator_growth_rate_scorecard(value='EC', from_year=2020, end_year = pd.to_datetime(datetime.today().strftime('%Y-%m-%d')).year)"
   ]
  },
  {
   "cell_type": "code",
   "execution_count": null,
   "id": "303909a5-9423-42ec-9493-3267a24346b5",
   "metadata": {},
   "outputs": [],
   "source": []
  },
  {
   "cell_type": "code",
   "execution_count": null,
   "id": "b564c735-cf4a-4cc3-8762-a98e03715455",
   "metadata": {},
   "outputs": [],
   "source": []
  },
  {
   "cell_type": "code",
   "execution_count": 22,
   "id": "19e735b1-c348-4d3f-b580-c8c437214bf8",
   "metadata": {},
   "outputs": [],
   "source": [
    "### Read data for all the indicators\n",
    "gdp_value_path = '../../data/storeddata/GDP_ValueResults.csv'\n",
    "gdp_value = pd.read_csv(gdp_value_path, index_col=0)\n",
    "gdp_value.index = pd.to_datetime(gdp_value.index)\n",
    "rts_value_path = '../../data/storeddata/RTS_ValueResults.csv'\n",
    "rts_value = pd.read_csv(rts_value_path, index_col=0)\n",
    "rts_value.index = pd.to_datetime(rts_value.index)\n",
    "ec_value_path = '../../data/storeddata/EComm_ValueResults.csv'\n",
    "ec_value = pd.read_csv(ec_value_path, index_col=0)\n",
    "ec_value.index = pd.to_datetime(ec_value.index)"
   ]
  },
  {
   "cell_type": "code",
   "execution_count": 25,
   "id": "26d5d8bf-00b9-4275-9ba0-ea722fc73ec2",
   "metadata": {},
   "outputs": [],
   "source": [
    "def indicator_value_scorecard(value='GDP', from_year=2004, end_year = pd.to_datetime(datetime.today().strftime('%Y-%m-%d')).year):\n",
    "    \"\"\" function selects required data and returns the desired indicator's value plot for provided year range\"\"\"\n",
    "    if value == 'GDP':\n",
    "        data = gdp_value\n",
    "        actual_name = \"Actual GDP\"\n",
    "        predicted_name = \"Predicted GDP\"\n",
    "        \n",
    "        data=data[(data.index.year >= from_year) & (data.index.year <= end_year)]\n",
    "\n",
    "        predicted_value = data.tail()[data.tail()['Actual GDP'].isna()].head(1)['Predicted GDP'][0]\n",
    "\n",
    "    elif value == 'RTS':\n",
    "        data = rts_value\n",
    "        actual_name = \"Actual Retail Sales\"\n",
    "        predicted_name = \"Predicted Retail Sales\"\n",
    "       \n",
    "        data=data[(data.index.year >= from_year) & (data.index.year <= end_year)]\n",
    "\n",
    "        predicted_value = data.tail()[data.tail()['Actual Retail Sales'].isna()].head(1)['Predicted Retail Sales'][0]\n",
    "\n",
    "    elif value == 'EC':\n",
    "        data = ec_value\n",
    "        actual_name = \"Actual Ecommerce\"\n",
    "        predicted_name = \"Predicted Ecommerce\"\n",
    "            \n",
    "        data=data[(data.index.year >= from_year) & (data.index.year <= end_year)]\n",
    "\n",
    "        predicted_value = data.tail()[data.tail()['Actual Ecommerce'].isna()].head(1)['Predicted Ecommerce'][0]\n",
    "    return predicted_value"
   ]
  },
  {
   "cell_type": "code",
   "execution_count": 31,
   "id": "346141e7-112d-4a57-aa0d-00be33805f6b",
   "metadata": {},
   "outputs": [
    {
     "data": {
      "text/plain": [
       "60161762.15473677"
      ]
     },
     "execution_count": 31,
     "metadata": {},
     "output_type": "execute_result"
    }
   ],
   "source": [
    "indicator_value_scorecard(value='RTS', from_year=2020, end_year = pd.to_datetime(datetime.today().strftime('%Y-%m-%d')).year)"
   ]
  },
  {
   "cell_type": "code",
   "execution_count": null,
   "id": "9c2cc7ae-a006-41fe-9948-2462018f95fa",
   "metadata": {},
   "outputs": [],
   "source": []
  }
 ],
 "metadata": {
  "interpreter": {
   "hash": "6966c9e2b1adb07241db05a35d2af4e2841337522f896ca594d5b97ff299cdd9"
  },
  "kernelspec": {
   "display_name": "Python 3.8.13 ('cap')",
   "language": "python",
   "name": "python3"
  },
  "language_info": {
   "codemirror_mode": {
    "name": "ipython",
    "version": 3
   },
   "file_extension": ".py",
   "mimetype": "text/x-python",
   "name": "python",
   "nbconvert_exporter": "python",
   "pygments_lexer": "ipython3",
   "version": "3.8.13"
  }
 },
 "nbformat": 4,
 "nbformat_minor": 5
}
