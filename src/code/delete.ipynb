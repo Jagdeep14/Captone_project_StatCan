{
 "cells": [
  {
   "cell_type": "code",
   "execution_count": 1,
   "id": "13b888c5-964c-413b-8edd-0531f8ef4227",
   "metadata": {},
   "outputs": [],
   "source": [
    "from dashboard_scorecard import * "
   ]
  },
  {
   "cell_type": "code",
   "execution_count": 2,
   "id": "37210402-f9b5-45a4-868c-502fc4446a73",
   "metadata": {},
   "outputs": [
    {
     "data": {
      "text/plain": [
       "60161762.15473677"
      ]
     },
     "execution_count": 2,
     "metadata": {},
     "output_type": "execute_result"
    }
   ],
   "source": [
    "indicator_value_scorecard(value='RTS', from_year=2020, end_year = pd.to_datetime(datetime.today().strftime('%Y-%m-%d')).year)"
   ]
  },
  {
   "cell_type": "code",
   "execution_count": 5,
   "id": "181eb2b3-4034-4986-97bb-940c79a98ea0",
   "metadata": {},
   "outputs": [
    {
     "data": {
      "text/plain": [
       "0.0198516669155819"
      ]
     },
     "execution_count": 5,
     "metadata": {},
     "output_type": "execute_result"
    }
   ],
   "source": [
    "indicator_growth_rate_scorecard(value='EC', from_year=2020, end_year = pd.to_datetime(datetime.today().strftime('%Y-%m-%d')).year)"
   ]
  },
  {
   "cell_type": "code",
   "execution_count": null,
   "id": "303909a5-9423-42ec-9493-3267a24346b5",
   "metadata": {},
   "outputs": [],
   "source": []
  },
  {
   "cell_type": "code",
   "execution_count": null,
   "id": "b564c735-cf4a-4cc3-8762-a98e03715455",
   "metadata": {},
   "outputs": [],
   "source": []
  },
  {
   "cell_type": "code",
   "execution_count": 22,
   "id": "19e735b1-c348-4d3f-b580-c8c437214bf8",
   "metadata": {},
   "outputs": [],
   "source": [
    "### Read data for all the indicators\n",
    "gdp_value_path = '../../data/storeddata/GDP_ValueResults.csv'\n",
    "gdp_value = pd.read_csv(gdp_value_path, index_col=0)\n",
    "gdp_value.index = pd.to_datetime(gdp_value.index)\n",
    "rts_value_path = '../../data/storeddata/RTS_ValueResults.csv'\n",
    "rts_value = pd.read_csv(rts_value_path, index_col=0)\n",
    "rts_value.index = pd.to_datetime(rts_value.index)\n",
    "ec_value_path = '../../data/storeddata/EComm_ValueResults.csv'\n",
    "ec_value = pd.read_csv(ec_value_path, index_col=0)\n",
    "ec_value.index = pd.to_datetime(ec_value.index)"
   ]
  },
  {
   "cell_type": "code",
   "execution_count": 25,
   "id": "26d5d8bf-00b9-4275-9ba0-ea722fc73ec2",
   "metadata": {},
   "outputs": [],
   "source": [
    "def indicator_value_scorecard(value='GDP', from_year=2004, end_year = pd.to_datetime(datetime.today().strftime('%Y-%m-%d')).year):\n",
    "    \"\"\" function selects required data and returns the desired indicator's value plot for provided year range\"\"\"\n",
    "    if value == 'GDP':\n",
    "        data = gdp_value\n",
    "        actual_name = \"Actual GDP\"\n",
    "        predicted_name = \"Predicted GDP\"\n",
    "        \n",
    "        data=data[(data.index.year >= from_year) & (data.index.year <= end_year)]\n",
    "\n",
    "        predicted_value = data.tail()[data.tail()['Actual GDP'].isna()].head(1)['Predicted GDP'][0]\n",
    "\n",
    "    elif value == 'RTS':\n",
    "        data = rts_value\n",
    "        actual_name = \"Actual Retail Sales\"\n",
    "        predicted_name = \"Predicted Retail Sales\"\n",
    "       \n",
    "        data=data[(data.index.year >= from_year) & (data.index.year <= end_year)]\n",
    "\n",
    "        predicted_value = data.tail()[data.tail()['Actual Retail Sales'].isna()].head(1)['Predicted Retail Sales'][0]\n",
    "\n",
    "    elif value == 'EC':\n",
    "        data = ec_value\n",
    "        actual_name = \"Actual Ecommerce\"\n",
    "        predicted_name = \"Predicted Ecommerce\"\n",
    "            \n",
    "        data=data[(data.index.year >= from_year) & (data.index.year <= end_year)]\n",
    "\n",
    "        predicted_value = data.tail()[data.tail()['Actual Ecommerce'].isna()].head(1)['Predicted Ecommerce'][0]\n",
    "    return predicted_value"
   ]
  },
  {
   "cell_type": "code",
   "execution_count": 31,
   "id": "346141e7-112d-4a57-aa0d-00be33805f6b",
   "metadata": {},
   "outputs": [
    {
     "data": {
      "text/plain": [
       "60161762.15473677"
      ]
     },
     "execution_count": 31,
     "metadata": {},
     "output_type": "execute_result"
    }
   ],
   "source": [
    "indicator_value_scorecard(value='RTS', from_year=2020, end_year = pd.to_datetime(datetime.today().strftime('%Y-%m-%d')).year)"
   ]
  },
  {
   "cell_type": "code",
   "execution_count": 32,
   "id": "9c2cc7ae-a006-41fe-9948-2462018f95fa",
   "metadata": {},
   "outputs": [],
   "source": [
    "import pandas as pd\n",
    "import math\n",
    "\n",
    "\n",
    "\n",
    "IndicatorGrowth_gdp = pd.read_csv('../../data/storeddata/GDP_GrowthRateResults.csv')\n",
    "IndicatorGrowth_rts = pd.read_csv('../../data/storeddata/RTS_GrowthRateREsults.csv')\n",
    "IndicatorGrowth_ec = pd.read_csv('../../data/storeddata/Ecomm_GrowthRateResults.csv')\n",
    "\n",
    "\n",
    "def date_for_score_card(indicator):\n",
    "    \"\"\" returns the number of predicted growth rates to color those rows\"\"\"\n",
    "\n",
    "    if indicator == \"GDP\":\n",
    "        IndicatorGrowth = gdp_growth\n",
    "    if indicator == \"RTS\":\n",
    "        IndicatorGrowth = IndicatorGrowth_rts\n",
    "    if indicator == \"EC\":\n",
    "        IndicatorGrowth = IndicatorGrowth_ec\n",
    "\n",
    "    months_dict = {'1': 'Jan', '2': 'Feb', '3': 'Mar', '4': 'Apr', '5': 'May', '6': 'Jun', '7': 'Jul', '8':'Aug', \n",
    "                    '9': 'Sep', '10': 'Oct', '11': 'Nov', '12': 'Dec'}\n",
    "    req_date = pd.to_datetime(IndicatorGrowth[IndicatorGrowth.iloc[:,1].isna()].iloc[0,0])\n",
    "    temp_date = months_dict[str(req_date.month)]+\"-\"+str(req_date.year)\n",
    "    return temp_date"
   ]
  },
  {
   "cell_type": "code",
   "execution_count": 33,
   "id": "cef2a9dd",
   "metadata": {},
   "outputs": [
    {
     "data": {
      "text/plain": [
       "'Jan-1970'"
      ]
     },
     "execution_count": 33,
     "metadata": {},
     "output_type": "execute_result"
    }
   ],
   "source": [
    "date_for_score_card('GDP')\n"
   ]
  },
  {
   "cell_type": "code",
   "execution_count": 54,
   "id": "252b60e7",
   "metadata": {},
   "outputs": [],
   "source": [
    "import pandas as pd \n",
    "import math\n",
    "IndicatorValues_gdp = pd.read_csv('../../data/storeddata/GDP_ValueResults.csv')\n",
    "IndicatorGrowth_gdp = pd.read_csv('../../data/storeddata/GDP_GrowthRateResults.csv')"
   ]
  },
  {
   "cell_type": "code",
   "execution_count": 55,
   "id": "92a5f4bc",
   "metadata": {},
   "outputs": [],
   "source": [
    "def ValueTable(indicator):\n",
    "    \"\"\" The dashboard`s Value and Prediction Interval table\"\"\"\n",
    "\n",
    "    if indicator == \"GDP\":\n",
    "        IndicatorValues = IndicatorValues_gdp\n",
    "    if indicator == \"RTS\":\n",
    "        IndicatorValues = IndicatorValues_rts\n",
    "    if indicator == \"EC\":\n",
    "        IndicatorValues = IndicatorValues_ec\n",
    "\n",
    "    IndicatorValues = IndicatorValues.tail(5)        \n",
    "    IndicatorValues_Table = IndicatorValues.iloc[:,[0,1,3,4,5,6]]\n",
    "    IndicatorValues_Table.rename(columns={list(IndicatorValues_Table)[0]:'Date'}, inplace=True)\n",
    "    IndicatorValues_Table.rename(columns={list(IndicatorValues_Table)[2]:'Predicted Value'}, inplace=True)\n",
    "    IndicatorValues_Table.rename(columns={list(IndicatorValues_Table)[3]:'Prediction Interval (2.5%)'}, inplace=True)\n",
    "    IndicatorValues_Table.rename(columns={list(IndicatorValues_Table)[4]:'Prediction Interval (97.5%)'}, inplace=True)\n",
    "    #IndicatorValues_Table.reset_index(inplace=True)\n",
    "    IndicatorValues_Table.iloc[:, 2:] = round(IndicatorValues_Table.iloc[:,2:],0)\n",
    "    for i in range(1,6):\n",
    "        IndicatorValues_Table.iloc[:,i] = IndicatorValues_Table.iloc[:,i].map('{:,}'.format)\n",
    "\n",
    "    #IndicatorValues_Table.iloc[:,1] = IndicatorValues_Table.iloc[:,1].fillna(0)\n",
    "\n",
    "    months_dict = {'1': 'Jan', '2': 'Feb', '3': 'Mar', '4': 'Apr', '5': 'May', '6': 'Jun', '7': 'Jul', '8':'Aug', \n",
    "                    '9': 'Sep', '10': 'Oct', '11': 'Nov', '12': 'Dec'}\n",
    "    \n",
    "    IndicatorValues_Table = IndicatorValues_Table.reset_index()\n",
    "    temp_df = IndicatorValues_Table.copy()\n",
    "    temp_df.iloc[:,1] = pd.to_datetime(temp_df.iloc[:,1])\n",
    "    for i in range(0, IndicatorValues_Table.shape[0]):\n",
    "        month_temp = str(temp_df.iloc[:,1][i].month)\n",
    "        year_temp = str(temp_df.iloc[:,1][i].year)\n",
    "        IndicatorValues_Table.iloc[:,1][i] = months_dict[month_temp]+\"-\"+year_temp\n",
    "    IndicatorValues_Table.iloc[:,2] = IndicatorValues_Table.iloc[:,2].replace('nan', '-')\n",
    "    return IndicatorValues_Table.iloc[:,1:]\n",
    "\n",
    "def GrowthValueTable(indicator):\n",
    "    \"\"\" The dashboard`s Growth and Value table\"\"\"\n",
    "\n",
    "    if indicator == \"GDP\":\n",
    "        IndicatorValues = IndicatorValues_gdp\n",
    "        IndicatorGrowth = IndicatorGrowth_gdp\n",
    "        IndicatorGrowth.rename(columns={'GDP_GrowthRate': 'Growth Rate'}, inplace=True)\n",
    "        IndicatorValues.rename(columns={'Actual GDP': 'GDP Value'}, inplace=True)\n",
    "    if indicator == \"RTS\":\n",
    "        IndicatorValues = IndicatorValues_rts\n",
    "        IndicatorGrowth = IndicatorGrowth_rts\n",
    "        IndicatorGrowth.rename(columns={'GrowthRate': 'Growth Rate'}, inplace=True)\n",
    "        IndicatorValues.rename(columns={'Actual Retail Sales': 'RTS Value'}, inplace=True)\n",
    "    if indicator == \"EC\":\n",
    "        IndicatorValues = IndicatorValues_ec\n",
    "        IndicatorGrowth = IndicatorGrowth_ec\n",
    "        IndicatorGrowth.rename(columns={'Ecommerce_GrowthRate': 'Growth Rate'}, inplace=True)\n",
    "        IndicatorValues.rename(columns={'Actual Ecommerce': 'EC Sales Value'}, inplace=True)\n",
    "\n",
    "    GrowthValue_DF = pd.merge(IndicatorGrowth,IndicatorValues, left_index=True, right_index=True,how=\"left\")\n",
    "    GrowthRateResults_Table = GrowthValue_DF.tail(5)\n",
    "    GrowthRateResults_Table = GrowthRateResults_Table.iloc[:,[0,1,3,8,10]]\n",
    "\n",
    "    for i in range(len(GrowthRateResults_Table)):   \n",
    "        if math.isnan(GrowthRateResults_Table.iloc[i,1]):\n",
    "            GrowthRateResults_Table.iloc[i,1] = GrowthRateResults_Table.iloc[i,2]\n",
    "        if math.isnan(GrowthRateResults_Table.iloc[i,3]):\n",
    "            GrowthRateResults_Table.iloc[i,3] = GrowthRateResults_Table.iloc[i,4]\n",
    "        \n",
    "    GrowthRateResults_Table = GrowthRateResults_Table.iloc[:,[0,1,3]]\n",
    "    GrowthRateResults_Table.rename(columns={list(GrowthRateResults_Table)[0]:'Date'}, inplace=True)\n",
    "    GrowthRateResults_Table = round(GrowthRateResults_Table,4)\n",
    "    GrowthRateResults_Table.iloc[:, 2] = round(GrowthRateResults_Table.iloc[:,2], 0)\n",
    "    GrowthRateResults_Table.iloc[:,2] = GrowthRateResults_Table.iloc[:,2].map('{:,}'.format)\n",
    "    #GrowthRateResults_Table.reset_index(inplace=True)\n",
    "    \n",
    "    months_dict = {'1': 'Jan', '2': 'Feb', '3': 'Mar', '4': 'Apr', '5': 'May', '6': 'Jun', '7': 'Jul', '8':'Aug', \n",
    "                    '9': 'Sep', '10': 'Oct', '11': 'Nov', '12': 'Dec'}\n",
    "    \n",
    "    GrowthRateResults_Table = GrowthRateResults_Table.reset_index()\n",
    "    temp_df = GrowthRateResults_Table.copy()\n",
    "    temp_df.iloc[:,1] = pd.to_datetime(temp_df.iloc[:,1])\n",
    "    for i in range(0, GrowthRateResults_Table.shape[0]):\n",
    "        month_temp = str(temp_df.iloc[:,1][i].month)\n",
    "        year_temp = str(temp_df.iloc[:,1][i].year)\n",
    "        GrowthRateResults_Table.iloc[:,1][i] = months_dict[month_temp]+\"-\"+year_temp\n",
    "        \n",
    "    return GrowthRateResults_Table.iloc[:,1:]"
   ]
  },
  {
   "cell_type": "code",
   "execution_count": 56,
   "id": "d0e3ac03",
   "metadata": {},
   "outputs": [
    {
     "name": "stderr",
     "output_type": "stream",
     "text": [
      "C:\\Users\\sidhu\\AppData\\Local\\Temp\\ipykernel_18360\\2119719488.py:13: SettingWithCopyWarning: \n",
      "A value is trying to be set on a copy of a slice from a DataFrame\n",
      "\n",
      "See the caveats in the documentation: https://pandas.pydata.org/pandas-docs/stable/user_guide/indexing.html#returning-a-view-versus-a-copy\n",
      "  IndicatorValues_Table.rename(columns={list(IndicatorValues_Table)[0]:'Date'}, inplace=True)\n",
      "C:\\Users\\sidhu\\AppData\\Local\\Temp\\ipykernel_18360\\2119719488.py:14: SettingWithCopyWarning: \n",
      "A value is trying to be set on a copy of a slice from a DataFrame\n",
      "\n",
      "See the caveats in the documentation: https://pandas.pydata.org/pandas-docs/stable/user_guide/indexing.html#returning-a-view-versus-a-copy\n",
      "  IndicatorValues_Table.rename(columns={list(IndicatorValues_Table)[2]:'Predicted Value'}, inplace=True)\n",
      "C:\\Users\\sidhu\\AppData\\Local\\Temp\\ipykernel_18360\\2119719488.py:15: SettingWithCopyWarning: \n",
      "A value is trying to be set on a copy of a slice from a DataFrame\n",
      "\n",
      "See the caveats in the documentation: https://pandas.pydata.org/pandas-docs/stable/user_guide/indexing.html#returning-a-view-versus-a-copy\n",
      "  IndicatorValues_Table.rename(columns={list(IndicatorValues_Table)[3]:'Prediction Interval (2.5%)'}, inplace=True)\n",
      "C:\\Users\\sidhu\\AppData\\Local\\Temp\\ipykernel_18360\\2119719488.py:16: SettingWithCopyWarning: \n",
      "A value is trying to be set on a copy of a slice from a DataFrame\n",
      "\n",
      "See the caveats in the documentation: https://pandas.pydata.org/pandas-docs/stable/user_guide/indexing.html#returning-a-view-versus-a-copy\n",
      "  IndicatorValues_Table.rename(columns={list(IndicatorValues_Table)[4]:'Prediction Interval (97.5%)'}, inplace=True)\n",
      "C:\\Users\\sidhu\\AppData\\Local\\Temp\\ipykernel_18360\\2119719488.py:18: SettingWithCopyWarning: \n",
      "A value is trying to be set on a copy of a slice from a DataFrame.\n",
      "Try using .loc[row_indexer,col_indexer] = value instead\n",
      "\n",
      "See the caveats in the documentation: https://pandas.pydata.org/pandas-docs/stable/user_guide/indexing.html#returning-a-view-versus-a-copy\n",
      "  IndicatorValues_Table.iloc[:, 2:] = round(IndicatorValues_Table.iloc[:,2:],0)\n",
      "C:\\Users\\sidhu\\AppData\\Local\\Temp\\ipykernel_18360\\2119719488.py:20: SettingWithCopyWarning: \n",
      "A value is trying to be set on a copy of a slice from a DataFrame.\n",
      "Try using .loc[row_indexer,col_indexer] = value instead\n",
      "\n",
      "See the caveats in the documentation: https://pandas.pydata.org/pandas-docs/stable/user_guide/indexing.html#returning-a-view-versus-a-copy\n",
      "  IndicatorValues_Table.iloc[:,i] = IndicatorValues_Table.iloc[:,i].map('{:,}'.format)\n",
      "C:\\Users\\sidhu\\AppData\\Local\\Temp\\ipykernel_18360\\2119719488.py:33: SettingWithCopyWarning: \n",
      "A value is trying to be set on a copy of a slice from a DataFrame\n",
      "\n",
      "See the caveats in the documentation: https://pandas.pydata.org/pandas-docs/stable/user_guide/indexing.html#returning-a-view-versus-a-copy\n",
      "  IndicatorValues_Table.iloc[:,1][i] = months_dict[month_temp]+\"-\"+year_temp\n",
      "C:\\Users\\sidhu\\AppData\\Local\\Temp\\ipykernel_18360\\2119719488.py:82: SettingWithCopyWarning: \n",
      "A value is trying to be set on a copy of a slice from a DataFrame\n",
      "\n",
      "See the caveats in the documentation: https://pandas.pydata.org/pandas-docs/stable/user_guide/indexing.html#returning-a-view-versus-a-copy\n",
      "  GrowthRateResults_Table.iloc[:,1][i] = months_dict[month_temp]+\"-\"+year_temp\n"
     ]
    }
   ],
   "source": [
    "table = ValueTable('GDP')\n",
    "Table_new = GrowthValueTable('GDP')"
   ]
  },
  {
   "cell_type": "code",
   "execution_count": 52,
   "id": "a5cc0826",
   "metadata": {},
   "outputs": [
    {
     "data": {
      "text/html": [
       "<div>\n",
       "<style scoped>\n",
       "    .dataframe tbody tr th:only-of-type {\n",
       "        vertical-align: middle;\n",
       "    }\n",
       "\n",
       "    .dataframe tbody tr th {\n",
       "        vertical-align: top;\n",
       "    }\n",
       "\n",
       "    .dataframe thead th {\n",
       "        text-align: right;\n",
       "    }\n",
       "</style>\n",
       "<table border=\"1\" class=\"dataframe\">\n",
       "  <thead>\n",
       "    <tr style=\"text-align: right;\">\n",
       "      <th></th>\n",
       "      <th>Date</th>\n",
       "      <th>Actual GDP</th>\n",
       "      <th>Predicted Value</th>\n",
       "      <th>Prediction Interval (2.5%)</th>\n",
       "      <th>Prediction Interval (97.5%)</th>\n",
       "      <th>Mean (Prediction invertal)</th>\n",
       "    </tr>\n",
       "  </thead>\n",
       "  <tbody>\n",
       "    <tr>\n",
       "      <th>0</th>\n",
       "      <td>Apr-2021</td>\n",
       "      <td>2,105,022</td>\n",
       "      <td>2,102,476</td>\n",
       "      <td>2,066,558</td>\n",
       "      <td>2,139,636</td>\n",
       "      <td>2,105,022</td>\n",
       "    </tr>\n",
       "    <tr>\n",
       "      <th>1</th>\n",
       "      <td>Jul-2021</td>\n",
       "      <td>2,072,673</td>\n",
       "      <td>2,066,894</td>\n",
       "      <td>2,046,062</td>\n",
       "      <td>2,111,415</td>\n",
       "      <td>2,072,673</td>\n",
       "    </tr>\n",
       "    <tr>\n",
       "      <th>2</th>\n",
       "      <td>Oct-2021</td>\n",
       "      <td>2,134,075</td>\n",
       "      <td>2,131,479</td>\n",
       "      <td>2,104,846</td>\n",
       "      <td>2,161,802</td>\n",
       "      <td>2,134,075</td>\n",
       "    </tr>\n",
       "    <tr>\n",
       "      <th>3</th>\n",
       "      <td>Jan-2022</td>\n",
       "      <td>2,112,580</td>\n",
       "      <td>2,116,718</td>\n",
       "      <td>2,088,745</td>\n",
       "      <td>2,133,709</td>\n",
       "      <td>2,112,580</td>\n",
       "    </tr>\n",
       "    <tr>\n",
       "      <th>4</th>\n",
       "      <td>Apr-2022</td>\n",
       "      <td>2,165,520</td>\n",
       "      <td>2,163,537</td>\n",
       "      <td>2,131,550</td>\n",
       "      <td>2,197,859</td>\n",
       "      <td>2,165,520</td>\n",
       "    </tr>\n",
       "  </tbody>\n",
       "</table>\n",
       "</div>"
      ],
      "text/plain": [
       "       Date Actual GDP Predicted Value Prediction Interval (2.5%)  \\\n",
       "0  Apr-2021  2,105,022       2,102,476                  2,066,558   \n",
       "1  Jul-2021  2,072,673       2,066,894                  2,046,062   \n",
       "2  Oct-2021  2,134,075       2,131,479                  2,104,846   \n",
       "3  Jan-2022  2,112,580       2,116,718                  2,088,745   \n",
       "4  Apr-2022  2,165,520       2,163,537                  2,131,550   \n",
       "\n",
       "  Prediction Interval (97.5%) Mean (Prediction invertal)  \n",
       "0                   2,139,636                  2,105,022  \n",
       "1                   2,111,415                  2,072,673  \n",
       "2                   2,161,802                  2,134,075  \n",
       "3                   2,133,709                  2,112,580  \n",
       "4                   2,197,859                  2,165,520  "
      ]
     },
     "execution_count": 52,
     "metadata": {},
     "output_type": "execute_result"
    }
   ],
   "source": [
    "for i in range(1,6):\n",
    "    for j, value in enumerate(table.iloc[:,i]):\n",
    "        table.iloc[j,i] = value.split(\".\")[0]\n",
    "\n",
    "table"
   ]
  },
  {
   "cell_type": "code",
   "execution_count": 62,
   "id": "f651d82f",
   "metadata": {},
   "outputs": [
    {
     "data": {
      "text/html": [
       "<div>\n",
       "<style scoped>\n",
       "    .dataframe tbody tr th:only-of-type {\n",
       "        vertical-align: middle;\n",
       "    }\n",
       "\n",
       "    .dataframe tbody tr th {\n",
       "        vertical-align: top;\n",
       "    }\n",
       "\n",
       "    .dataframe thead th {\n",
       "        text-align: right;\n",
       "    }\n",
       "</style>\n",
       "<table border=\"1\" class=\"dataframe\">\n",
       "  <thead>\n",
       "    <tr style=\"text-align: right;\">\n",
       "      <th></th>\n",
       "      <th>Date</th>\n",
       "      <th>Growth Rate</th>\n",
       "      <th>GDP Value</th>\n",
       "    </tr>\n",
       "  </thead>\n",
       "  <tbody>\n",
       "    <tr>\n",
       "      <th>0</th>\n",
       "      <td>Apr-2021</td>\n",
       "      <td>-0.0079</td>\n",
       "      <td>2,064,200</td>\n",
       "    </tr>\n",
       "    <tr>\n",
       "      <th>1</th>\n",
       "      <td>Jul-2021</td>\n",
       "      <td>0.0131</td>\n",
       "      <td>2,064,200</td>\n",
       "    </tr>\n",
       "    <tr>\n",
       "      <th>2</th>\n",
       "      <td>Oct-2021</td>\n",
       "      <td>0.0160</td>\n",
       "      <td>2,064,200</td>\n",
       "    </tr>\n",
       "    <tr>\n",
       "      <th>3</th>\n",
       "      <td>Jan-2022</td>\n",
       "      <td>0.0076</td>\n",
       "      <td>2,064,200</td>\n",
       "    </tr>\n",
       "    <tr>\n",
       "      <th>4</th>\n",
       "      <td>Apr-2022</td>\n",
       "      <td>0.0106</td>\n",
       "      <td>2,064,200</td>\n",
       "    </tr>\n",
       "  </tbody>\n",
       "</table>\n",
       "</div>"
      ],
      "text/plain": [
       "       Date  Growth Rate  GDP Value\n",
       "0  Apr-2021      -0.0079  2,064,200\n",
       "1  Jul-2021       0.0131  2,064,200\n",
       "2  Oct-2021       0.0160  2,064,200\n",
       "3  Jan-2022       0.0076  2,064,200\n",
       "4  Apr-2022       0.0106  2,064,200"
      ]
     },
     "execution_count": 62,
     "metadata": {},
     "output_type": "execute_result"
    }
   ],
   "source": [
    "for j, value in enumerate(Table_new.iloc[:,2]):\n",
    "        Table_new.iloc[:,2] = value.split(\".\")[0]\n",
    "\n",
    "\n",
    "\n",
    "Table_new"
   ]
  }
 ],
 "metadata": {
  "kernelspec": {
   "display_name": "Python 3.10.4 ('capstone_env')",
   "language": "python",
   "name": "python3"
  },
  "language_info": {
   "codemirror_mode": {
    "name": "ipython",
    "version": 3
   },
   "file_extension": ".py",
   "mimetype": "text/x-python",
   "name": "python",
   "nbconvert_exporter": "python",
   "pygments_lexer": "ipython3",
   "version": "3.10.4"
  },
  "vscode": {
   "interpreter": {
    "hash": "2def621223592bab3076fe8a7b46a545eabdd895ba8f6b5954ffd7644e6e7c58"
   }
  }
 },
 "nbformat": 4,
 "nbformat_minor": 5
}
