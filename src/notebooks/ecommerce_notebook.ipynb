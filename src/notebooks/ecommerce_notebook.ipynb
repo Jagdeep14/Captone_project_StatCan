{
 "cells": [
  {
   "cell_type": "markdown",
   "id": "a3329be3-e98f-472d-960f-fa2c6b0a394f",
   "metadata": {},
   "source": [
    "### Import libraries"
   ]
  },
  {
   "cell_type": "code",
   "execution_count": 2,
   "id": "1be18d54-176d-4c8f-b6ea-806ddf866ac5",
   "metadata": {},
   "outputs": [],
   "source": [
    "import pandas as pd\n",
    "import matplotlib.pyplot as plt\n",
    "from pytrends.request import TrendReq"
   ]
  },
  {
   "cell_type": "markdown",
   "id": "e6419626-ad26-494c-9008-8c15975974ff",
   "metadata": {},
   "source": [
    "## Retail Ecommerce Sales data"
   ]
  },
  {
   "cell_type": "code",
   "execution_count": 2,
   "id": "79df0606-c9c0-4ba1-997e-c32db0b07db1",
   "metadata": {},
   "outputs": [],
   "source": [
    "data = pd.read_csv('../../data/retailEcommercesales/retailEcommerceSales.csv',sep=',')"
   ]
  },
  {
   "cell_type": "code",
   "execution_count": 3,
   "id": "ca99de30-b1cd-480a-a8b4-ad999a8d2d8d",
   "metadata": {},
   "outputs": [],
   "source": [
    "retailEcommercesales = data[~data[\"Sales\"].str.contains('unadjusted')]"
   ]
  },
  {
   "cell_type": "code",
   "execution_count": 4,
   "id": "08c13dda-e538-4f56-b398-098eb71ac628",
   "metadata": {},
   "outputs": [],
   "source": [
    "retailEcommercesales = retailEcommercesales.filter(['REF_DATE','VALUE'])\n",
    "retailEcommercesales.columns = retailEcommercesales.columns.str.replace('VALUE', 'Ecommerce_sales')\n",
    "retailEcommercesales.columns = retailEcommercesales.columns.str.replace('REF_DATE', 'Date')"
   ]
  },
  {
   "cell_type": "code",
   "execution_count": 5,
   "id": "1bef9512-7587-461c-bcd2-8a4408bc9827",
   "metadata": {},
   "outputs": [
    {
     "data": {
      "text/plain": [
       "Date               object\n",
       "Ecommerce_sales     int64\n",
       "dtype: object"
      ]
     },
     "execution_count": 5,
     "metadata": {},
     "output_type": "execute_result"
    }
   ],
   "source": [
    "retailEcommercesales.dtypes"
   ]
  },
  {
   "cell_type": "code",
   "execution_count": 6,
   "id": "f0c9f1ed-0cc6-451a-9d4d-665977c6ddc8",
   "metadata": {},
   "outputs": [
    {
     "data": {
      "text/html": [
       "<div>\n",
       "<style scoped>\n",
       "    .dataframe tbody tr th:only-of-type {\n",
       "        vertical-align: middle;\n",
       "    }\n",
       "\n",
       "    .dataframe tbody tr th {\n",
       "        vertical-align: top;\n",
       "    }\n",
       "\n",
       "    .dataframe thead th {\n",
       "        text-align: right;\n",
       "    }\n",
       "</style>\n",
       "<table border=\"1\" class=\"dataframe\">\n",
       "  <thead>\n",
       "    <tr style=\"text-align: right;\">\n",
       "      <th></th>\n",
       "      <th>Date</th>\n",
       "      <th>Ecommerce_sales</th>\n",
       "    </tr>\n",
       "  </thead>\n",
       "  <tbody>\n",
       "    <tr>\n",
       "      <th>3</th>\n",
       "      <td>2016-01</td>\n",
       "      <td>977198</td>\n",
       "    </tr>\n",
       "    <tr>\n",
       "      <th>7</th>\n",
       "      <td>2016-02</td>\n",
       "      <td>1006610</td>\n",
       "    </tr>\n",
       "  </tbody>\n",
       "</table>\n",
       "</div>"
      ],
      "text/plain": [
       "      Date  Ecommerce_sales\n",
       "3  2016-01           977198\n",
       "7  2016-02          1006610"
      ]
     },
     "execution_count": 6,
     "metadata": {},
     "output_type": "execute_result"
    }
   ],
   "source": [
    "retailEcommercesales.head(2)"
   ]
  },
  {
   "cell_type": "code",
   "execution_count": 28,
   "id": "41c8ca6b-0d29-49f6-858b-422952e01b12",
   "metadata": {},
   "outputs": [
    {
     "data": {
      "text/plain": [
       "(74, 2)"
      ]
     },
     "execution_count": 28,
     "metadata": {},
     "output_type": "execute_result"
    }
   ],
   "source": [
    "retailEcommercesales.shape"
   ]
  },
  {
   "cell_type": "markdown",
   "id": "2dd82232-f9ee-405b-b184-ce8484463f46",
   "metadata": {},
   "source": [
    "## Time series plot of Retail Ecommerce Sales"
   ]
  },
  {
   "cell_type": "code",
   "execution_count": 7,
   "id": "13adb319-c57c-4ddb-81b6-72f75ebf3d64",
   "metadata": {},
   "outputs": [
    {
     "data": {
      "image/png": "[encoded data removed]",
      "text/plain": [
       "<Figure size 432x288 with 1 Axes>"
      ]
     },
     "metadata": {
      "needs_background": "light"
     },
     "output_type": "display_data"
    }
   ],
   "source": [
    "retailEcommercesales_dup = retailEcommercesales.copy()\n",
    "retailEcommercesales_dup.index=retailEcommercesales_dup['Date']\n",
    "plt.plot(retailEcommercesales_dup['Ecommerce_sales'])\n",
    "plt.show()"
   ]
  },
  {
   "cell_type": "markdown",
   "id": "63e16e47-6f4c-4a77-a5fc-2399b3d498f8",
   "metadata": {},
   "source": [
    "### Pytrend Library"
   ]
  },
  {
   "cell_type": "code",
   "execution_count": 10,
   "id": "9bd86723-e218-48b8-865e-038c72758c41",
   "metadata": {},
   "outputs": [],
   "source": [
    "pytrends = TrendReq(hl='en-us', backoff_factor=0.1)"
   ]
  },
  {
   "cell_type": "code",
   "execution_count": 23,
   "id": "775f96e2-6748-4fa7-af37-672fa4ce01b5",
   "metadata": {},
   "outputs": [],
   "source": [
    "#kw_list = [\"Blockchain\",\"recession\",\"inflation\"]\n",
    "pytrends.build_payload(kw_list=[''],cat=340, timeframe='today 5-y', geo='CA', gprop='')"
   ]
  },
  {
   "cell_type": "code",
   "execution_count": 28,
   "id": "af7ae2ed-04d1-45ed-8762-4137fb340890",
   "metadata": {},
   "outputs": [],
   "source": [
    "data = pytrends.related_topics()"
   ]
  },
  {
   "cell_type": "code",
   "execution_count": 30,
   "id": "17e36aef-120d-4aeb-b4b1-578816b593f1",
   "metadata": {},
   "outputs": [],
   "source": [
    "def ecommerce_trend(keywords=[''],category='340'):\n",
    "    kw_list = keywords\n",
    "    cat=category\n",
    "    timeframe = '2004-01-01 2022-05-10'\n",
    "    geo='CA'\n",
    "    \n",
    "    pytrends.build_payload(kw_list, cat, timeframe, geo, gprop='')\n",
    "    data=pytrends.related_topics()\n",
    "    return data"
   ]
  },
  {
   "cell_type": "code",
   "execution_count": 36,
   "id": "2ac8a22c-f998-4fba-98c2-31f2ed62ac3e",
   "metadata": {},
   "outputs": [
    {
     "data": {
      "text/plain": [
       "{'': {'rising':      value formattedValue                                               link  \\\n",
       "  0   611700       Breakout  /trends/explore?q=/g/11c1wk85q7&date=2004-01-0...   \n",
       "  1   611700       Breakout  /trends/explore?q=/m/02ntbw8&date=2004-01-01+2...   \n",
       "  2   267200       Breakout  /trends/explore?q=/g/11h0byg_3f&date=2004-01-0...   \n",
       "  3   178750       Breakout  /trends/explore?q=/m/0z6r6vw&date=2004-01-01+2...   \n",
       "  4   100200       Breakout  /trends/explore?q=/m/0h94y36&date=2004-01-01+2...   \n",
       "  5    93800       Breakout  /trends/explore?q=/m/02y1vz&date=2004-01-01+20...   \n",
       "  6    86100       Breakout  /trends/explore?q=/m/09m8qzn&date=2004-01-01+2...   \n",
       "  7    47850       Breakout  /trends/explore?q=/m/09jcvs&date=2004-01-01+20...   \n",
       "  8    43700       Breakout  /trends/explore?q=/m/0k8z&date=2004-01-01+2022...   \n",
       "  9    40550       Breakout  /trends/explore?q=/g/11b7dtvvwt&date=2004-01-0...   \n",
       "  10   39400       Breakout  /trends/explore?q=/m/03d5cjk&date=2004-01-01+2...   \n",
       "  11   34250       Breakout  /trends/explore?q=/m/01p9pz&date=2004-01-01+20...   \n",
       "  12   31000       Breakout  /trends/explore?q=/m/02z4wy_&date=2004-01-01+2...   \n",
       "  13   29400       Breakout  /trends/explore?q=/m/04st9hr&date=2004-01-01+2...   \n",
       "  14   27500       Breakout  /trends/explore?q=/m/05p0rrx&date=2004-01-01+2...   \n",
       "  15   27450       Breakout  /trends/explore?q=/m/0glpjll&date=2004-01-01+2...   \n",
       "  16   27000       Breakout  /trends/explore?q=/m/03p3prs&date=2004-01-01+2...   \n",
       "  17   26800       Breakout  /trends/explore?q=/m/0by16yq&date=2004-01-01+2...   \n",
       "  18   26350       Breakout  /trends/explore?q=/g/11h3v8jzr0&date=2004-01-0...   \n",
       "  19   26300       Breakout  /trends/explore?q=/g/11hbqc6vr1&date=2004-01-0...   \n",
       "  20   26250       Breakout  /trends/explore?q=/m/027lnzs&date=2004-01-01+2...   \n",
       "  21   25000       Breakout  /trends/explore?q=/m/011smbhf&date=2004-01-01+...   \n",
       "  22   23450       Breakout  /trends/explore?q=/m/04nrlw&date=2004-01-01+20...   \n",
       "  23   22450       Breakout  /trends/explore?q=/m/011x3m74&date=2004-01-01+...   \n",
       "  24   22200       Breakout  /trends/explore?q=/m/0f2_y6&date=2004-01-01+20...   \n",
       "  \n",
       "          topic_mid                 topic_title                  topic_type  \n",
       "  0   /g/11c1wk85q7                     Shopify                       Topic  \n",
       "  1      /m/02ntbw8                     Shopify          E-commerce company  \n",
       "  2   /g/11h0byg_3f                     Shopify                    Software  \n",
       "  3      /m/0z6r6vw                  WeTransfer                     Company  \n",
       "  4      /m/0h94y36                  Mobile app          Mobile game device  \n",
       "  5       /m/02y1vz                    Facebook        Social media service  \n",
       "  6      /m/09m8qzn   MercadoLibre Venezuela SA                     Company  \n",
       "  7       /m/09jcvs                     YouTube       Video sharing company  \n",
       "  8         /m/0k8z                       Apple          Technology company  \n",
       "  9   /g/11b7dtvvwt                  Google Pay                       Topic  \n",
       "  10     /m/03d5cjk  paysafecard.com Wertkarten                       Topic  \n",
       "  11      /m/01p9pz                    Counting                       Topic  \n",
       "  12     /m/02z4wy_                      Elavon                       Topic  \n",
       "  13     /m/04st9hr                       Apple                       Topic  \n",
       "  14     /m/05p0rrx                     Bitcoin                    Currency  \n",
       "  15     /m/0glpjll                   Instagram   Social networking service  \n",
       "  16     /m/03p3prs               Mercado Libre  Online marketplace company  \n",
       "  17     /m/0by16yq                       Block  Financial services company  \n",
       "  18  /g/11h3v8jzr0                 paysafecard                       Topic  \n",
       "  19  /g/11hbqc6vr1                      Square                       Topic  \n",
       "  20     /m/027lnzs                      iPhone                Mobile phone  \n",
       "  21    /m/011smbhf                   Apple Pay                       Topic  \n",
       "  22      /m/04nrlw                   Tangerine                 Direct bank  \n",
       "  23    /m/011x3m74                      Alipay                       Topic  \n",
       "  24      /m/0f2_y6             Google Checkout                       Topic  ,\n",
       "  'top':     value formattedValue  hasData  \\\n",
       "  0     100            100     True   \n",
       "  1      42             42     True   \n",
       "  2      42             42     True   \n",
       "  3      42             42     True   \n",
       "  4      21             21     True   \n",
       "  5      20             20     True   \n",
       "  6      16             16     True   \n",
       "  7      16             16     True   \n",
       "  8      15             15     True   \n",
       "  9      13             13     True   \n",
       "  10     13             13     True   \n",
       "  11     10             10     True   \n",
       "  12      8              8     True   \n",
       "  13      8              8     True   \n",
       "  14      7              7     True   \n",
       "  15      7              7     True   \n",
       "  16      7              7     True   \n",
       "  17      7              7     True   \n",
       "  18      6              6     True   \n",
       "  19      6              6     True   \n",
       "  20      6              6     True   \n",
       "  21      6              6     True   \n",
       "  22      5              5     True   \n",
       "  23      5              5     True   \n",
       "  24      5              5     True   \n",
       "  \n",
       "                                                   link      topic_mid  \\\n",
       "  0   /trends/explore?q=/g/11dxd44rd6&date=2004-01-0...  /g/11dxd44rd6   \n",
       "  1   /trends/explore?q=/m/09s5j9&date=2004-01-01+20...      /m/09s5j9   \n",
       "  2   /trends/explore?q=/g/122s91_5&date=2004-01-01+...    /g/122s91_5   \n",
       "  3   /trends/explore?q=/g/11bc5jkfd6&date=2004-01-0...  /g/11bc5jkfd6   \n",
       "  4   /trends/explore?q=/m/04_x4&date=2004-01-01+202...       /m/04_x4   \n",
       "  5   /trends/explore?q=/m/0d060g&date=2004-01-01+20...      /m/0d060g   \n",
       "  6   /trends/explore?q=/g/11c1wk85q7&date=2004-01-0...  /g/11c1wk85q7   \n",
       "  7   /trends/explore?q=/m/02ntbw8&date=2004-01-01+2...     /m/02ntbw8   \n",
       "  8   /trends/explore?q=/m/05fwb&date=2004-01-01+202...       /m/05fwb   \n",
       "  9   /trends/explore?q=/m/01bfgd&date=2004-01-01+20...      /m/01bfgd   \n",
       "  10  /trends/explore?q=/m/017ql&date=2004-01-01+202...       /m/017ql   \n",
       "  11  /trends/explore?q=/m/03nk5c&date=2004-01-01+20...      /m/03nk5c   \n",
       "  12  /trends/explore?q=/m/09mkkbp&date=2004-01-01+2...     /m/09mkkbp   \n",
       "  13  /trends/explore?q=/m/0414vq&date=2004-01-01+20...      /m/0414vq   \n",
       "  14  /trends/explore?q=/m/03g5n9&date=2004-01-01+20...      /m/03g5n9   \n",
       "  15  /trends/explore?q=/m/0glqyh&date=2004-01-01+20...      /m/0glqyh   \n",
       "  16  /trends/explore?q=/g/11h0byg_3f&date=2004-01-0...  /g/11h0byg_3f   \n",
       "  17  /trends/explore?q=/m/05p8s2&date=2004-01-01+20...      /m/05p8s2   \n",
       "  18  /trends/explore?q=/m/01vsys&date=2004-01-01+20...      /m/01vsys   \n",
       "  19  /trends/explore?q=/m/0d7pp&date=2004-01-01+202...       /m/0d7pp   \n",
       "  20  /trends/explore?q=/m/02m96&date=2004-01-01+202...       /m/02m96   \n",
       "  21  /trends/explore?q=/m/04nmy9&date=2004-01-01+20...      /m/04nmy9   \n",
       "  22  /trends/explore?q=/m/045c7b&date=2004-01-01+20...      /m/045c7b   \n",
       "  23  /trends/explore?q=/m/08dln3&date=2004-01-01+20...      /m/08dln3   \n",
       "  24  /trends/explore?q=/g/11gfhwzwhg&date=2004-01-0...  /g/11gfhwzwhg   \n",
       "  \n",
       "                      topic_title                    topic_type  \n",
       "  0                        PayPal                         Topic  \n",
       "  1                       Payment                         Topic  \n",
       "  2                        PayPal  Financial technology company  \n",
       "  3                        PayPal                         Topic  \n",
       "  4                         Money                         Topic  \n",
       "  5                        Canada      Country in North America  \n",
       "  6                       Shopify                         Topic  \n",
       "  7                       Shopify            E-commerce company  \n",
       "  8                        Number                         Topic  \n",
       "  9                 Western Union    Financial services company  \n",
       "  10                         Bank             Building function  \n",
       "  11  MoneyGram International Inc    Financial services company  \n",
       "  12                PayPal CA ltd                          Bank  \n",
       "  13                      Account                   Bookkeeping  \n",
       "  14                      Invoice                         Topic  \n",
       "  15                      Moneris                       Company  \n",
       "  16                      Shopify                      Software  \n",
       "  17                       Credit                         Topic  \n",
       "  18              TD Canada Trust    Commercial banking company  \n",
       "  19                  Credit card                         Topic  \n",
       "  20                   E-commerce                         Topic  \n",
       "  21                       Cheque                         Topic  \n",
       "  22                       Google            Technology company  \n",
       "  23    Electronic funds transfer                         Topic  \n",
       "  24               Routing number                        Canada  }}"
      ]
     },
     "execution_count": 36,
     "metadata": {},
     "output_type": "execute_result"
    }
   ],
   "source": [
    "data=ecommerce_trend(keywords=[''],category='340')\n",
    "data"
   ]
  },
  {
   "cell_type": "code",
   "execution_count": null,
   "id": "7efaca3f-e64d-4d41-b1c1-ffecf5982acf",
   "metadata": {},
   "outputs": [],
   "source": [
    "keyword_frame = set()\n",
    "keyword_frame1 = data['']['rising']['topic_title']\n",
    "keyword_frame2 = data['']['rising']['topic_title']\n",
    "keyword_frame.update(keyword_frame1)\n",
    "keyword_frame.update(keyword_frame2)"
   ]
  },
  {
   "cell_type": "code",
   "execution_count": null,
   "id": "11b91fd0-13dc-42c7-b930-4d82e416c67a",
   "metadata": {},
   "outputs": [],
   "source": []
  },
  {
   "cell_type": "code",
   "execution_count": null,
   "id": "c1f1ea4a-0e77-4749-93aa-5e7e90ab089f",
   "metadata": {},
   "outputs": [],
   "source": []
  }
 ],
 "metadata": {
  "kernelspec": {
   "display_name": "Python 3 (ipykernel)",
   "language": "python",
   "name": "python3"
  },
  "language_info": {
   "codemirror_mode": {
    "name": "ipython",
    "version": 3
   },
   "file_extension": ".py",
   "mimetype": "text/x-python",
   "name": "python",
   "nbconvert_exporter": "python",
   "pygments_lexer": "ipython3",
   "version": "3.9.5"
  }
 },
 "nbformat": 4,
 "nbformat_minor": 5
}
