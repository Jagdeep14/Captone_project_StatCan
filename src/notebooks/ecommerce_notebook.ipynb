{
 "cells": [
  {
   "cell_type": "markdown",
   "id": "a3329be3-e98f-472d-960f-fa2c6b0a394f",
   "metadata": {},
   "source": [
    "## Ecommerce Trade Sales"
   ]
  },
  {
   "cell_type": "code",
   "execution_count": 1,
   "id": "1be18d54-176d-4c8f-b6ea-806ddf866ac5",
   "metadata": {},
   "outputs": [],
   "source": [
    "# Import libraries\n",
    "\n",
    "import pandas as pd\n",
    "import matplotlib.pyplot as plt\n",
    "from pytrends.request import TrendReq\n",
    "from statsmodels.tsa.stattools import kpss, adfuller"
   ]
  },
  {
   "cell_type": "markdown",
   "id": "e6419626-ad26-494c-9008-8c15975974ff",
   "metadata": {},
   "source": [
    "### Reading and Filtering data"
   ]
  },
  {
   "cell_type": "code",
   "execution_count": 2,
   "id": "79df0606-c9c0-4ba1-997e-c32db0b07db1",
   "metadata": {},
   "outputs": [
    {
     "data": {
      "text/html": [
       "<div>\n",
       "<style scoped>\n",
       "    .dataframe tbody tr th:only-of-type {\n",
       "        vertical-align: middle;\n",
       "    }\n",
       "\n",
       "    .dataframe tbody tr th {\n",
       "        vertical-align: top;\n",
       "    }\n",
       "\n",
       "    .dataframe thead th {\n",
       "        text-align: right;\n",
       "    }\n",
       "</style>\n",
       "<table border=\"1\" class=\"dataframe\">\n",
       "  <thead>\n",
       "    <tr style=\"text-align: right;\">\n",
       "      <th></th>\n",
       "      <th>REF_DATE</th>\n",
       "      <th>GEO</th>\n",
       "      <th>DGUID</th>\n",
       "      <th>Sales</th>\n",
       "      <th>UOM</th>\n",
       "      <th>UOM_ID</th>\n",
       "      <th>SCALAR_FACTOR</th>\n",
       "      <th>SCALAR_ID</th>\n",
       "      <th>VECTOR</th>\n",
       "      <th>COORDINATE</th>\n",
       "      <th>VALUE</th>\n",
       "      <th>STATUS</th>\n",
       "      <th>SYMBOL</th>\n",
       "      <th>TERMINATED</th>\n",
       "      <th>DECIMALS</th>\n",
       "    </tr>\n",
       "  </thead>\n",
       "  <tbody>\n",
       "    <tr>\n",
       "      <th>0</th>\n",
       "      <td>2016-01</td>\n",
       "      <td>Canada</td>\n",
       "      <td>2016A000011124</td>\n",
       "      <td>Retail trade, unadjusted\\n [44-453]</td>\n",
       "      <td>Dollars</td>\n",
       "      <td>81</td>\n",
       "      <td>thousands</td>\n",
       "      <td>3</td>\n",
       "      <td>v108795018</td>\n",
       "      <td>1.1</td>\n",
       "      <td>37415147</td>\n",
       "      <td>A</td>\n",
       "      <td>NaN</td>\n",
       "      <td>NaN</td>\n",
       "      <td>0</td>\n",
       "    </tr>\n",
       "    <tr>\n",
       "      <th>1</th>\n",
       "      <td>2016-01</td>\n",
       "      <td>Canada</td>\n",
       "      <td>2016A000011124</td>\n",
       "      <td>Electronic shopping and mail-order houses, una...</td>\n",
       "      <td>Dollars</td>\n",
       "      <td>81</td>\n",
       "      <td>thousands</td>\n",
       "      <td>3</td>\n",
       "      <td>v108795019</td>\n",
       "      <td>1.2</td>\n",
       "      <td>679612</td>\n",
       "      <td>B</td>\n",
       "      <td>NaN</td>\n",
       "      <td>NaN</td>\n",
       "      <td>0</td>\n",
       "    </tr>\n",
       "  </tbody>\n",
       "</table>\n",
       "</div>"
      ],
      "text/plain": [
       "  REF_DATE     GEO           DGUID  \\\n",
       "0  2016-01  Canada  2016A000011124   \n",
       "1  2016-01  Canada  2016A000011124   \n",
       "\n",
       "                                               Sales      UOM  UOM_ID  \\\n",
       "0                Retail trade, unadjusted\\n [44-453]  Dollars      81   \n",
       "1  Electronic shopping and mail-order houses, una...  Dollars      81   \n",
       "\n",
       "  SCALAR_FACTOR  SCALAR_ID      VECTOR  COORDINATE     VALUE STATUS  SYMBOL  \\\n",
       "0     thousands          3  v108795018         1.1  37415147      A     NaN   \n",
       "1     thousands          3  v108795019         1.2    679612      B     NaN   \n",
       "\n",
       "   TERMINATED  DECIMALS  \n",
       "0         NaN         0  \n",
       "1         NaN         0  "
      ]
     },
     "execution_count": 2,
     "metadata": {},
     "output_type": "execute_result"
    }
   ],
   "source": [
    "data = pd.read_csv('../../data/retailEcommercesales/retailEcommerceSales.csv',sep=',')\n",
    "data.head(2)"
   ]
  },
  {
   "cell_type": "code",
   "execution_count": 3,
   "id": "46852bce-526b-4622-9673-7f660311347a",
   "metadata": {},
   "outputs": [],
   "source": [
    "# data filter\n",
    "retailEcommercesales = data[~data[\"Sales\"].str.contains('unadjusted')]\n",
    "retailEcommercesales = retailEcommercesales.filter(['REF_DATE','VALUE'])\n",
    "\n",
    "# rename columns\n",
    "retailEcommercesales = retailEcommercesales.rename(columns = {'REF_DATE': 'Date', 'VALUE': 'Ecommerce_sales'})"
   ]
  },
  {
   "cell_type": "code",
   "execution_count": 4,
   "id": "f0c9f1ed-0cc6-451a-9d4d-665977c6ddc8",
   "metadata": {},
   "outputs": [
    {
     "data": {
      "text/html": [
       "<div>\n",
       "<style scoped>\n",
       "    .dataframe tbody tr th:only-of-type {\n",
       "        vertical-align: middle;\n",
       "    }\n",
       "\n",
       "    .dataframe tbody tr th {\n",
       "        vertical-align: top;\n",
       "    }\n",
       "\n",
       "    .dataframe thead th {\n",
       "        text-align: right;\n",
       "    }\n",
       "</style>\n",
       "<table border=\"1\" class=\"dataframe\">\n",
       "  <thead>\n",
       "    <tr style=\"text-align: right;\">\n",
       "      <th></th>\n",
       "      <th>Date</th>\n",
       "      <th>Ecommerce_sales</th>\n",
       "    </tr>\n",
       "  </thead>\n",
       "  <tbody>\n",
       "    <tr>\n",
       "      <th>3</th>\n",
       "      <td>2016-01</td>\n",
       "      <td>977198</td>\n",
       "    </tr>\n",
       "    <tr>\n",
       "      <th>7</th>\n",
       "      <td>2016-02</td>\n",
       "      <td>1006610</td>\n",
       "    </tr>\n",
       "  </tbody>\n",
       "</table>\n",
       "</div>"
      ],
      "text/plain": [
       "      Date  Ecommerce_sales\n",
       "3  2016-01           977198\n",
       "7  2016-02          1006610"
      ]
     },
     "execution_count": 4,
     "metadata": {},
     "output_type": "execute_result"
    }
   ],
   "source": [
    "retailEcommercesales.head(2)"
   ]
  },
  {
   "cell_type": "markdown",
   "id": "2dd82232-f9ee-405b-b184-ce8484463f46",
   "metadata": {},
   "source": [
    "### Time series plot of Ecommerce trade sales"
   ]
  },
  {
   "cell_type": "code",
   "execution_count": 5,
   "id": "13adb319-c57c-4ddb-81b6-72f75ebf3d64",
   "metadata": {},
   "outputs": [
    {
     "data": {
      "image/png": "[encoded data removed]",
      "text/plain": [
       "<Figure size 432x288 with 1 Axes>"
      ]
     },
     "metadata": {
      "needs_background": "light"
     },
     "output_type": "display_data"
    }
   ],
   "source": [
    "retailEcommercesales_dup = retailEcommercesales.copy()\n",
    "retailEcommercesales_dup.index=retailEcommercesales_dup['Date']\n",
    "plt.plot(retailEcommercesales_dup['Ecommerce_sales'])\n",
    "plt.show()"
   ]
  },
  {
   "cell_type": "code",
   "execution_count": 15,
   "id": "3bc7ecf6-d187-4e71-9139-8f18601d0c15",
   "metadata": {},
   "outputs": [],
   "source": [
    "retailEcommercesales_ts = retailEcommercesales.set_index('Date')"
   ]
  },
  {
   "cell_type": "code",
   "execution_count": 29,
   "id": "1fc6119b-5fe4-47c0-a804-8911f3b03a02",
   "metadata": {},
   "outputs": [
    {
     "data": {
      "text/html": [
       "<div>\n",
       "<style scoped>\n",
       "    .dataframe tbody tr th:only-of-type {\n",
       "        vertical-align: middle;\n",
       "    }\n",
       "\n",
       "    .dataframe tbody tr th {\n",
       "        vertical-align: top;\n",
       "    }\n",
       "\n",
       "    .dataframe thead th {\n",
       "        text-align: right;\n",
       "    }\n",
       "</style>\n",
       "<table border=\"1\" class=\"dataframe\">\n",
       "  <thead>\n",
       "    <tr style=\"text-align: right;\">\n",
       "      <th></th>\n",
       "      <th>Ecommerce_sales</th>\n",
       "      <th>Growth_rate</th>\n",
       "    </tr>\n",
       "    <tr>\n",
       "      <th>Date</th>\n",
       "      <th></th>\n",
       "      <th></th>\n",
       "    </tr>\n",
       "  </thead>\n",
       "  <tbody>\n",
       "    <tr>\n",
       "      <th>2016-01</th>\n",
       "      <td>977198</td>\n",
       "      <td>0.000000</td>\n",
       "    </tr>\n",
       "    <tr>\n",
       "      <th>2016-02</th>\n",
       "      <td>1006610</td>\n",
       "      <td>0.030098</td>\n",
       "    </tr>\n",
       "  </tbody>\n",
       "</table>\n",
       "</div>"
      ],
      "text/plain": [
       "         Ecommerce_sales  Growth_rate\n",
       "Date                                 \n",
       "2016-01           977198     0.000000\n",
       "2016-02          1006610     0.030098"
      ]
     },
     "execution_count": 29,
     "metadata": {},
     "output_type": "execute_result"
    }
   ],
   "source": [
    "retailEcommercesales_ts.head(2)"
   ]
  },
  {
   "cell_type": "code",
   "execution_count": 17,
   "id": "600ef285-4ef3-4ce6-ada5-228df6a29925",
   "metadata": {},
   "outputs": [],
   "source": [
    "retailEcommercesales_ts['Growth_rate'] = retailEcommercesales_ts.pct_change()"
   ]
  },
  {
   "cell_type": "code",
   "execution_count": 28,
   "id": "df831f99-79b3-4d1b-b9df-6c1d1884d82d",
   "metadata": {},
   "outputs": [
    {
     "name": "stderr",
     "output_type": "stream",
     "text": [
      "C:\\Users\\hp\\AppData\\Local\\Temp\\ipykernel_9496\\1695327831.py:1: SettingWithCopyWarning: \n",
      "A value is trying to be set on a copy of a slice from a DataFrame\n",
      "\n",
      "See the caveats in the documentation: https://pandas.pydata.org/pandas-docs/stable/user_guide/indexing.html#returning-a-view-versus-a-copy\n",
      "  retailEcommercesales_ts['Growth_rate'][0] = '0'\n"
     ]
    }
   ],
   "source": [
    "retailEcommercesales_ts['Growth_rate'][0] = '0'"
   ]
  },
  {
   "cell_type": "code",
   "execution_count": 30,
   "id": "381ed564-37db-4e9f-afee-e9fdaf3f4394",
   "metadata": {},
   "outputs": [
    {
     "data": {
      "image/png": "[encoded data removed]",
      "text/plain": [
       "<Figure size 432x288 with 1 Axes>"
      ]
     },
     "metadata": {
      "needs_background": "light"
     },
     "output_type": "display_data"
    }
   ],
   "source": [
    "plt.plot(retailEcommercesales_ts['Growth_rate'])\n",
    "plt.show()"
   ]
  },
  {
   "cell_type": "markdown",
   "id": "70cb080b-0db5-4003-a8a0-7d940e3d87c5",
   "metadata": {},
   "source": [
    "**KPSS Test**"
   ]
  },
  {
   "cell_type": "code",
   "execution_count": 38,
   "id": "568cfe75-9e27-4cb0-9e1a-46ec12314f49",
   "metadata": {},
   "outputs": [
    {
     "name": "stderr",
     "output_type": "stream",
     "text": [
      "C:\\Users\\hp\\miniconda3\\lib\\site-packages\\statsmodels\\tsa\\stattools.py:2022: InterpolationWarning: The test statistic is outside of the range of p-values available in the\n",
      "look-up table. The actual p-value is greater than the p-value returned.\n",
      "\n",
      "  warnings.warn(\n"
     ]
    },
    {
     "data": {
      "text/plain": [
       "(0.09139493504140908,\n",
       " 0.1,\n",
       " 0,\n",
       " {'10%': 0.347, '5%': 0.463, '2.5%': 0.574, '1%': 0.739})"
      ]
     },
     "execution_count": 38,
     "metadata": {},
     "output_type": "execute_result"
    }
   ],
   "source": [
    "kpss(retailEcommercesales_ts['Growth_rate'], regression='c')"
   ]
  },
  {
   "cell_type": "markdown",
   "id": "2dface24-1322-40ff-876b-3a51deb71e97",
   "metadata": {},
   "source": [
    "**Interpretation:**\n",
    "\n",
    "The test indicates that the series is stationary as p-value is greater than 5% level of significance implying we fail to reject the null hypothesis."
   ]
  },
  {
   "cell_type": "markdown",
   "id": "676af09c-bbdc-4a4b-b87b-6672e4d00c9e",
   "metadata": {},
   "source": [
    "**ADF Test**"
   ]
  },
  {
   "cell_type": "code",
   "execution_count": 34,
   "id": "a9c8709b-1a10-49aa-b3b5-b4582b0b519b",
   "metadata": {},
   "outputs": [
    {
     "data": {
      "text/plain": [
       "(-7.505377864956924,\n",
       " 4.148055645336435e-11,\n",
       " 0,\n",
       " 73,\n",
       " {'1%': -3.5232835753964475,\n",
       "  '5%': -2.902030597326081,\n",
       "  '10%': -2.5883710883843123},\n",
       " -116.26557526011885)"
      ]
     },
     "execution_count": 34,
     "metadata": {},
     "output_type": "execute_result"
    }
   ],
   "source": [
    "adfuller(retailEcommercesales_ts['Growth_rate'], autolag=\"AIC\")"
   ]
  },
  {
   "cell_type": "code",
   "execution_count": 59,
   "id": "49cc1071-ac77-4801-acf5-bd4a519e6523",
   "metadata": {},
   "outputs": [],
   "source": [
    "def adf_test(timeseries):\n",
    "    dftest = adfuller(timeseries, autolag=\"AIC\")\n",
    "    dfoutput = pd.Series(\n",
    "        dftest[0:4],\n",
    "        index=[\n",
    "            \"Test Statistic\",\n",
    "            \"p-value\",\n",
    "            \"#Lags Used\",\n",
    "            \"Number of Observations Used\",\n",
    "        ],\n",
    "    )\n",
    "    print(dftest)"
   ]
  },
  {
   "cell_type": "code",
   "execution_count": 60,
   "id": "eeb72154-49e4-4e14-afdf-3a859c69e2b0",
   "metadata": {},
   "outputs": [
    {
     "name": "stdout",
     "output_type": "stream",
     "text": [
      "(-7.505377864956924, 4.148055645336435e-11, 0, 73, {'1%': -3.5232835753964475, '5%': -2.902030597326081, '10%': -2.5883710883843123}, -116.26557526011885)\n"
     ]
    },
    {
     "ename": "TypeError",
     "evalue": "'NoneType' object is not subscriptable",
     "output_type": "error",
     "traceback": [
      "\u001b[1;31m---------------------------------------------------------------------------\u001b[0m",
      "\u001b[1;31mTypeError\u001b[0m                                 Traceback (most recent call last)",
      "Input \u001b[1;32mIn [60]\u001b[0m, in \u001b[0;36m<cell line: 1>\u001b[1;34m()\u001b[0m\n\u001b[1;32m----> 1\u001b[0m \u001b[43madf_test\u001b[49m\u001b[43m(\u001b[49m\u001b[43mretailEcommercesales_ts\u001b[49m\u001b[43m[\u001b[49m\u001b[38;5;124;43m'\u001b[39;49m\u001b[38;5;124;43mGrowth_rate\u001b[39;49m\u001b[38;5;124;43m'\u001b[39;49m\u001b[43m]\u001b[49m\u001b[43m)\u001b[49m\u001b[43m[\u001b[49m\u001b[38;5;241;43m0\u001b[39;49m\u001b[43m]\u001b[49m\n",
      "\u001b[1;31mTypeError\u001b[0m: 'NoneType' object is not subscriptable"
     ]
    }
   ],
   "source": [
    "adf_test(retailEcommercesales_ts['Growth_rate'])"
   ]
  },
  {
   "cell_type": "markdown",
   "id": "ac76ffa2-49cf-4ee1-a75f-fbe05c904e48",
   "metadata": {},
   "source": [
    "**Interpretation:**\n",
    "\n",
    "The test indicates that the series is stationary as p-value is smaller than 5% level of significance implying we reject the null hypothesis."
   ]
  },
  {
   "cell_type": "code",
   "execution_count": null,
   "id": "7601e583-f1bf-4b31-a070-ffbc7beeebf7",
   "metadata": {},
   "outputs": [],
   "source": []
  },
  {
   "cell_type": "markdown",
   "id": "63e16e47-6f4c-4a77-a5fc-2399b3d498f8",
   "metadata": {},
   "source": [
    "### Keywords extraction using PyTrend"
   ]
  },
  {
   "cell_type": "code",
   "execution_count": 6,
   "id": "9bd86723-e218-48b8-865e-038c72758c41",
   "metadata": {},
   "outputs": [],
   "source": [
    "pytrends = TrendReq(hl='en-us', backoff_factor=0.1)\n",
    "\n",
    "def ecommerce_trend(keywords=[''],category='340'):\n",
    "    \n",
    "    \"\"\" \n",
    "    Function for getting trends for selected keywords\n",
    "        \n",
    "        arguments: \n",
    "        \n",
    "            Keywords: List of String ser\n",
    "            category: String: stores the code for category\n",
    "        \n",
    "        returns: Related queries and related topics from google trend as a data frame\n",
    "    \"\"\"    \n",
    "    kw_list = keywords\n",
    "    cat=category\n",
    "    timeframe = '2004-01-01 2022-05-10'\n",
    "    geo='CA'\n",
    "    \n",
    "    pytrends.build_payload(kw_list, cat, timeframe, geo, gprop='')\n",
    "    data = pytrends.interest_over_time()\n",
    "    queries = pytrends.related_queries()\n",
    "    topics = pytrends.related_topics()\n",
    "    \n",
    "    return data, queries, topics"
   ]
  },
  {
   "cell_type": "code",
   "execution_count": 7,
   "id": "2ac8a22c-f998-4fba-98c2-31f2ed62ac3e",
   "metadata": {},
   "outputs": [],
   "source": [
    "data, queries, topics = ecommerce_trend(keywords=[''],category='340')  #function calling\n",
    "\n",
    "keyword_query_frame= dict()  #Dictionary for queries\n",
    "keyword_topic_frame= dict()  #Dictionary for topic\n",
    "\n",
    "# keywords from queries\n",
    "keyword_rising_query = queries['']['rising']['query'].values.tolist() \n",
    "keyword_top_query = queries['']['top']['query'].values.tolist()\n",
    "\n",
    "# keywords from topic\n",
    "keyword_rising_topics = topics['']['rising']['topic_title'].values.tolist() \n",
    "keyword_top_topics = topics['']['top']['topic_title'].values.tolist()"
   ]
  },
  {
   "cell_type": "code",
   "execution_count": null,
   "id": "f3781f9e-25bc-4dda-924e-08b809e0705c",
   "metadata": {},
   "outputs": [],
   "source": []
  },
  {
   "cell_type": "code",
   "execution_count": 8,
   "id": "0ab03dd7-c8ce-4337-a27e-d748f140a75e",
   "metadata": {},
   "outputs": [],
   "source": [
    "# keywords dict\n",
    "\n",
    "keyword_query_frame['340'] = keyword_top_query\n",
    "keyword_topic_frame['340'] = keyword_top_topics"
   ]
  },
  {
   "cell_type": "code",
   "execution_count": 9,
   "id": "bfb34652-496e-47f1-ad6d-710a3cdeccde",
   "metadata": {},
   "outputs": [
    {
     "data": {
      "text/plain": [
       "{'340': ['PayPal',\n",
       "  'Payment',\n",
       "  'PayPal',\n",
       "  'PayPal',\n",
       "  'Money',\n",
       "  'Canada',\n",
       "  'Shopify',\n",
       "  'Shopify',\n",
       "  'Number',\n",
       "  'Western Union',\n",
       "  'Bank',\n",
       "  'MoneyGram International Inc',\n",
       "  'PayPal CA ltd',\n",
       "  'Account',\n",
       "  'Invoice',\n",
       "  'Moneris',\n",
       "  'Shopify',\n",
       "  'Credit',\n",
       "  'TD Canada Trust',\n",
       "  'Credit card',\n",
       "  'E-commerce',\n",
       "  'Cheque',\n",
       "  'Google',\n",
       "  'Electronic funds transfer',\n",
       "  'Routing number']}"
      ]
     },
     "execution_count": 9,
     "metadata": {},
     "output_type": "execute_result"
    }
   ],
   "source": [
    "keyword_topic_frame"
   ]
  },
  {
   "cell_type": "code",
   "execution_count": 10,
   "id": "7efaca3f-e64d-4d41-b1c1-ffecf5982acf",
   "metadata": {},
   "outputs": [],
   "source": [
    "#set formatted\n",
    "\n",
    "#keyword_frame = set()\n",
    "#keyword_frame1 = data['']['rising']['topic_title']\n",
    "#keyword_frame2 = data['']['top']['topic_title']\n",
    "#keyword_frame.update(keyword_frame1)\n",
    "#keyword_frame.update(keyword_frame2)"
   ]
  }
 ],
 "metadata": {
  "kernelspec": {
   "display_name": "Python 3 (ipykernel)",
   "language": "python",
   "name": "python3"
  },
  "language_info": {
   "codemirror_mode": {
    "name": "ipython",
    "version": 3
   },
   "file_extension": ".py",
   "mimetype": "text/x-python",
   "name": "python",
   "nbconvert_exporter": "python",
   "pygments_lexer": "ipython3",
   "version": "3.9.5"
  }
 },
 "nbformat": 4,
 "nbformat_minor": 5
}
