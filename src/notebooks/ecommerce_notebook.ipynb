{
 "cells": [
  {
   "cell_type": "markdown",
   "id": "a3329be3-e98f-472d-960f-fa2c6b0a394f",
   "metadata": {},
   "source": [
    "### Import libraries"
   ]
  },
  {
   "cell_type": "code",
   "execution_count": 1,
   "id": "1be18d54-176d-4c8f-b6ea-806ddf866ac5",
   "metadata": {},
   "outputs": [],
   "source": [
    "import pandas as pd\n",
    "import matplotlib.pyplot as plt\n",
    "from pytrends.request import TrendReq"
   ]
  },
  {
   "cell_type": "markdown",
   "id": "e6419626-ad26-494c-9008-8c15975974ff",
   "metadata": {},
   "source": [
    "## Retail Ecommerce Sales data"
   ]
  },
  {
   "cell_type": "code",
   "execution_count": 2,
   "id": "79df0606-c9c0-4ba1-997e-c32db0b07db1",
   "metadata": {},
   "outputs": [],
   "source": [
    "data = pd.read_csv('../../data/retailEcommercesales/retailEcommerceSales.csv',sep=',')"
   ]
  },
  {
   "cell_type": "code",
   "execution_count": 3,
   "id": "ca99de30-b1cd-480a-a8b4-ad999a8d2d8d",
   "metadata": {},
   "outputs": [],
   "source": [
    "retailEcommercesales = data[~data[\"Sales\"].str.contains('unadjusted')]"
   ]
  },
  {
   "cell_type": "code",
   "execution_count": 4,
   "id": "08c13dda-e538-4f56-b398-098eb71ac628",
   "metadata": {},
   "outputs": [],
   "source": [
    "retailEcommercesales = retailEcommercesales.filter(['REF_DATE','VALUE'])\n",
    "retailEcommercesales.columns = retailEcommercesales.columns.str.replace('VALUE', 'Ecommerce_sales')\n",
    "retailEcommercesales.columns = retailEcommercesales.columns.str.replace('REF_DATE', 'Date')"
   ]
  },
  {
   "cell_type": "code",
   "execution_count": 5,
   "id": "1bef9512-7587-461c-bcd2-8a4408bc9827",
   "metadata": {},
   "outputs": [
    {
     "data": {
      "text/plain": [
       "Date               object\n",
       "Ecommerce_sales     int64\n",
       "dtype: object"
      ]
     },
     "execution_count": 5,
     "metadata": {},
     "output_type": "execute_result"
    }
   ],
   "source": [
    "retailEcommercesales.dtypes"
   ]
  },
  {
   "cell_type": "code",
   "execution_count": 6,
   "id": "f0c9f1ed-0cc6-451a-9d4d-665977c6ddc8",
   "metadata": {},
   "outputs": [
    {
     "data": {
      "text/html": [
       "<div>\n",
       "<style scoped>\n",
       "    .dataframe tbody tr th:only-of-type {\n",
       "        vertical-align: middle;\n",
       "    }\n",
       "\n",
       "    .dataframe tbody tr th {\n",
       "        vertical-align: top;\n",
       "    }\n",
       "\n",
       "    .dataframe thead th {\n",
       "        text-align: right;\n",
       "    }\n",
       "</style>\n",
       "<table border=\"1\" class=\"dataframe\">\n",
       "  <thead>\n",
       "    <tr style=\"text-align: right;\">\n",
       "      <th></th>\n",
       "      <th>Date</th>\n",
       "      <th>Ecommerce_sales</th>\n",
       "    </tr>\n",
       "  </thead>\n",
       "  <tbody>\n",
       "    <tr>\n",
       "      <th>3</th>\n",
       "      <td>2016-01</td>\n",
       "      <td>977198</td>\n",
       "    </tr>\n",
       "    <tr>\n",
       "      <th>7</th>\n",
       "      <td>2016-02</td>\n",
       "      <td>1006610</td>\n",
       "    </tr>\n",
       "  </tbody>\n",
       "</table>\n",
       "</div>"
      ],
      "text/plain": [
       "      Date  Ecommerce_sales\n",
       "3  2016-01           977198\n",
       "7  2016-02          1006610"
      ]
     },
     "execution_count": 6,
     "metadata": {},
     "output_type": "execute_result"
    }
   ],
   "source": [
    "retailEcommercesales.head(2)"
   ]
  },
  {
   "cell_type": "code",
   "execution_count": 28,
   "id": "41c8ca6b-0d29-49f6-858b-422952e01b12",
   "metadata": {},
   "outputs": [
    {
     "data": {
      "text/plain": [
       "(74, 2)"
      ]
     },
     "execution_count": 28,
     "metadata": {},
     "output_type": "execute_result"
    }
   ],
   "source": [
    "retailEcommercesales.shape"
   ]
  },
  {
   "cell_type": "markdown",
   "id": "2dd82232-f9ee-405b-b184-ce8484463f46",
   "metadata": {},
   "source": [
    "## Time series plot of Retail Ecommerce Sales"
   ]
  },
  {
   "cell_type": "code",
   "execution_count": 7,
   "id": "13adb319-c57c-4ddb-81b6-72f75ebf3d64",
   "metadata": {},
   "outputs": [
    {
     "data": {
      "image/png": "[encoded data removed]",
      "text/plain": [
       "<Figure size 432x288 with 1 Axes>"
      ]
     },
     "metadata": {
      "needs_background": "light"
     },
     "output_type": "display_data"
    }
   ],
   "source": [
    "retailEcommercesales_dup = retailEcommercesales.copy()\n",
    "retailEcommercesales_dup.index=retailEcommercesales_dup['Date']\n",
    "plt.plot(retailEcommercesales_dup['Ecommerce_sales'])\n",
    "plt.show()"
   ]
  },
  {
   "cell_type": "code",
   "execution_count": 23,
   "id": "9bd86723-e218-48b8-865e-038c72758c41",
   "metadata": {},
   "outputs": [],
   "source": [
    "pytrends = TrendReq(hl='en-us', backoff_factor=0.1)"
   ]
  },
  {
   "cell_type": "code",
   "execution_count": 24,
   "id": "775f96e2-6748-4fa7-af37-672fa4ce01b5",
   "metadata": {},
   "outputs": [],
   "source": [
    "kw_list = [\"Blockchain\",\"recession\",\"inflation\"]\n",
    "pytrends.build_payload(kw_list, cat=0, timeframe='today 5-y', geo='CA', gprop='')"
   ]
  },
  {
   "cell_type": "code",
   "execution_count": null,
   "id": "af7ae2ed-04d1-45ed-8762-4137fb340890",
   "metadata": {},
   "outputs": [],
   "source": [
    "pytrends.interest_over_time()"
   ]
  },
  {
   "cell_type": "code",
   "execution_count": 44,
   "id": "b55cbd7d-7a14-4f11-9479-b4ff9b63d73d",
   "metadata": {},
   "outputs": [],
   "source": [
    "def ecommerce_trend(keywords=[''],category='0'):\n",
    "    kw_list = keyword\n",
    "    cat=category\n",
    "    timeframe = '2004-01-01 2022-05-09'\n",
    "    geo='CA'\n",
    "    \n",
    "    pytrends.build_payload(kw_list, cat, timeframe, geo, gprop='')\n",
    "    data=pytrends.interest_over_time()\n",
    "    return data\n",
    "    \n",
    "    "
   ]
  },
  {
   "cell_type": "code",
   "execution_count": 40,
   "id": "6d280d1e-535e-4672-9d6d-b3d915cfb75d",
   "metadata": {},
   "outputs": [],
   "source": [
    "keyword=[\"ecommerce\"]\n",
    "category='520'\n",
    "data = ecommerce_trend()"
   ]
  },
  {
   "cell_type": "code",
   "execution_count": 41,
   "id": "51c4d5aa-cc01-49a4-9401-1e672fe5cc94",
   "metadata": {},
   "outputs": [
    {
     "data": {
      "image/png": "[encoded data removed]",
      "text/plain": [
       "<Figure size 432x288 with 1 Axes>"
      ]
     },
     "metadata": {
      "needs_background": "light"
     },
     "output_type": "display_data"
    }
   ],
   "source": [
    "trend_data = data.copy()\n",
    "plt.plot(trend_data[keyword])\n",
    "plt.show()"
   ]
  },
  {
   "cell_type": "code",
   "execution_count": 46,
   "id": "e8df5c7c-baf7-4bee-93ff-23e3246fab0e",
   "metadata": {},
   "outputs": [],
   "source": [
    "data=ecommerce_trend(keywords=[''],category='520')"
   ]
  },
  {
   "cell_type": "code",
   "execution_count": 47,
   "id": "88f8cad1-99ac-450b-9d14-e0d8d3f4e7f9",
   "metadata": {},
   "outputs": [
    {
     "data": {
      "text/html": [
       "<div>\n",
       "<style scoped>\n",
       "    .dataframe tbody tr th:only-of-type {\n",
       "        vertical-align: middle;\n",
       "    }\n",
       "\n",
       "    .dataframe tbody tr th {\n",
       "        vertical-align: top;\n",
       "    }\n",
       "\n",
       "    .dataframe thead th {\n",
       "        text-align: right;\n",
       "    }\n",
       "</style>\n",
       "<table border=\"1\" class=\"dataframe\">\n",
       "  <thead>\n",
       "    <tr style=\"text-align: right;\">\n",
       "      <th></th>\n",
       "      <th>ecommerce</th>\n",
       "      <th>isPartial</th>\n",
       "    </tr>\n",
       "    <tr>\n",
       "      <th>date</th>\n",
       "      <th></th>\n",
       "      <th></th>\n",
       "    </tr>\n",
       "  </thead>\n",
       "  <tbody>\n",
       "    <tr>\n",
       "      <th>2004-01-01</th>\n",
       "      <td>0</td>\n",
       "      <td>False</td>\n",
       "    </tr>\n",
       "    <tr>\n",
       "      <th>2004-02-01</th>\n",
       "      <td>0</td>\n",
       "      <td>False</td>\n",
       "    </tr>\n",
       "    <tr>\n",
       "      <th>2004-03-01</th>\n",
       "      <td>0</td>\n",
       "      <td>False</td>\n",
       "    </tr>\n",
       "    <tr>\n",
       "      <th>2004-04-01</th>\n",
       "      <td>0</td>\n",
       "      <td>False</td>\n",
       "    </tr>\n",
       "    <tr>\n",
       "      <th>2004-05-01</th>\n",
       "      <td>0</td>\n",
       "      <td>False</td>\n",
       "    </tr>\n",
       "    <tr>\n",
       "      <th>...</th>\n",
       "      <td>...</td>\n",
       "      <td>...</td>\n",
       "    </tr>\n",
       "    <tr>\n",
       "      <th>2022-01-01</th>\n",
       "      <td>24</td>\n",
       "      <td>False</td>\n",
       "    </tr>\n",
       "    <tr>\n",
       "      <th>2022-02-01</th>\n",
       "      <td>27</td>\n",
       "      <td>False</td>\n",
       "    </tr>\n",
       "    <tr>\n",
       "      <th>2022-03-01</th>\n",
       "      <td>0</td>\n",
       "      <td>False</td>\n",
       "    </tr>\n",
       "    <tr>\n",
       "      <th>2022-04-01</th>\n",
       "      <td>0</td>\n",
       "      <td>False</td>\n",
       "    </tr>\n",
       "    <tr>\n",
       "      <th>2022-05-01</th>\n",
       "      <td>0</td>\n",
       "      <td>True</td>\n",
       "    </tr>\n",
       "  </tbody>\n",
       "</table>\n",
       "<p>221 rows × 2 columns</p>\n",
       "</div>"
      ],
      "text/plain": [
       "            ecommerce  isPartial\n",
       "date                            \n",
       "2004-01-01          0      False\n",
       "2004-02-01          0      False\n",
       "2004-03-01          0      False\n",
       "2004-04-01          0      False\n",
       "2004-05-01          0      False\n",
       "...               ...        ...\n",
       "2022-01-01         24      False\n",
       "2022-02-01         27      False\n",
       "2022-03-01          0      False\n",
       "2022-04-01          0      False\n",
       "2022-05-01          0       True\n",
       "\n",
       "[221 rows x 2 columns]"
      ]
     },
     "execution_count": 47,
     "metadata": {},
     "output_type": "execute_result"
    }
   ],
   "source": [
    "data"
   ]
  },
  {
   "cell_type": "code",
   "execution_count": null,
   "id": "2ac8a22c-f998-4fba-98c2-31f2ed62ac3e",
   "metadata": {},
   "outputs": [],
   "source": []
  }
 ],
 "metadata": {
  "kernelspec": {
   "display_name": "Python 3 (ipykernel)",
   "language": "python",
   "name": "python3"
  },
  "language_info": {
   "codemirror_mode": {
    "name": "ipython",
    "version": 3
   },
   "file_extension": ".py",
   "mimetype": "text/x-python",
   "name": "python",
   "nbconvert_exporter": "python",
   "pygments_lexer": "ipython3",
   "version": "3.9.5"
  }
 },
 "nbformat": 4,
 "nbformat_minor": 5
}
