{
 "cells": [
  {
   "cell_type": "markdown",
   "id": "a3329be3-e98f-472d-960f-fa2c6b0a394f",
   "metadata": {},
   "source": [
    "## Ecommerce Trade Sales"
   ]
  },
  {
   "cell_type": "code",
   "execution_count": 114,
   "id": "1be18d54-176d-4c8f-b6ea-806ddf866ac5",
   "metadata": {},
   "outputs": [],
   "source": [
    "# Import libraries\n",
    "\n",
    "import pandas as pd\n",
    "import numpy as np\n",
    "import matplotlib.pyplot as plt\n",
    "from pytrends.request import TrendReq\n",
    "from statsmodels.tsa.stattools import kpss, adfuller"
   ]
  },
  {
   "cell_type": "markdown",
   "id": "e6419626-ad26-494c-9008-8c15975974ff",
   "metadata": {},
   "source": [
    "### Reading and Filtering data"
   ]
  },
  {
   "cell_type": "code",
   "execution_count": 2,
   "id": "79df0606-c9c0-4ba1-997e-c32db0b07db1",
   "metadata": {},
   "outputs": [
    {
     "data": {
      "text/html": [
       "<div>\n",
       "<style scoped>\n",
       "    .dataframe tbody tr th:only-of-type {\n",
       "        vertical-align: middle;\n",
       "    }\n",
       "\n",
       "    .dataframe tbody tr th {\n",
       "        vertical-align: top;\n",
       "    }\n",
       "\n",
       "    .dataframe thead th {\n",
       "        text-align: right;\n",
       "    }\n",
       "</style>\n",
       "<table border=\"1\" class=\"dataframe\">\n",
       "  <thead>\n",
       "    <tr style=\"text-align: right;\">\n",
       "      <th></th>\n",
       "      <th>REF_DATE</th>\n",
       "      <th>GEO</th>\n",
       "      <th>DGUID</th>\n",
       "      <th>Sales</th>\n",
       "      <th>UOM</th>\n",
       "      <th>UOM_ID</th>\n",
       "      <th>SCALAR_FACTOR</th>\n",
       "      <th>SCALAR_ID</th>\n",
       "      <th>VECTOR</th>\n",
       "      <th>COORDINATE</th>\n",
       "      <th>VALUE</th>\n",
       "      <th>STATUS</th>\n",
       "      <th>SYMBOL</th>\n",
       "      <th>TERMINATED</th>\n",
       "      <th>DECIMALS</th>\n",
       "    </tr>\n",
       "  </thead>\n",
       "  <tbody>\n",
       "    <tr>\n",
       "      <th>0</th>\n",
       "      <td>2016-01</td>\n",
       "      <td>Canada</td>\n",
       "      <td>2016A000011124</td>\n",
       "      <td>Retail trade, unadjusted\\n [44-453]</td>\n",
       "      <td>Dollars</td>\n",
       "      <td>81</td>\n",
       "      <td>thousands</td>\n",
       "      <td>3</td>\n",
       "      <td>v108795018</td>\n",
       "      <td>1.1</td>\n",
       "      <td>37415147</td>\n",
       "      <td>A</td>\n",
       "      <td>NaN</td>\n",
       "      <td>NaN</td>\n",
       "      <td>0</td>\n",
       "    </tr>\n",
       "    <tr>\n",
       "      <th>1</th>\n",
       "      <td>2016-01</td>\n",
       "      <td>Canada</td>\n",
       "      <td>2016A000011124</td>\n",
       "      <td>Electronic shopping and mail-order houses, una...</td>\n",
       "      <td>Dollars</td>\n",
       "      <td>81</td>\n",
       "      <td>thousands</td>\n",
       "      <td>3</td>\n",
       "      <td>v108795019</td>\n",
       "      <td>1.2</td>\n",
       "      <td>679612</td>\n",
       "      <td>B</td>\n",
       "      <td>NaN</td>\n",
       "      <td>NaN</td>\n",
       "      <td>0</td>\n",
       "    </tr>\n",
       "  </tbody>\n",
       "</table>\n",
       "</div>"
      ],
      "text/plain": [
       "  REF_DATE     GEO           DGUID  \\\n",
       "0  2016-01  Canada  2016A000011124   \n",
       "1  2016-01  Canada  2016A000011124   \n",
       "\n",
       "                                               Sales      UOM  UOM_ID  \\\n",
       "0                Retail trade, unadjusted\\n [44-453]  Dollars      81   \n",
       "1  Electronic shopping and mail-order houses, una...  Dollars      81   \n",
       "\n",
       "  SCALAR_FACTOR  SCALAR_ID      VECTOR  COORDINATE     VALUE STATUS  SYMBOL  \\\n",
       "0     thousands          3  v108795018         1.1  37415147      A     NaN   \n",
       "1     thousands          3  v108795019         1.2    679612      B     NaN   \n",
       "\n",
       "   TERMINATED  DECIMALS  \n",
       "0         NaN         0  \n",
       "1         NaN         0  "
      ]
     },
     "execution_count": 2,
     "metadata": {},
     "output_type": "execute_result"
    }
   ],
   "source": [
    "data = pd.read_csv('../../data/retailEcommercesales/retailEcommerceSales.csv',sep=',')\n",
    "data.head(2)"
   ]
  },
  {
   "cell_type": "code",
   "execution_count": 3,
   "id": "46852bce-526b-4622-9673-7f660311347a",
   "metadata": {},
   "outputs": [],
   "source": [
    "# data filter\n",
    "retailEcommercesales = data[~data[\"Sales\"].str.contains('unadjusted')]\n",
    "retailEcommercesales = retailEcommercesales.filter(['REF_DATE','VALUE'])\n",
    "\n",
    "# rename columns\n",
    "retailEcommercesales = retailEcommercesales.rename(columns = {'REF_DATE': 'Date', 'VALUE': 'Ecommerce_sales'})"
   ]
  },
  {
   "cell_type": "code",
   "execution_count": 4,
   "id": "f0c9f1ed-0cc6-451a-9d4d-665977c6ddc8",
   "metadata": {},
   "outputs": [
    {
     "data": {
      "text/html": [
       "<div>\n",
       "<style scoped>\n",
       "    .dataframe tbody tr th:only-of-type {\n",
       "        vertical-align: middle;\n",
       "    }\n",
       "\n",
       "    .dataframe tbody tr th {\n",
       "        vertical-align: top;\n",
       "    }\n",
       "\n",
       "    .dataframe thead th {\n",
       "        text-align: right;\n",
       "    }\n",
       "</style>\n",
       "<table border=\"1\" class=\"dataframe\">\n",
       "  <thead>\n",
       "    <tr style=\"text-align: right;\">\n",
       "      <th></th>\n",
       "      <th>Date</th>\n",
       "      <th>Ecommerce_sales</th>\n",
       "    </tr>\n",
       "  </thead>\n",
       "  <tbody>\n",
       "    <tr>\n",
       "      <th>3</th>\n",
       "      <td>2016-01</td>\n",
       "      <td>977198</td>\n",
       "    </tr>\n",
       "    <tr>\n",
       "      <th>7</th>\n",
       "      <td>2016-02</td>\n",
       "      <td>1006610</td>\n",
       "    </tr>\n",
       "  </tbody>\n",
       "</table>\n",
       "</div>"
      ],
      "text/plain": [
       "      Date  Ecommerce_sales\n",
       "3  2016-01           977198\n",
       "7  2016-02          1006610"
      ]
     },
     "execution_count": 4,
     "metadata": {},
     "output_type": "execute_result"
    }
   ],
   "source": [
    "retailEcommercesales.head(2)"
   ]
  },
  {
   "cell_type": "markdown",
   "id": "2dd82232-f9ee-405b-b184-ce8484463f46",
   "metadata": {},
   "source": [
    "### Time series plot of Ecommerce trade sales"
   ]
  },
  {
   "cell_type": "code",
   "execution_count": 5,
   "id": "13adb319-c57c-4ddb-81b6-72f75ebf3d64",
   "metadata": {},
   "outputs": [
    {
     "data": {
      "image/png": "[encoded data removed]",
      "text/plain": [
       "<Figure size 432x288 with 1 Axes>"
      ]
     },
     "metadata": {
      "needs_background": "light"
     },
     "output_type": "display_data"
    }
   ],
   "source": [
    "retailEcommercesales_dup = retailEcommercesales.copy()\n",
    "retailEcommercesales_dup.index=retailEcommercesales_dup['Date']\n",
    "plt.plot(retailEcommercesales_dup['Ecommerce_sales'])\n",
    "plt.show()"
   ]
  },
  {
   "cell_type": "code",
   "execution_count": 15,
   "id": "3bc7ecf6-d187-4e71-9139-8f18601d0c15",
   "metadata": {},
   "outputs": [],
   "source": [
    "retailEcommercesales_ts = retailEcommercesales.set_index('Date')"
   ]
  },
  {
   "cell_type": "code",
   "execution_count": 29,
   "id": "1fc6119b-5fe4-47c0-a804-8911f3b03a02",
   "metadata": {},
   "outputs": [
    {
     "data": {
      "text/html": [
       "<div>\n",
       "<style scoped>\n",
       "    .dataframe tbody tr th:only-of-type {\n",
       "        vertical-align: middle;\n",
       "    }\n",
       "\n",
       "    .dataframe tbody tr th {\n",
       "        vertical-align: top;\n",
       "    }\n",
       "\n",
       "    .dataframe thead th {\n",
       "        text-align: right;\n",
       "    }\n",
       "</style>\n",
       "<table border=\"1\" class=\"dataframe\">\n",
       "  <thead>\n",
       "    <tr style=\"text-align: right;\">\n",
       "      <th></th>\n",
       "      <th>Ecommerce_sales</th>\n",
       "      <th>Growth_rate</th>\n",
       "    </tr>\n",
       "    <tr>\n",
       "      <th>Date</th>\n",
       "      <th></th>\n",
       "      <th></th>\n",
       "    </tr>\n",
       "  </thead>\n",
       "  <tbody>\n",
       "    <tr>\n",
       "      <th>2016-01</th>\n",
       "      <td>977198</td>\n",
       "      <td>0.000000</td>\n",
       "    </tr>\n",
       "    <tr>\n",
       "      <th>2016-02</th>\n",
       "      <td>1006610</td>\n",
       "      <td>0.030098</td>\n",
       "    </tr>\n",
       "  </tbody>\n",
       "</table>\n",
       "</div>"
      ],
      "text/plain": [
       "         Ecommerce_sales  Growth_rate\n",
       "Date                                 \n",
       "2016-01           977198     0.000000\n",
       "2016-02          1006610     0.030098"
      ]
     },
     "execution_count": 29,
     "metadata": {},
     "output_type": "execute_result"
    }
   ],
   "source": [
    "retailEcommercesales_ts.head(2)"
   ]
  },
  {
   "cell_type": "code",
   "execution_count": 17,
   "id": "600ef285-4ef3-4ce6-ada5-228df6a29925",
   "metadata": {},
   "outputs": [],
   "source": [
    "retailEcommercesales_ts['Growth_rate'] = retailEcommercesales_ts.pct_change()"
   ]
  },
  {
   "cell_type": "code",
   "execution_count": 28,
   "id": "df831f99-79b3-4d1b-b9df-6c1d1884d82d",
   "metadata": {},
   "outputs": [
    {
     "name": "stderr",
     "output_type": "stream",
     "text": [
      "C:\\Users\\hp\\AppData\\Local\\Temp\\ipykernel_9496\\1695327831.py:1: SettingWithCopyWarning: \n",
      "A value is trying to be set on a copy of a slice from a DataFrame\n",
      "\n",
      "See the caveats in the documentation: https://pandas.pydata.org/pandas-docs/stable/user_guide/indexing.html#returning-a-view-versus-a-copy\n",
      "  retailEcommercesales_ts['Growth_rate'][0] = '0'\n"
     ]
    }
   ],
   "source": [
    "retailEcommercesales_ts['Growth_rate'][0] = '0'"
   ]
  },
  {
   "cell_type": "code",
   "execution_count": 169,
   "id": "381ed564-37db-4e9f-afee-e9fdaf3f4394",
   "metadata": {},
   "outputs": [
    {
     "data": {
      "image/png": "[encoded data removed]",
      "text/plain": [
       "<Figure size 432x288 with 1 Axes>"
      ]
     },
     "metadata": {
      "needs_background": "light"
     },
     "output_type": "display_data"
    },
    {
     "data": {
      "text/plain": [
       "<Figure size 1600x500 with 0 Axes>"
      ]
     },
     "metadata": {},
     "output_type": "display_data"
    }
   ],
   "source": [
    "# Plot\n",
    "plt.plot(retailEcommercesales_ts['Growth_rate'], marker='o')\n",
    "\n",
    "# Labelling \n",
    "plt.xlabel(\"Date\")\n",
    "plt.ylabel(\"GrowthRate\")\n",
    "plt.title(\"Growth Rate for E-commerce retail sales\")\n",
    "plt.figure(figsize=(16,5), dpi=100)\n",
    "\n",
    "# Display\n",
    "plt.show()"
   ]
  },
  {
   "cell_type": "markdown",
   "id": "4752701f-7e66-4cf8-8a07-9ddcac188334",
   "metadata": {},
   "source": [
    "### Stationarity testing"
   ]
  },
  {
   "cell_type": "markdown",
   "id": "70cb080b-0db5-4003-a8a0-7d940e3d87c5",
   "metadata": {},
   "source": [
    "**KPSS Test**"
   ]
  },
  {
   "cell_type": "code",
   "execution_count": 165,
   "id": "cea7bb1b-5c9b-425d-8aee-6095b66917d3",
   "metadata": {},
   "outputs": [],
   "source": [
    "def kpss_test(timeseries):\n",
    "    print(\"Result from the KPSS Stationarity Test: \")\n",
    "    kpsstest = kpss(timeseries, regression=\"c\", nlags=\"auto\")\n",
    "    kpss_output = pd.Series(\n",
    "        kpsstest[0:3], index=[\"Test Statistic\", \"p-value\", \"Lags Used\"]\n",
    "    )\n",
    "    for key, value in kpsstest[3].items():\n",
    "        kpss_output[\"Critical Value (%s)\" % key] = value\n",
    "    #print(kpss_output)\n",
    "    if kpsstest[1] > 0.05:\n",
    "        print(\"    The series is stationary with 5% level of significant\")\n",
    "    else:\n",
    "        print(\"    The series is not stationary with 5% level of significant\")"
   ]
  },
  {
   "cell_type": "code",
   "execution_count": 74,
   "id": "568cfe75-9e27-4cb0-9e1a-46ec12314f49",
   "metadata": {},
   "outputs": [
    {
     "name": "stdout",
     "output_type": "stream",
     "text": [
      "Result from the ADF Stationarity Test: \n",
      "    The series is stationary\n"
     ]
    },
    {
     "name": "stderr",
     "output_type": "stream",
     "text": [
      "C:\\Users\\hp\\miniconda3\\lib\\site-packages\\statsmodels\\tsa\\stattools.py:2022: InterpolationWarning: The test statistic is outside of the range of p-values available in the\n",
      "look-up table. The actual p-value is greater than the p-value returned.\n",
      "\n",
      "  warnings.warn(\n"
     ]
    }
   ],
   "source": [
    "kpss_test(retailEcommercesales_ts['Growth_rate'])"
   ]
  },
  {
   "cell_type": "markdown",
   "id": "2dface24-1322-40ff-876b-3a51deb71e97",
   "metadata": {},
   "source": [
    "**Interpretation:**\n",
    "\n",
    "The test indicates that the series is stationary as p-value is greater than 5% level of significance implying we fail to reject the null hypothesis."
   ]
  },
  {
   "cell_type": "markdown",
   "id": "676af09c-bbdc-4a4b-b87b-6672e4d00c9e",
   "metadata": {},
   "source": [
    "**ADF Test**"
   ]
  },
  {
   "cell_type": "code",
   "execution_count": 166,
   "id": "49cc1071-ac77-4801-acf5-bd4a519e6523",
   "metadata": {},
   "outputs": [],
   "source": [
    "def adf_test(timeseries):\n",
    "    print(\"Result from the ADF Stationarity Test: \")\n",
    "    dftest = adfuller(timeseries, autolag=\"AIC\")\n",
    "    dfoutput = pd.Series(\n",
    "        dftest[0:4],\n",
    "        index=[\n",
    "            \"Test Statistic\",\n",
    "            \"p-value\",\n",
    "            \"#Lags Used\",\n",
    "            \"Number of Observations Used\",\n",
    "        ],\n",
    "    )\n",
    "    \n",
    "    if dftest[1] < 0.05 :\n",
    "        print(\"    The series is Stationary with 5% level of significant\")\n",
    "    else:\n",
    "        print(\"    The series is Non-Stationary with 5% level of significant\")"
   ]
  },
  {
   "cell_type": "code",
   "execution_count": 72,
   "id": "eeb72154-49e4-4e14-afdf-3a859c69e2b0",
   "metadata": {},
   "outputs": [
    {
     "name": "stdout",
     "output_type": "stream",
     "text": [
      "Result from the ADF Stationarity Test: \n",
      "    The Series is Stationary\n"
     ]
    }
   ],
   "source": [
    "adf_test(retailEcommercesales_ts['Growth_rate'])"
   ]
  },
  {
   "cell_type": "markdown",
   "id": "ac76ffa2-49cf-4ee1-a75f-fbe05c904e48",
   "metadata": {},
   "source": [
    "**Interpretation:**\n",
    "\n",
    "The test indicates that the series is stationary as p-value is smaller than 5% level of significance implying we reject the null hypothesis."
   ]
  },
  {
   "cell_type": "markdown",
   "id": "63e16e47-6f4c-4a77-a5fc-2399b3d498f8",
   "metadata": {},
   "source": [
    "### Keywords extraction using PyTrend"
   ]
  },
  {
   "cell_type": "code",
   "execution_count": 127,
   "id": "9bd86723-e218-48b8-865e-038c72758c41",
   "metadata": {},
   "outputs": [],
   "source": [
    "pytrends = TrendReq(hl='en-us', backoff_factor=0.1)\n",
    "\n",
    "def ecommerce_trend(keywords=[''],category='340'):\n",
    "    \n",
    "    \"\"\" \n",
    "    Function for getting trends for selected keywords\n",
    "        \n",
    "        arguments: \n",
    "        \n",
    "            Keywords: List of String ser\n",
    "            category: String: stores the code for category\n",
    "        \n",
    "        returns: Related queries and related topics from google trend as a data frame\n",
    "    \"\"\"\n",
    "    kw_list = keywords\n",
    "    cat=category\n",
    "    timeframe = '2004-01-01 2022-05-11'\n",
    "    geo='CA'\n",
    "    \n",
    "    pytrends.build_payload(kw_list, cat, timeframe, geo, gprop='')\n",
    "    data = pytrends.interest_over_time()\n",
    "    queries = pytrends.related_queries()\n",
    "    topics = pytrends.related_topics()\n",
    "    \n",
    "    return data , queries, topics"
   ]
  },
  {
   "cell_type": "code",
   "execution_count": null,
   "id": "24858ab7-e6e5-4166-8fad-e86b9cacdab3",
   "metadata": {},
   "outputs": [],
   "source": []
  },
  {
   "cell_type": "markdown",
   "id": "2a86949c-cbb1-47d8-bfeb-273fde9e60c6",
   "metadata": {},
   "source": [
    "### Normalize a time series"
   ]
  },
  {
   "cell_type": "code",
   "execution_count": 173,
   "id": "929689f3-08b0-49ce-92af-6cc50d9ef2b4",
   "metadata": {},
   "outputs": [],
   "source": [
    "PayPal_ts, queries, topics = ecommerce_trend(keywords=['PayPal'],category='340')"
   ]
  },
  {
   "cell_type": "code",
   "execution_count": 180,
   "id": "4a1ca6cd-5d34-4585-9f83-25f0e3a56fbe",
   "metadata": {},
   "outputs": [],
   "source": [
    "def normalization(x):\n",
    "    x_min,x_max = min(x) , max(x)\n",
    "    for i in range(len(x)):\n",
    "        value = (x[i] - x_min)/(x_max - x_min)\n",
    "        return value"
   ]
  },
  {
   "cell_type": "code",
   "execution_count": 181,
   "id": "d8b85fbe-fe2b-4e8c-b1cb-a1b958e1c727",
   "metadata": {},
   "outputs": [
    {
     "data": {
      "text/plain": [
       "0.0"
      ]
     },
     "execution_count": 181,
     "metadata": {},
     "output_type": "execute_result"
    }
   ],
   "source": [
    "x=[1,2,3,4]\n",
    "normalization(x)"
   ]
  },
  {
   "cell_type": "code",
   "execution_count": null,
   "id": "8ca73880-5e20-4e86-9a84-27c26da3e13f",
   "metadata": {},
   "outputs": [],
   "source": []
  },
  {
   "cell_type": "markdown",
   "id": "39527ee7-955d-450f-b46c-5082aae34f39",
   "metadata": {},
   "source": [
    "**Dictionary of keywords**"
   ]
  },
  {
   "cell_type": "code",
   "execution_count": 128,
   "id": "2ac8a22c-f998-4fba-98c2-31f2ed62ac3e",
   "metadata": {},
   "outputs": [],
   "source": [
    "category_ts, queries, topics = ecommerce_trend(keywords=[''],category='340')  #function calling\n",
    "\n",
    "keyword_query_frame= dict()  #Dictionary for queries\n",
    "keyword_topic_frame= dict()  #Dictionary for topic\n",
    "\n",
    "# keywords from queries\n",
    "keyword_rising_query = queries['']['rising']['query'].unique().tolist() \n",
    "keyword_top_query = queries['']['top']['query'].unique().tolist()\n",
    "\n",
    "# keywords from topic\n",
    "keyword_rising_topics = topics['']['rising']['topic_title'].unique().tolist() \n",
    "keyword_top_topics = topics['']['top']['topic_title'].unique().tolist()"
   ]
  },
  {
   "cell_type": "code",
   "execution_count": 129,
   "id": "0ab03dd7-c8ce-4337-a27e-d748f140a75e",
   "metadata": {},
   "outputs": [],
   "source": [
    "# keywords dict\n",
    "\n",
    "keyword_query_frame['340'] = keyword_top_query\n",
    "keyword_topic_frame['340'] = keyword_top_topics"
   ]
  },
  {
   "cell_type": "code",
   "execution_count": 130,
   "id": "bfb34652-496e-47f1-ad6d-710a3cdeccde",
   "metadata": {},
   "outputs": [
    {
     "data": {
      "text/plain": [
       "{'340': ['PayPal',\n",
       "  'Payment',\n",
       "  'Money',\n",
       "  'Canada',\n",
       "  'Shopify',\n",
       "  'Number',\n",
       "  'Western Union',\n",
       "  'Bank',\n",
       "  'MoneyGram International Inc',\n",
       "  'PayPal CA ltd',\n",
       "  'Account',\n",
       "  'Invoice',\n",
       "  'Moneris',\n",
       "  'Credit',\n",
       "  'TD Canada Trust',\n",
       "  'Credit card',\n",
       "  'E-commerce',\n",
       "  'Cheque',\n",
       "  'Google',\n",
       "  'Electronic funds transfer',\n",
       "  'Routing number']}"
      ]
     },
     "execution_count": 130,
     "metadata": {},
     "output_type": "execute_result"
    }
   ],
   "source": [
    "keyword_topic_frame"
   ]
  },
  {
   "cell_type": "markdown",
   "id": "950e957e-45e6-4fb0-9738-d3400d5ec417",
   "metadata": {},
   "source": [
    "### Category Time Series"
   ]
  },
  {
   "cell_type": "code",
   "execution_count": 99,
   "id": "94bcde49-7a69-4f5d-acae-d1efe16061de",
   "metadata": {},
   "outputs": [],
   "source": [
    "category_ts = category_ts.drop(columns='isPartial')\n",
    "category_ts['Growth_rate'] = category_ts.pct_change()\n",
    "category_ts['Growth_rate'][0] = '0'"
   ]
  },
  {
   "cell_type": "code",
   "execution_count": 103,
   "id": "c16463c4-3108-4590-b874-689c071f1859",
   "metadata": {},
   "outputs": [
    {
     "data": {
      "text/html": [
       "<div>\n",
       "<style scoped>\n",
       "    .dataframe tbody tr th:only-of-type {\n",
       "        vertical-align: middle;\n",
       "    }\n",
       "\n",
       "    .dataframe tbody tr th {\n",
       "        vertical-align: top;\n",
       "    }\n",
       "\n",
       "    .dataframe thead th {\n",
       "        text-align: right;\n",
       "    }\n",
       "</style>\n",
       "<table border=\"1\" class=\"dataframe\">\n",
       "  <thead>\n",
       "    <tr style=\"text-align: right;\">\n",
       "      <th></th>\n",
       "      <th></th>\n",
       "      <th>Growth_rate</th>\n",
       "    </tr>\n",
       "    <tr>\n",
       "      <th>date</th>\n",
       "      <th></th>\n",
       "      <th></th>\n",
       "    </tr>\n",
       "  </thead>\n",
       "  <tbody>\n",
       "    <tr>\n",
       "      <th>2004-01-01</th>\n",
       "      <td>90</td>\n",
       "      <td>0.000000</td>\n",
       "    </tr>\n",
       "    <tr>\n",
       "      <th>2004-02-01</th>\n",
       "      <td>93</td>\n",
       "      <td>0.033333</td>\n",
       "    </tr>\n",
       "  </tbody>\n",
       "</table>\n",
       "</div>"
      ],
      "text/plain": [
       "                Growth_rate\n",
       "date                       \n",
       "2004-01-01  90     0.000000\n",
       "2004-02-01  93     0.033333"
      ]
     },
     "execution_count": 103,
     "metadata": {},
     "output_type": "execute_result"
    }
   ],
   "source": [
    "category_ts.head(2)"
   ]
  },
  {
   "cell_type": "code",
   "execution_count": 168,
   "id": "6cd6dddc-acf4-4d5e-8859-f831a6c17434",
   "metadata": {},
   "outputs": [
    {
     "data": {
      "image/png": "[encoded data removed]",
      "text/plain": [
       "<Figure size 432x288 with 1 Axes>"
      ]
     },
     "metadata": {
      "needs_background": "light"
     },
     "output_type": "display_data"
    },
    {
     "data": {
      "text/plain": [
       "<Figure size 1600x500 with 0 Axes>"
      ]
     },
     "metadata": {},
     "output_type": "display_data"
    }
   ],
   "source": [
    "# Plot\n",
    "plt.plot(category_ts['Growth_rate'], marker='o')\n",
    "\n",
    "# Labelling \n",
    "plt.xlabel(\"Date\")\n",
    "plt.ylabel(\"GrowthRate\")\n",
    "plt.title(\"Growth Rate for category:'E-commerce'\")\n",
    "plt.figure(figsize=(16,5), dpi=100)\n",
    "\n",
    "\n",
    "# Display\n",
    "plt.show()"
   ]
  },
  {
   "cell_type": "markdown",
   "id": "f04d68d3-2d69-4b73-ab59-500039675bd4",
   "metadata": {},
   "source": [
    "**Category Stationarity Test**"
   ]
  },
  {
   "cell_type": "code",
   "execution_count": 106,
   "id": "866576d1-a6be-4970-88a3-a4f49c054898",
   "metadata": {},
   "outputs": [
    {
     "name": "stdout",
     "output_type": "stream",
     "text": [
      "Result from the ADF Stationarity Test: \n",
      "    The series is stationary\n"
     ]
    },
    {
     "name": "stderr",
     "output_type": "stream",
     "text": [
      "C:\\Users\\hp\\miniconda3\\lib\\site-packages\\statsmodels\\tsa\\stattools.py:2022: InterpolationWarning: The test statistic is outside of the range of p-values available in the\n",
      "look-up table. The actual p-value is greater than the p-value returned.\n",
      "\n",
      "  warnings.warn(\n"
     ]
    }
   ],
   "source": [
    "kpss_test(category_ts['Growth_rate'])"
   ]
  },
  {
   "cell_type": "code",
   "execution_count": 107,
   "id": "eda97697-f335-42a8-9235-4dac1a03e311",
   "metadata": {},
   "outputs": [
    {
     "name": "stdout",
     "output_type": "stream",
     "text": [
      "Result from the ADF Stationarity Test: \n",
      "    The Series is Stationary\n"
     ]
    }
   ],
   "source": [
    "adf_test(category_ts['Growth_rate'])"
   ]
  },
  {
   "cell_type": "markdown",
   "id": "93c16f0f-0701-4991-9f89-6263ad175051",
   "metadata": {},
   "source": [
    "### Keywords Time Series"
   ]
  },
  {
   "cell_type": "code",
   "execution_count": 131,
   "id": "77d55cd7-cac9-46dd-b3bb-b98264ce7fa7",
   "metadata": {},
   "outputs": [
    {
     "data": {
      "text/plain": [
       "{'340': ['PayPal',\n",
       "  'Payment',\n",
       "  'Money',\n",
       "  'Canada',\n",
       "  'Shopify',\n",
       "  'Number',\n",
       "  'Western Union',\n",
       "  'Bank',\n",
       "  'MoneyGram International Inc',\n",
       "  'PayPal CA ltd',\n",
       "  'Account',\n",
       "  'Invoice',\n",
       "  'Moneris',\n",
       "  'Credit',\n",
       "  'TD Canada Trust',\n",
       "  'Credit card',\n",
       "  'E-commerce',\n",
       "  'Cheque',\n",
       "  'Google',\n",
       "  'Electronic funds transfer',\n",
       "  'Routing number']}"
      ]
     },
     "execution_count": 131,
     "metadata": {},
     "output_type": "execute_result"
    }
   ],
   "source": [
    "keyword_topic_frame"
   ]
  },
  {
   "cell_type": "code",
   "execution_count": 172,
   "id": "d50e3a9d-2d69-4f55-b7e0-89b4c4fe8056",
   "metadata": {},
   "outputs": [
    {
     "name": "stderr",
     "output_type": "stream",
     "text": [
      "C:\\Users\\hp\\AppData\\Local\\Temp\\ipykernel_9496\\704214702.py:8: SettingWithCopyWarning: \n",
      "A value is trying to be set on a copy of a slice from a DataFrame\n",
      "\n",
      "See the caveats in the documentation: https://pandas.pydata.org/pandas-docs/stable/user_guide/indexing.html#returning-a-view-versus-a-copy\n",
      "  topicKeywords_ts['Growth_rate'][0] = '0'\n"
     ]
    },
    {
     "name": "stdout",
     "output_type": "stream",
     "text": [
      "            PayPal  Growth_rate\n",
      "date                           \n",
      "2004-01-01      53     0.000000\n",
      "2004-02-01      48    -0.094340\n",
      "2004-03-01      41    -0.145833\n",
      "2004-04-01      44     0.073171\n",
      "2004-05-01      48     0.090909\n",
      "...            ...          ...\n",
      "2022-01-01      53    -0.101695\n",
      "2022-02-01      51    -0.037736\n",
      "2022-03-01      49    -0.039216\n",
      "2022-04-01      49     0.000000\n",
      "2022-05-01      45    -0.081633\n",
      "\n",
      "[221 rows x 2 columns]\n"
     ]
    },
    {
     "name": "stderr",
     "output_type": "stream",
     "text": [
      "C:\\Users\\hp\\AppData\\Local\\Temp\\ipykernel_9496\\704214702.py:8: SettingWithCopyWarning: \n",
      "A value is trying to be set on a copy of a slice from a DataFrame\n",
      "\n",
      "See the caveats in the documentation: https://pandas.pydata.org/pandas-docs/stable/user_guide/indexing.html#returning-a-view-versus-a-copy\n",
      "  topicKeywords_ts['Growth_rate'][0] = '0'\n"
     ]
    },
    {
     "name": "stdout",
     "output_type": "stream",
     "text": [
      "            Payment  Growth_rate\n",
      "date                            \n",
      "2004-01-01       21     0.000000\n",
      "2004-02-01       32     0.523810\n",
      "2004-03-01       28    -0.125000\n",
      "2004-04-01       26    -0.071429\n",
      "2004-05-01       18    -0.307692\n",
      "...             ...          ...\n",
      "2022-01-01       79    -0.012500\n",
      "2022-02-01       77    -0.025316\n",
      "2022-03-01       76    -0.012987\n",
      "2022-04-01       82     0.078947\n",
      "2022-05-01       82     0.000000\n",
      "\n",
      "[221 rows x 2 columns]\n"
     ]
    },
    {
     "name": "stderr",
     "output_type": "stream",
     "text": [
      "C:\\Users\\hp\\AppData\\Local\\Temp\\ipykernel_9496\\704214702.py:8: SettingWithCopyWarning: \n",
      "A value is trying to be set on a copy of a slice from a DataFrame\n",
      "\n",
      "See the caveats in the documentation: https://pandas.pydata.org/pandas-docs/stable/user_guide/indexing.html#returning-a-view-versus-a-copy\n",
      "  topicKeywords_ts['Growth_rate'][0] = '0'\n"
     ]
    },
    {
     "name": "stdout",
     "output_type": "stream",
     "text": [
      "            Money  Growth_rate\n",
      "date                          \n",
      "2004-01-01     46     0.000000\n",
      "2004-02-01     38    -0.173913\n",
      "2004-03-01     58     0.526316\n",
      "2004-04-01     50    -0.137931\n",
      "2004-05-01     37    -0.260000\n",
      "...           ...          ...\n",
      "2022-01-01     82     0.012346\n",
      "2022-02-01     81    -0.012195\n",
      "2022-03-01     87     0.074074\n",
      "2022-04-01     83    -0.045977\n",
      "2022-05-01     78    -0.060241\n",
      "\n",
      "[221 rows x 2 columns]\n"
     ]
    },
    {
     "name": "stderr",
     "output_type": "stream",
     "text": [
      "C:\\Users\\hp\\AppData\\Local\\Temp\\ipykernel_9496\\704214702.py:8: SettingWithCopyWarning: \n",
      "A value is trying to be set on a copy of a slice from a DataFrame\n",
      "\n",
      "See the caveats in the documentation: https://pandas.pydata.org/pandas-docs/stable/user_guide/indexing.html#returning-a-view-versus-a-copy\n",
      "  topicKeywords_ts['Growth_rate'][0] = '0'\n"
     ]
    },
    {
     "name": "stdout",
     "output_type": "stream",
     "text": [
      "            Canada  Growth_rate\n",
      "date                           \n",
      "2004-01-01      27     0.000000\n",
      "2004-02-01      26    -0.037037\n",
      "2004-03-01      28     0.076923\n",
      "2004-04-01      25    -0.107143\n",
      "2004-05-01      22    -0.120000\n",
      "...            ...          ...\n",
      "2022-01-01      72    -0.052632\n",
      "2022-02-01      70    -0.027778\n",
      "2022-03-01      84     0.200000\n",
      "2022-04-01      81    -0.035714\n",
      "2022-05-01      78    -0.037037\n",
      "\n",
      "[221 rows x 2 columns]\n"
     ]
    },
    {
     "name": "stderr",
     "output_type": "stream",
     "text": [
      "C:\\Users\\hp\\AppData\\Local\\Temp\\ipykernel_9496\\704214702.py:8: SettingWithCopyWarning: \n",
      "A value is trying to be set on a copy of a slice from a DataFrame\n",
      "\n",
      "See the caveats in the documentation: https://pandas.pydata.org/pandas-docs/stable/user_guide/indexing.html#returning-a-view-versus-a-copy\n",
      "  topicKeywords_ts['Growth_rate'][0] = '0'\n"
     ]
    },
    {
     "name": "stdout",
     "output_type": "stream",
     "text": [
      "            Shopify  Growth_rate\n",
      "date                            \n",
      "2004-01-01        0     0.000000\n",
      "2004-02-01        0          NaN\n",
      "2004-03-01        0          NaN\n",
      "2004-04-01        0          NaN\n",
      "2004-05-01        0          NaN\n",
      "...             ...          ...\n",
      "2022-01-01       49     0.166667\n",
      "2022-02-01       48    -0.020408\n",
      "2022-03-01       47    -0.020833\n",
      "2022-04-01       43    -0.085106\n",
      "2022-05-01       39    -0.093023\n",
      "\n",
      "[221 rows x 2 columns]\n"
     ]
    },
    {
     "name": "stderr",
     "output_type": "stream",
     "text": [
      "C:\\Users\\hp\\AppData\\Local\\Temp\\ipykernel_9496\\704214702.py:8: SettingWithCopyWarning: \n",
      "A value is trying to be set on a copy of a slice from a DataFrame\n",
      "\n",
      "See the caveats in the documentation: https://pandas.pydata.org/pandas-docs/stable/user_guide/indexing.html#returning-a-view-versus-a-copy\n",
      "  topicKeywords_ts['Growth_rate'][0] = '0'\n"
     ]
    },
    {
     "name": "stdout",
     "output_type": "stream",
     "text": [
      "            Number  Growth_rate\n",
      "date                           \n",
      "2004-01-01      17     0.000000\n",
      "2004-02-01       6    -0.647059\n",
      "2004-03-01      26     3.333333\n",
      "2004-04-01      15    -0.423077\n",
      "2004-05-01      10    -0.333333\n",
      "...            ...          ...\n",
      "2022-01-01      64     0.015873\n",
      "2022-02-01      64     0.000000\n",
      "2022-03-01      69     0.078125\n",
      "2022-04-01      67    -0.028986\n",
      "2022-05-01      74     0.104478\n",
      "\n",
      "[221 rows x 2 columns]\n"
     ]
    },
    {
     "name": "stderr",
     "output_type": "stream",
     "text": [
      "C:\\Users\\hp\\AppData\\Local\\Temp\\ipykernel_9496\\704214702.py:8: SettingWithCopyWarning: \n",
      "A value is trying to be set on a copy of a slice from a DataFrame\n",
      "\n",
      "See the caveats in the documentation: https://pandas.pydata.org/pandas-docs/stable/user_guide/indexing.html#returning-a-view-versus-a-copy\n",
      "  topicKeywords_ts['Growth_rate'][0] = '0'\n"
     ]
    },
    {
     "name": "stdout",
     "output_type": "stream",
     "text": [
      "            Western Union  Growth_rate\n",
      "date                                  \n",
      "2004-01-01             39     0.000000\n",
      "2004-02-01             45     0.153846\n",
      "2004-03-01             22    -0.511111\n",
      "2004-04-01             48     1.181818\n",
      "2004-05-01             37    -0.229167\n",
      "...                   ...          ...\n",
      "2022-01-01             70    -0.239130\n",
      "2022-02-01             70     0.000000\n",
      "2022-03-01             69    -0.014286\n",
      "2022-04-01             79     0.144928\n",
      "2022-05-01             68    -0.139241\n",
      "\n",
      "[221 rows x 2 columns]\n"
     ]
    },
    {
     "name": "stderr",
     "output_type": "stream",
     "text": [
      "C:\\Users\\hp\\AppData\\Local\\Temp\\ipykernel_9496\\704214702.py:8: SettingWithCopyWarning: \n",
      "A value is trying to be set on a copy of a slice from a DataFrame\n",
      "\n",
      "See the caveats in the documentation: https://pandas.pydata.org/pandas-docs/stable/user_guide/indexing.html#returning-a-view-versus-a-copy\n",
      "  topicKeywords_ts['Growth_rate'][0] = '0'\n"
     ]
    },
    {
     "name": "stdout",
     "output_type": "stream",
     "text": [
      "            Bank  Growth_rate\n",
      "date                         \n",
      "2004-01-01    14     0.000000\n",
      "2004-02-01    43     2.071429\n",
      "2004-03-01    20    -0.534884\n",
      "2004-04-01    25     0.250000\n",
      "2004-05-01    18    -0.280000\n",
      "...          ...          ...\n",
      "2022-01-01    77     0.069444\n",
      "2022-02-01    79     0.025974\n",
      "2022-03-01    73    -0.075949\n",
      "2022-04-01    73     0.000000\n",
      "2022-05-01    68    -0.068493\n",
      "\n",
      "[221 rows x 2 columns]\n"
     ]
    },
    {
     "name": "stderr",
     "output_type": "stream",
     "text": [
      "C:\\Users\\hp\\AppData\\Local\\Temp\\ipykernel_9496\\704214702.py:8: SettingWithCopyWarning: \n",
      "A value is trying to be set on a copy of a slice from a DataFrame\n",
      "\n",
      "See the caveats in the documentation: https://pandas.pydata.org/pandas-docs/stable/user_guide/indexing.html#returning-a-view-versus-a-copy\n",
      "  topicKeywords_ts['Growth_rate'][0] = '0'\n"
     ]
    },
    {
     "name": "stdout",
     "output_type": "stream",
     "text": [
      "            Account  Growth_rate\n",
      "date                            \n",
      "2004-01-01       16     0.000000\n",
      "2004-02-01       19     0.187500\n",
      "2004-03-01       23     0.210526\n",
      "2004-04-01       25     0.086957\n",
      "2004-05-01       20    -0.200000\n",
      "...             ...          ...\n",
      "2022-01-01       66     0.081967\n",
      "2022-02-01       58    -0.121212\n",
      "2022-03-01       63     0.086207\n",
      "2022-04-01       58    -0.079365\n",
      "2022-05-01       66     0.137931\n",
      "\n",
      "[221 rows x 2 columns]\n"
     ]
    },
    {
     "name": "stderr",
     "output_type": "stream",
     "text": [
      "C:\\Users\\hp\\AppData\\Local\\Temp\\ipykernel_9496\\704214702.py:8: SettingWithCopyWarning: \n",
      "A value is trying to be set on a copy of a slice from a DataFrame\n",
      "\n",
      "See the caveats in the documentation: https://pandas.pydata.org/pandas-docs/stable/user_guide/indexing.html#returning-a-view-versus-a-copy\n",
      "  topicKeywords_ts['Growth_rate'][0] = '0'\n"
     ]
    },
    {
     "name": "stdout",
     "output_type": "stream",
     "text": [
      "            Invoice  Growth_rate\n",
      "date                            \n",
      "2004-01-01        0     0.000000\n",
      "2004-02-01        0          NaN\n",
      "2004-03-01        0          NaN\n",
      "2004-04-01        0          NaN\n",
      "2004-05-01        0          NaN\n",
      "...             ...          ...\n",
      "2022-01-01       50    -0.152542\n",
      "2022-02-01       31    -0.380000\n",
      "2022-03-01       84     1.709677\n",
      "2022-04-01       49    -0.416667\n",
      "2022-05-01       67     0.367347\n",
      "\n",
      "[221 rows x 2 columns]\n"
     ]
    },
    {
     "name": "stderr",
     "output_type": "stream",
     "text": [
      "C:\\Users\\hp\\AppData\\Local\\Temp\\ipykernel_9496\\704214702.py:8: SettingWithCopyWarning: \n",
      "A value is trying to be set on a copy of a slice from a DataFrame\n",
      "\n",
      "See the caveats in the documentation: https://pandas.pydata.org/pandas-docs/stable/user_guide/indexing.html#returning-a-view-versus-a-copy\n",
      "  topicKeywords_ts['Growth_rate'][0] = '0'\n"
     ]
    },
    {
     "name": "stdout",
     "output_type": "stream",
     "text": [
      "            Moneris  Growth_rate\n",
      "date                            \n",
      "2004-01-01       23     0.000000\n",
      "2004-02-01       53     1.304348\n",
      "2004-03-01       36    -0.320755\n",
      "2004-04-01       64     0.777778\n",
      "2004-05-01       36    -0.437500\n",
      "...             ...          ...\n",
      "2022-01-01       64     0.084746\n",
      "2022-02-01       67     0.046875\n",
      "2022-03-01       73     0.089552\n",
      "2022-04-01       68    -0.068493\n",
      "2022-05-01       87     0.279412\n",
      "\n",
      "[221 rows x 2 columns]\n"
     ]
    },
    {
     "name": "stderr",
     "output_type": "stream",
     "text": [
      "C:\\Users\\hp\\AppData\\Local\\Temp\\ipykernel_9496\\704214702.py:8: SettingWithCopyWarning: \n",
      "A value is trying to be set on a copy of a slice from a DataFrame\n",
      "\n",
      "See the caveats in the documentation: https://pandas.pydata.org/pandas-docs/stable/user_guide/indexing.html#returning-a-view-versus-a-copy\n",
      "  topicKeywords_ts['Growth_rate'][0] = '0'\n"
     ]
    },
    {
     "name": "stdout",
     "output_type": "stream",
     "text": [
      "            Credit  Growth_rate\n",
      "date                           \n",
      "2004-01-01      38     0.000000\n",
      "2004-02-01      55     0.447368\n",
      "2004-03-01      75     0.363636\n",
      "2004-04-01      44    -0.413333\n",
      "2004-05-01      29    -0.340909\n",
      "...            ...          ...\n",
      "2022-01-01      80    -0.047619\n",
      "2022-02-01      74    -0.075000\n",
      "2022-03-01      76     0.027027\n",
      "2022-04-01      83     0.092105\n",
      "2022-05-01      91     0.096386\n",
      "\n",
      "[221 rows x 2 columns]\n"
     ]
    },
    {
     "name": "stderr",
     "output_type": "stream",
     "text": [
      "C:\\Users\\hp\\AppData\\Local\\Temp\\ipykernel_9496\\704214702.py:8: SettingWithCopyWarning: \n",
      "A value is trying to be set on a copy of a slice from a DataFrame\n",
      "\n",
      "See the caveats in the documentation: https://pandas.pydata.org/pandas-docs/stable/user_guide/indexing.html#returning-a-view-versus-a-copy\n",
      "  topicKeywords_ts['Growth_rate'][0] = '0'\n"
     ]
    },
    {
     "name": "stdout",
     "output_type": "stream",
     "text": [
      "            TD Canada Trust  Growth_rate\n",
      "date                                    \n",
      "2004-01-01                0     0.000000\n",
      "2004-02-01               50          inf\n",
      "2004-03-01               61     0.220000\n",
      "2004-04-01               25    -0.590164\n",
      "2004-05-01               22    -0.120000\n",
      "...                     ...          ...\n",
      "2022-01-01               32    -0.157895\n",
      "2022-02-01               37     0.156250\n",
      "2022-03-01               30    -0.189189\n",
      "2022-04-01               48     0.600000\n",
      "2022-05-01               34    -0.291667\n",
      "\n",
      "[221 rows x 2 columns]\n"
     ]
    },
    {
     "name": "stderr",
     "output_type": "stream",
     "text": [
      "C:\\Users\\hp\\AppData\\Local\\Temp\\ipykernel_9496\\704214702.py:8: SettingWithCopyWarning: \n",
      "A value is trying to be set on a copy of a slice from a DataFrame\n",
      "\n",
      "See the caveats in the documentation: https://pandas.pydata.org/pandas-docs/stable/user_guide/indexing.html#returning-a-view-versus-a-copy\n",
      "  topicKeywords_ts['Growth_rate'][0] = '0'\n"
     ]
    },
    {
     "name": "stdout",
     "output_type": "stream",
     "text": [
      "            Credit card  Growth_rate\n",
      "date                                \n",
      "2004-01-01           27     0.000000\n",
      "2004-02-01           62     1.296296\n",
      "2004-03-01           67     0.080645\n",
      "2004-04-01           40    -0.402985\n",
      "2004-05-01           12    -0.700000\n",
      "...                 ...          ...\n",
      "2022-01-01           71    -0.089744\n",
      "2022-02-01           65    -0.084507\n",
      "2022-03-01           67     0.030769\n",
      "2022-04-01           76     0.134328\n",
      "2022-05-01           80     0.052632\n",
      "\n",
      "[221 rows x 2 columns]\n"
     ]
    },
    {
     "name": "stderr",
     "output_type": "stream",
     "text": [
      "C:\\Users\\hp\\AppData\\Local\\Temp\\ipykernel_9496\\704214702.py:8: SettingWithCopyWarning: \n",
      "A value is trying to be set on a copy of a slice from a DataFrame\n",
      "\n",
      "See the caveats in the documentation: https://pandas.pydata.org/pandas-docs/stable/user_guide/indexing.html#returning-a-view-versus-a-copy\n",
      "  topicKeywords_ts['Growth_rate'][0] = '0'\n"
     ]
    },
    {
     "name": "stdout",
     "output_type": "stream",
     "text": [
      "            E-commerce  Growth_rate\n",
      "date                               \n",
      "2004-01-01          65     0.000000\n",
      "2004-02-01         100     0.538462\n",
      "2004-03-01          74    -0.260000\n",
      "2004-04-01          65    -0.121622\n",
      "2004-05-01          64    -0.015385\n",
      "...                ...          ...\n",
      "2022-01-01          12     1.400000\n",
      "2022-02-01           9    -0.250000\n",
      "2022-03-01           9     0.000000\n",
      "2022-04-01           9     0.000000\n",
      "2022-05-01          13     0.444444\n",
      "\n",
      "[221 rows x 2 columns]\n"
     ]
    },
    {
     "name": "stderr",
     "output_type": "stream",
     "text": [
      "C:\\Users\\hp\\AppData\\Local\\Temp\\ipykernel_9496\\704214702.py:8: SettingWithCopyWarning: \n",
      "A value is trying to be set on a copy of a slice from a DataFrame\n",
      "\n",
      "See the caveats in the documentation: https://pandas.pydata.org/pandas-docs/stable/user_guide/indexing.html#returning-a-view-versus-a-copy\n",
      "  topicKeywords_ts['Growth_rate'][0] = '0'\n"
     ]
    },
    {
     "name": "stdout",
     "output_type": "stream",
     "text": [
      "            Cheque  Growth_rate\n",
      "date                           \n",
      "2004-01-01      31     0.000000\n",
      "2004-02-01      42     0.354839\n",
      "2004-03-01       0    -1.000000\n",
      "2004-04-01      10          inf\n",
      "2004-05-01       9    -0.100000\n",
      "...            ...          ...\n",
      "2022-01-01      74     0.072464\n",
      "2022-02-01      84     0.135135\n",
      "2022-03-01      86     0.023810\n",
      "2022-04-01      88     0.023256\n",
      "2022-05-01      95     0.079545\n",
      "\n",
      "[221 rows x 2 columns]\n"
     ]
    },
    {
     "name": "stderr",
     "output_type": "stream",
     "text": [
      "C:\\Users\\hp\\AppData\\Local\\Temp\\ipykernel_9496\\704214702.py:8: SettingWithCopyWarning: \n",
      "A value is trying to be set on a copy of a slice from a DataFrame\n",
      "\n",
      "See the caveats in the documentation: https://pandas.pydata.org/pandas-docs/stable/user_guide/indexing.html#returning-a-view-versus-a-copy\n",
      "  topicKeywords_ts['Growth_rate'][0] = '0'\n"
     ]
    },
    {
     "name": "stdout",
     "output_type": "stream",
     "text": [
      "            Google  Growth_rate\n",
      "date                           \n",
      "2004-01-01       0     0.000000\n",
      "2004-02-01       0          NaN\n",
      "2004-03-01       0          NaN\n",
      "2004-04-01       5          inf\n",
      "2004-05-01       4    -0.200000\n",
      "...            ...          ...\n",
      "2022-01-01      46     0.121951\n",
      "2022-02-01      43    -0.065217\n",
      "2022-03-01      48     0.116279\n",
      "2022-04-01      41    -0.145833\n",
      "2022-05-01      46     0.121951\n",
      "\n",
      "[221 rows x 2 columns]\n"
     ]
    },
    {
     "name": "stderr",
     "output_type": "stream",
     "text": [
      "C:\\Users\\hp\\AppData\\Local\\Temp\\ipykernel_9496\\704214702.py:8: SettingWithCopyWarning: \n",
      "A value is trying to be set on a copy of a slice from a DataFrame\n",
      "\n",
      "See the caveats in the documentation: https://pandas.pydata.org/pandas-docs/stable/user_guide/indexing.html#returning-a-view-versus-a-copy\n",
      "  topicKeywords_ts['Growth_rate'][0] = '0'\n"
     ]
    },
    {
     "name": "stdout",
     "output_type": "stream",
     "text": [
      "            Electronic funds transfer  Growth_rate\n",
      "date                                              \n",
      "2004-01-01                          0     0.000000\n",
      "2004-02-01                          0          NaN\n",
      "2004-03-01                          0          NaN\n",
      "2004-04-01                          0          NaN\n",
      "2004-05-01                          0          NaN\n",
      "...                               ...          ...\n",
      "2022-01-01                         16     0.454545\n",
      "2022-02-01                         31     0.937500\n",
      "2022-03-01                         11    -0.645161\n",
      "2022-04-01                          5    -0.545455\n",
      "2022-05-01                          0    -1.000000\n",
      "\n",
      "[221 rows x 2 columns]\n",
      "            Routing number  Growth_rate\n",
      "date                                   \n",
      "2004-01-01              25     0.000000\n",
      "2004-02-01              26     0.040000\n",
      "2004-03-01              32     0.230769\n",
      "2004-04-01              13    -0.593750\n",
      "2004-05-01              11    -0.153846\n",
      "...                    ...          ...\n",
      "2022-01-01              78    -0.071429\n",
      "2022-02-01              84     0.076923\n",
      "2022-03-01              80    -0.047619\n",
      "2022-04-01              86     0.075000\n",
      "2022-05-01              74    -0.139535\n",
      "\n",
      "[221 rows x 2 columns]\n"
     ]
    },
    {
     "name": "stderr",
     "output_type": "stream",
     "text": [
      "C:\\Users\\hp\\AppData\\Local\\Temp\\ipykernel_9496\\704214702.py:8: SettingWithCopyWarning: \n",
      "A value is trying to be set on a copy of a slice from a DataFrame\n",
      "\n",
      "See the caveats in the documentation: https://pandas.pydata.org/pandas-docs/stable/user_guide/indexing.html#returning-a-view-versus-a-copy\n",
      "  topicKeywords_ts['Growth_rate'][0] = '0'\n"
     ]
    }
   ],
   "source": [
    "for key, value in keyword_topic_frame.items():\n",
    "    for j in range(len(value)):\n",
    "        keyword=[str(value[j])]\n",
    "        topicKeywords_ts, queries, topics = ecommerce_trend(keywords=keyword,category=str(key))  #function calling\n",
    "        if len(topicKeywords_ts) != 0:\n",
    "            topicKeywords_ts = topicKeywords_ts.drop(columns='isPartial')\n",
    "            topicKeywords_ts['Growth_rate'] = topicKeywords_ts[keyword].pct_change()\n",
    "            topicKeywords_ts['Growth_rate'][0] = '0'\n",
    "            #if keyword == \"Shopify\":\n",
    "            print(topicKeywords_ts)\n",
    "            #print(\">>>>>>>>>>>>>>>>>>>\", keyword, \">>>>>>>>>>>>>>>>>>>>>>>\" )\n",
    "            #try:\n",
    "             #   adf_test(topicKeywords_ts['Growth_rate'])\n",
    "            #except:\n",
    "             #   print(\"+++++ ERROR ++++++\")\n",
    "            #try:\n",
    "             #   kpss_test(topicKeywords_ts['Growth_rate'])\n",
    "            #except:\n",
    "             #   print(\"+++++ ERROR ++++++\")"
   ]
  },
  {
   "cell_type": "code",
   "execution_count": null,
   "id": "e1e93219-a67f-488a-b443-4cc96fb603d9",
   "metadata": {},
   "outputs": [],
   "source": []
  },
  {
   "cell_type": "code",
   "execution_count": null,
   "id": "15d3bad0-0737-44d5-8a9c-d524800c7d19",
   "metadata": {},
   "outputs": [],
   "source": []
  }
 ],
 "metadata": {
  "kernelspec": {
   "display_name": "Python 3 (ipykernel)",
   "language": "python",
   "name": "python3"
  },
  "language_info": {
   "codemirror_mode": {
    "name": "ipython",
    "version": 3
   },
   "file_extension": ".py",
   "mimetype": "text/x-python",
   "name": "python",
   "nbconvert_exporter": "python",
   "pygments_lexer": "ipython3",
   "version": "3.9.5"
  }
 },
 "nbformat": 4,
 "nbformat_minor": 5
}
