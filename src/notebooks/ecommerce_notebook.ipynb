{
 "cells": [
  {
   "cell_type": "markdown",
   "id": "a3329be3-e98f-472d-960f-fa2c6b0a394f",
   "metadata": {},
   "source": [
    "## Ecommerce Trade Sales"
   ]
  },
  {
   "cell_type": "code",
   "execution_count": 2,
   "id": "c2dabef4-3907-46f8-bd60-40820fbc4a8b",
   "metadata": {},
   "outputs": [
    {
     "name": "stdout",
     "output_type": "stream",
     "text": [
      "Requirement already satisfied: pytrends in c:\\users\\hp\\miniconda3\\lib\\site-packages (4.8.0)\n",
      "Requirement already satisfied: requests>=2.0 in c:\\users\\hp\\miniconda3\\lib\\site-packages (from pytrends) (2.27.1)\n",
      "Requirement already satisfied: lxml in c:\\users\\hp\\miniconda3\\lib\\site-packages (from pytrends) (4.8.0)\n",
      "Requirement already satisfied: pandas>=0.25 in c:\\users\\hp\\miniconda3\\lib\\site-packages (from pytrends) (1.3.5)\n",
      "Requirement already satisfied: numpy>=1.17.3 in c:\\users\\hp\\miniconda3\\lib\\site-packages (from pandas>=0.25->pytrends) (1.22.3)\n",
      "Requirement already satisfied: pytz>=2017.3 in c:\\users\\hp\\miniconda3\\lib\\site-packages (from pandas>=0.25->pytrends) (2022.1)\n",
      "Requirement already satisfied: python-dateutil>=2.7.3 in c:\\users\\hp\\miniconda3\\lib\\site-packages (from pandas>=0.25->pytrends) (2.8.2)\n",
      "Requirement already satisfied: idna<4,>=2.5 in c:\\users\\hp\\miniconda3\\lib\\site-packages (from requests>=2.0->pytrends) (3.3)\n",
      "Requirement already satisfied: certifi>=2017.4.17 in c:\\users\\hp\\miniconda3\\lib\\site-packages (from requests>=2.0->pytrends) (2021.10.8)\n",
      "Requirement already satisfied: urllib3<1.27,>=1.21.1 in c:\\users\\hp\\miniconda3\\lib\\site-packages (from requests>=2.0->pytrends) (1.26.9)\n",
      "Requirement already satisfied: charset-normalizer~=2.0.0 in c:\\users\\hp\\miniconda3\\lib\\site-packages (from requests>=2.0->pytrends) (2.0.12)\n",
      "Requirement already satisfied: six>=1.5 in c:\\users\\hp\\miniconda3\\lib\\site-packages (from python-dateutil>=2.7.3->pandas>=0.25->pytrends) (1.16.0)\n"
     ]
    }
   ],
   "source": [
    "!pip install pytrends"
   ]
  },
  {
   "cell_type": "code",
   "execution_count": 7,
   "id": "dfad5cc8-0ff1-4b0f-918a-64f74e655a66",
   "metadata": {},
   "outputs": [
    {
     "ename": "ModuleNotFoundError",
     "evalue": "No module named 'pytrends.request'; 'pytrends' is not a package",
     "output_type": "error",
     "traceback": [
      "\u001b[1;31m---------------------------------------------------------------------------\u001b[0m",
      "\u001b[1;31mModuleNotFoundError\u001b[0m                       Traceback (most recent call last)",
      "Input \u001b[1;32mIn [7]\u001b[0m, in \u001b[0;36m<cell line: 1>\u001b[1;34m()\u001b[0m\n\u001b[1;32m----> 1\u001b[0m \u001b[38;5;28;01mfrom\u001b[39;00m \u001b[38;5;21;01mpytrends\u001b[39;00m \u001b[38;5;28;01mimport\u001b[39;00m \u001b[38;5;241m*\u001b[39m\n",
      "File \u001b[1;32mC:\\Yashi\\UBC MDS\\capstone\\capstone-project-googletrends_capstone\\src\\notebooks\\pytrends.py:1\u001b[0m, in \u001b[0;36m<module>\u001b[1;34m\u001b[0m\n\u001b[1;32m----> 1\u001b[0m \u001b[38;5;28;01mfrom\u001b[39;00m \u001b[38;5;21;01mpytrends\u001b[39;00m\u001b[38;5;21;01m.\u001b[39;00m\u001b[38;5;21;01mrequest\u001b[39;00m \u001b[38;5;28;01mimport\u001b[39;00m TrendReq\n\u001b[0;32m      3\u001b[0m pytrends \u001b[38;5;241m=\u001b[39m TrendReq(hl\u001b[38;5;241m=\u001b[39m\u001b[38;5;124m'\u001b[39m\u001b[38;5;124men-US\u001b[39m\u001b[38;5;124m'\u001b[39m, backoff_factor\u001b[38;5;241m=\u001b[39m\u001b[38;5;241m0.1\u001b[39m)\n\u001b[0;32m      5\u001b[0m \u001b[38;5;66;03m# function to get google trend time series of respective\u001b[39;00m\n",
      "\u001b[1;31mModuleNotFoundError\u001b[0m: No module named 'pytrends.request'; 'pytrends' is not a package"
     ]
    }
   ],
   "source": [
    "from pytrends import *"
   ]
  },
  {
   "cell_type": "code",
   "execution_count": 8,
   "id": "1be18d54-176d-4c8f-b6ea-806ddf866ac5",
   "metadata": {},
   "outputs": [],
   "source": [
    "# Import libraries\n",
    "\n",
    "import pandas as pd\n",
    "import numpy as np\n",
    "import matplotlib.pyplot as plt\n",
    "\n",
    "from pytrends.request import TrendReq\n",
    "from statsmodels.tsa.stattools import kpss, adfuller"
   ]
  },
  {
   "cell_type": "markdown",
   "id": "e6419626-ad26-494c-9008-8c15975974ff",
   "metadata": {},
   "source": [
    "### Reading and Filtering data"
   ]
  },
  {
   "cell_type": "code",
   "execution_count": null,
   "id": "79df0606-c9c0-4ba1-997e-c32db0b07db1",
   "metadata": {},
   "outputs": [],
   "source": [
    "data = pd.read_csv('../../data/retailEcommercesales/retailEcommerceSales.csv',sep=',')\n",
    "data.head(2)"
   ]
  },
  {
   "cell_type": "code",
   "execution_count": null,
   "id": "46852bce-526b-4622-9673-7f660311347a",
   "metadata": {},
   "outputs": [],
   "source": [
    "# data filter\n",
    "retailEcommercesales = data[~data[\"Sales\"].str.contains('unadjusted')]\n",
    "retailEcommercesales = retailEcommercesales.filter(['REF_DATE','VALUE'])\n",
    "\n",
    "# rename columns\n",
    "retailEcommercesales = retailEcommercesales.rename(columns = {'REF_DATE': 'Date', 'VALUE': 'Ecommerce_sales'})"
   ]
  },
  {
   "cell_type": "code",
   "execution_count": null,
   "id": "f0c9f1ed-0cc6-451a-9d4d-665977c6ddc8",
   "metadata": {},
   "outputs": [],
   "source": [
    "retailEcommercesales.head(2)"
   ]
  },
  {
   "cell_type": "markdown",
   "id": "2dd82232-f9ee-405b-b184-ce8484463f46",
   "metadata": {},
   "source": [
    "### Time series plot of Ecommerce trade sales"
   ]
  },
  {
   "cell_type": "code",
   "execution_count": null,
   "id": "13adb319-c57c-4ddb-81b6-72f75ebf3d64",
   "metadata": {},
   "outputs": [],
   "source": [
    "retailEcommercesales_dup = retailEcommercesales.copy()\n",
    "retailEcommercesales_dup.index = retailEcommercesales_dup['Date']\n",
    "plt.plot(retailEcommercesales_dup['Ecommerce_sales'])\n",
    "plt.show()"
   ]
  },
  {
   "cell_type": "code",
   "execution_count": null,
   "id": "3bc7ecf6-d187-4e71-9139-8f18601d0c15",
   "metadata": {},
   "outputs": [],
   "source": [
    "retailEcommercesales_ts = retailEcommercesales.set_index('Date')"
   ]
  },
  {
   "cell_type": "code",
   "execution_count": null,
   "id": "1fc6119b-5fe4-47c0-a804-8911f3b03a02",
   "metadata": {},
   "outputs": [],
   "source": [
    "retailEcommercesales_ts.head(2)"
   ]
  },
  {
   "cell_type": "markdown",
   "id": "0f01fe68-3a97-430c-9a1c-e0aa9b8e5fb4",
   "metadata": {},
   "source": [
    "**Growth Rate of Ecommerce Retail Sales**"
   ]
  },
  {
   "cell_type": "code",
   "execution_count": null,
   "id": "600ef285-4ef3-4ce6-ada5-228df6a29925",
   "metadata": {},
   "outputs": [],
   "source": [
    "retailEcommercesales_ts['Growth_rate'] = retailEcommercesales_ts.pct_change()\n",
    "retailEcommercesales_ts = retailEcommercesales_ts.dropna() # removing NA\n",
    "plot_df(retailEcommercesales_ts['Growth_rate'])"
   ]
  },
  {
   "cell_type": "markdown",
   "id": "b139b3c3-1fef-4ec0-a0ee-8a219f6b07f1",
   "metadata": {},
   "source": [
    "**Time series for growth rate**"
   ]
  },
  {
   "cell_type": "code",
   "execution_count": null,
   "id": "381ed564-37db-4e9f-afee-e9fdaf3f4394",
   "metadata": {},
   "outputs": [],
   "source": [
    "# Plot\n",
    "\n",
    "plt.plot(retailEcommercesales_ts['Growth_rate'], marker = 'o')\n",
    "\n",
    "# Labelling\n",
    "plt.xlabel(\"Date\")\n",
    "plt.ylabel(\"GrowthRate\")\n",
    "plt.title(\"Growth Rate for E-commerce retail sales\")\n",
    "plt.figure(figsize = (16,5), dpi = 100)\n",
    "\n",
    "# Display\n",
    "plt.show()"
   ]
  },
  {
   "cell_type": "markdown",
   "id": "4752701f-7e66-4cf8-8a07-9ddcac188334",
   "metadata": {},
   "source": [
    "### Stationarity Statistical test"
   ]
  },
  {
   "cell_type": "markdown",
   "id": "70cb080b-0db5-4003-a8a0-7d940e3d87c5",
   "metadata": {},
   "source": [
    "**KPSS and ADF Test**"
   ]
  },
  {
   "cell_type": "code",
   "execution_count": null,
   "id": "cea7bb1b-5c9b-425d-8aee-6095b66917d3",
   "metadata": {},
   "outputs": [],
   "source": [
    "def kpss_test(timeseries):\n",
    "    print(\"Result from the KPSS Stationarity Test: \")\n",
    "    kpsstest = kpss(timeseries, regression=\"c\", nlags=\"auto\")\n",
    "    kpss_output = pd.Series(\n",
    "        kpsstest[0:3], index=[\"Test Statistic\", \"p-value\", \"Lags Used\"])\n",
    "    \n",
    "    for key, value in kpsstest[3].items():\n",
    "        kpss_output[\"Critical Value (%s)\" % key] = value\n",
    "    #print(kpss_output)\n",
    "    if kpsstest[1] > 0.05:\n",
    "        print(\"The series is stationary with 5% level of significant\")\n",
    "    else:\n",
    "        print(\"The series is not stationary with 5% level of significant\")\n",
    "        \n",
    "def adf_test(timeseries):\n",
    "    print(\"Result from the ADF Stationarity Test: \")\n",
    "    dftest = adfuller(timeseries, autolag = \"AIC\")\n",
    "    dfoutput = pd.Series(\n",
    "        dftest[0:4],\n",
    "        index = [\n",
    "            \"Test Statistic\",\n",
    "            \"p-value\",\n",
    "            \"#Lags Used\",\n",
    "            \"Number of Observations Used\",\n",
    "        ],\n",
    "    )\n",
    "    \n",
    "    if dftest[1] < 0.05 :\n",
    "        print(\"The series is Stationary with 5% level of significant\")\n",
    "    else:\n",
    "        print(\"The series is Non-Stationary with 5% level of significant\")"
   ]
  },
  {
   "cell_type": "markdown",
   "id": "aa327a9c-76a0-40e7-b1e0-b17b66950f14",
   "metadata": {},
   "source": [
    "**Testing the ecommerce sale\\'s series stationarity**"
   ]
  },
  {
   "cell_type": "code",
   "execution_count": null,
   "id": "568cfe75-9e27-4cb0-9e1a-46ec12314f49",
   "metadata": {},
   "outputs": [],
   "source": [
    "kpss_test(retailEcommercesales_ts['Growth_rate'])\n",
    "adf_test(retailEcommercesales_ts['Growth_rate'])"
   ]
  },
  {
   "cell_type": "markdown",
   "id": "63e16e47-6f4c-4a77-a5fc-2399b3d498f8",
   "metadata": {},
   "source": [
    "### Keywords extraction using PyTrend"
   ]
  },
  {
   "cell_type": "code",
   "execution_count": null,
   "id": "9bd86723-e218-48b8-865e-038c72758c41",
   "metadata": {},
   "outputs": [],
   "source": [
    "pytrends = TrendReq(hl = 'en-us', backoff_factor = 0.1)\n",
    "\n",
    "def ecommerce_trend(keywords = [''],category = '280'):  #cat - 340\n",
    "    \n",
    "    \"\"\" \n",
    "    Function for getting trends for selected keywords\n",
    "        \n",
    "        arguments: \n",
    "        \n",
    "            Keywords: List of String ser\n",
    "            category: String: stores the code for category\n",
    "        \n",
    "        returns: Related queries and related topics from google trend as a data frame\n",
    "    \"\"\"\n",
    "    kw_list = keywords\n",
    "    cat = category\n",
    "    timeframe = '2004-01-01 2022-05-11'\n",
    "    geo = 'CA'\n",
    "    \n",
    "    pytrends.build_payload(kw_list, cat, timeframe, geo, gprop = '')\n",
    "    data = pytrends.interest_over_time()\n",
    "    queries = pytrends.related_queries()\n",
    "    topics = pytrends.related_topics()\n",
    "    \n",
    "    return data, queries, topics"
   ]
  },
  {
   "cell_type": "markdown",
   "id": "2a86949c-cbb1-47d8-bfeb-273fde9e60c6",
   "metadata": {},
   "source": [
    "### Normalizing time series"
   ]
  },
  {
   "cell_type": "code",
   "execution_count": null,
   "id": "151f9ec0-e561-4b28-9ead-260632bdec75",
   "metadata": {},
   "outputs": [],
   "source": [
    "keywordsDictQuery = dict() #Dictionary for queries\n",
    "keywordsDictTopic = dict() #Dictionary for topic\n",
    "\n",
    "keywords_csv = pd.read_csv('../../data/keywords_data/ECOMMERCE.csv')\n",
    "\n",
    "for index, row in keywords_csv.iterrows():\n",
    "    \n",
    "    data, queries, topics = ecommerce_trend(keywords=[''],category=str(row['SubcatNo']))\n",
    "\n",
    "    #frame in the data frame\n",
    "    \n",
    "    if index==0:\n",
    "        FinalData, queries, topics=ecommerce_trend(keywords=[''],category=str(row['SubcatNo']))\n",
    "        FinalData.rename(columns = {'':str(row['Keyword'])}, inplace = True)    #column name for frame\n",
    "        FinalData=FinalData.drop(columns=['isPartial'])   #remove column\n",
    "    else:\n",
    "        data, queries, topics=ecommerce_trend(keywords=[''],category=str(row['SubcatNo']))\n",
    "        data.rename(columns = {'':str(row['Keyword'])}, inplace = True)\n",
    "        data=data.drop(columns=['isPartial'])\n",
    "        data = data[str(row['Keyword'])]\n",
    "        FinalData = FinalData.join(data)\n",
    "    \n",
    "    #queries in a dictionary\n",
    "    queries = queries['']['top']\n",
    "    top5_query = pd.DataFrame(queries['query'].copy().head(5))\n",
    "    top5_query = top5_query['query'].values.tolist()  \n",
    "    keywordsDictQuery[str(row['SubcatNo'])] = top5_query\n",
    "    \n",
    "    #topics in a dictionary\n",
    "    topics = topics['']['top']\n",
    "    top5_topic = pd.DataFrame(topics['topic_title'].copy().head(5))\n",
    "    top5_topic = top5_topic['topic_title'].values.tolist()\n",
    "    keywordsDictTopic[str(row['SubcatNo'])] = top5_topic"
   ]
  },
  {
   "cell_type": "code",
   "execution_count": null,
   "id": "0db5b565-4271-4a8d-84bf-d58a06d20d30",
   "metadata": {},
   "outputs": [],
   "source": [
    "#"
   ]
  },
  {
   "cell_type": "code",
   "execution_count": null,
   "id": "347bf979-ceeb-4aac-9e63-74a8c5422b8e",
   "metadata": {},
   "outputs": [],
   "source": [
    "#"
   ]
  },
  {
   "cell_type": "code",
   "execution_count": null,
   "id": "3f0bbf3f-9fe2-4e0d-aeb4-cf5ee4ee7e23",
   "metadata": {},
   "outputs": [],
   "source": [
    "# "
   ]
  },
  {
   "cell_type": "code",
   "execution_count": null,
   "id": "153ec4fe-c40d-4067-9898-ad7600b01481",
   "metadata": {},
   "outputs": [],
   "source": [
    "FinalData"
   ]
  },
  {
   "cell_type": "code",
   "execution_count": null,
   "id": "b56bff6f-30b7-482a-b4e6-dbed15f4cbd0",
   "metadata": {},
   "outputs": [],
   "source": [
    "FinalData.to_csv('EcommerceKeywordTimeSeries.csv')"
   ]
  },
  {
   "cell_type": "code",
   "execution_count": null,
   "id": "dbdc5d96-d4be-4446-b3e8-54964766b05f",
   "metadata": {},
   "outputs": [],
   "source": []
  },
  {
   "cell_type": "markdown",
   "id": "39527ee7-955d-450f-b46c-5082aae34f39",
   "metadata": {},
   "source": [
    "**Dictionary of keywords**"
   ]
  },
  {
   "cell_type": "code",
   "execution_count": null,
   "id": "2ac8a22c-f998-4fba-98c2-31f2ed62ac3e",
   "metadata": {},
   "outputs": [],
   "source": [
    "category_ts, queries, topics = ecommerce_trend(keywords = [''],category = '340')  #function calling\n",
    "\n",
    "keyword_query_frame = dict()  #Dictionary for queries\n",
    "keyword_topic_frame = dict()  #Dictionary for topic\n",
    "\n",
    "# keywords from queries\n",
    "keyword_rising_query = queries['']['rising']['query'].unique().tolist() \n",
    "keyword_top_query = queries['']['top']['query'].unique().tolist()\n",
    "\n",
    "# keywords from topic\n",
    "keyword_rising_topics = topics['']['rising']['topic_title'].unique().tolist() \n",
    "keyword_top_topics = topics['']['top']['topic_title'].unique().tolist()"
   ]
  },
  {
   "cell_type": "code",
   "execution_count": null,
   "id": "0ab03dd7-c8ce-4337-a27e-d748f140a75e",
   "metadata": {},
   "outputs": [],
   "source": [
    "# keywords dict\n",
    "\n",
    "keyword_query_frame['340'] = keyword_top_query\n",
    "keyword_topic_frame['340'] = keyword_top_topics"
   ]
  },
  {
   "cell_type": "code",
   "execution_count": null,
   "id": "bfb34652-496e-47f1-ad6d-710a3cdeccde",
   "metadata": {},
   "outputs": [],
   "source": [
    "keyword_topic_frame"
   ]
  },
  {
   "cell_type": "markdown",
   "id": "950e957e-45e6-4fb0-9738-d3400d5ec417",
   "metadata": {},
   "source": [
    "### Evaluating Category Time Series"
   ]
  },
  {
   "cell_type": "code",
   "execution_count": null,
   "id": "94bcde49-7a69-4f5d-acae-d1efe16061de",
   "metadata": {},
   "outputs": [],
   "source": [
    "category_ts = category_ts.drop(columns = 'isPartial')\n",
    "category_ts['Growth_rate'] = category_ts.pct_change()\n",
    "category_ts['Growth_rate'][0] = '0'"
   ]
  },
  {
   "cell_type": "code",
   "execution_count": null,
   "id": "c16463c4-3108-4590-b874-689c071f1859",
   "metadata": {},
   "outputs": [],
   "source": [
    "category_ts.head(2)"
   ]
  },
  {
   "cell_type": "code",
   "execution_count": null,
   "id": "6cd6dddc-acf4-4d5e-8859-f831a6c17434",
   "metadata": {},
   "outputs": [],
   "source": [
    "# Plot\n",
    "plt.plot(category_ts['Growth_rate'], marker = 'o')\n",
    "\n",
    "# Labelling \n",
    "plt.xlabel(\"Date\")\n",
    "plt.ylabel(\"GrowthRate\")\n",
    "plt.title(\"Growth Rate for category:'E-commerce'\")\n",
    "plt.figure(figsize = (16,5), dpi = 100)\n",
    "\n",
    "\n",
    "# Display\n",
    "plt.show()"
   ]
  },
  {
   "cell_type": "markdown",
   "id": "f04d68d3-2d69-4b73-ab59-500039675bd4",
   "metadata": {},
   "source": [
    "**Category Stationarity Test**"
   ]
  },
  {
   "cell_type": "code",
   "execution_count": null,
   "id": "866576d1-a6be-4970-88a3-a4f49c054898",
   "metadata": {},
   "outputs": [],
   "source": [
    "kpss_test(category_ts['Growth_rate'])"
   ]
  },
  {
   "cell_type": "code",
   "execution_count": null,
   "id": "eda97697-f335-42a8-9235-4dac1a03e311",
   "metadata": {},
   "outputs": [],
   "source": [
    "adf_test(category_ts['Growth_rate'])"
   ]
  },
  {
   "cell_type": "markdown",
   "id": "93c16f0f-0701-4991-9f89-6263ad175051",
   "metadata": {},
   "source": [
    "### Keywords Time Series"
   ]
  },
  {
   "cell_type": "code",
   "execution_count": null,
   "id": "7c53a2d3-2799-4391-87cd-e297f479c0b9",
   "metadata": {},
   "outputs": [],
   "source": [
    "ecommerce_keyword_ts = pd.read_csv('EcommerceKeywordTimeSeries.csv')\n",
    "ecommerce_keyword_ts = ecommerce_keyword_ts.set_index(['date'])"
   ]
  },
  {
   "cell_type": "code",
   "execution_count": null,
   "id": "ede74f0c-258a-495d-b4ab-911c688759c9",
   "metadata": {},
   "outputs": [],
   "source": [
    "for column in ecommerce_keyword_ts:\n",
    "    df = pd.DataFrame()\n",
    "    df['Growth_rate'] = ecommerce_keyword_ts[column].pct_change()\n",
    "    df['Growth_rate'][0] = '0'                       \n",
    "    adf_test(df['Growth_rate'])\n",
    "    kpss_test(df['Growth_rate'])\n"
   ]
  },
  {
   "cell_type": "raw",
   "id": "d75ee3e3-c6e9-43f0-86fc-46e32d37535d",
   "metadata": {},
   "source": [
    "# for dict\n",
    "for key, value in keyword_topic_frame.items():\n",
    "    for j in range(len(value)):\n",
    "        keyword = [str(value[j])]\n",
    "        topicKeywords_ts, queries, topics = ecommerce_trend(keywords = keyword,category = str(key))  #function calling\n",
    "        if len(topicKeywords_ts) != 0:\n",
    "            topicKeywords_ts = topicKeywords_ts.drop(columns = 'isPartial')\n",
    "            topicKeywords_ts['Growth_rate'] = topicKeywords_ts[keyword].pct_change()\n",
    "            topicKeywords_ts['Growth_rate'][0] = '0'                       \n",
    "            adf_test(topicKeywords_ts['Growth_rate'])\n",
    "            kpss_test(topicKeywords_ts['Growth_rate'])"
   ]
  },
  {
   "cell_type": "code",
   "execution_count": null,
   "id": "0f8dba68-7f66-48f2-a5e2-f9302c1103f7",
   "metadata": {},
   "outputs": [],
   "source": [
    "# get dataframe of timeseries for categories\n",
    "\n",
    "cat_queries_dict = {}\n",
    "cat_topics_dict = {}\n",
    "\n",
    "def cat_dict():\n",
    "    \n",
    "    # get time series and related queries and topics of categories\n",
    "    for i, category in enumerate(cat_lst):\n",
    "        category = str(category)\n",
    "        data, queries, topics = get_trends(category=category, related_queries=2, related_topics=2)\n",
    "        cat_queries_dict[category] = queries\n",
    "        cat_topics_dict[category] = topics\n",
    "\n",
    "        #Code to append data for different columns in data frame\n",
    "        if i == 0:\n",
    "            data.rename(columns = {'': category}, inplace = True)\n",
    "            categoryts = data.drop(columns=['isPartial'])\n",
    "        else:\n",
    "            data.rename(columns = {'': category}, inplace = True)\n",
    "            data = data.drop(columns=['isPartial'])\n",
    "            categoryts = categoryts.join(data)"
   ]
  }
 ],
 "metadata": {
  "kernelspec": {
   "display_name": "Python 3 (ipykernel)",
   "language": "python",
   "name": "python3"
  },
  "language_info": {
   "codemirror_mode": {
    "name": "ipython",
    "version": 3
   },
   "file_extension": ".py",
   "mimetype": "text/x-python",
   "name": "python",
   "nbconvert_exporter": "python",
   "pygments_lexer": "ipython3",
   "version": "3.9.5"
  }
 },
 "nbformat": 4,
 "nbformat_minor": 5
}
