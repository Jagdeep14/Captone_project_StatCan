{
 "cells": [
  {
   "cell_type": "code",
   "execution_count": 2,
   "id": "8406f02f-81d5-44f7-9243-ad7fff304fdc",
   "metadata": {},
   "outputs": [],
   "source": [
    "# imports\n",
    "import pandas as pd"
   ]
  },
  {
   "cell_type": "markdown",
   "id": "d952a748-ecf9-41dd-98e8-3a5c012f13e9",
   "metadata": {},
   "source": [
    "# GDP data reading and cleaning"
   ]
  },
  {
   "cell_type": "code",
   "execution_count": 15,
   "id": "51cbd7f2-547b-4b1a-8645-2d7b7413a7f9",
   "metadata": {},
   "outputs": [
    {
     "name": "stderr",
     "output_type": "stream",
     "text": [
      "C:\\Users\\sidhu\\AppData\\Local\\Temp/ipykernel_11128/1477319135.py:2: DtypeWarning: Columns (13) have mixed types. Specify dtype option on import or set low_memory=False.\n",
      "  gdp = pd.read_csv(gdp_path)\n"
     ]
    }
   ],
   "source": [
    "gdp_path = '../../data/gdpaverage/gdpaverage.csv'\n",
    "gdp = pd.read_csv(gdp_path)"
   ]
  },
  {
   "cell_type": "code",
   "execution_count": 24,
   "id": "bc137608-50b8-4ced-8273-0de041ab37cd",
   "metadata": {},
   "outputs": [
    {
     "data": {
      "text/html": [
       "<div>\n",
       "<style scoped>\n",
       "    .dataframe tbody tr th:only-of-type {\n",
       "        vertical-align: middle;\n",
       "    }\n",
       "\n",
       "    .dataframe tbody tr th {\n",
       "        vertical-align: top;\n",
       "    }\n",
       "\n",
       "    .dataframe thead th {\n",
       "        text-align: right;\n",
       "    }\n",
       "</style>\n",
       "<table border=\"1\" class=\"dataframe\">\n",
       "  <thead>\n",
       "    <tr style=\"text-align: right;\">\n",
       "      <th></th>\n",
       "      <th>REF_DATE</th>\n",
       "      <th>GEO</th>\n",
       "      <th>DGUID</th>\n",
       "      <th>Seasonal adjustment</th>\n",
       "      <th>Prices</th>\n",
       "      <th>North American Industry Classification System (NAICS)</th>\n",
       "      <th>UOM</th>\n",
       "      <th>UOM_ID</th>\n",
       "      <th>SCALAR_FACTOR</th>\n",
       "      <th>SCALAR_ID</th>\n",
       "      <th>VECTOR</th>\n",
       "      <th>COORDINATE</th>\n",
       "      <th>VALUE</th>\n",
       "      <th>STATUS</th>\n",
       "      <th>SYMBOL</th>\n",
       "      <th>TERMINATED</th>\n",
       "      <th>DECIMALS</th>\n",
       "    </tr>\n",
       "  </thead>\n",
       "  <tbody>\n",
       "    <tr>\n",
       "      <th>0</th>\n",
       "      <td>1997-01</td>\n",
       "      <td>Canada</td>\n",
       "      <td>2016A000011124</td>\n",
       "      <td>Seasonally adjusted at annual rates</td>\n",
       "      <td>Chained (2012) dollars</td>\n",
       "      <td>All industries [T001]</td>\n",
       "      <td>Dollars</td>\n",
       "      <td>81</td>\n",
       "      <td>millions</td>\n",
       "      <td>6</td>\n",
       "      <td>v1000000673</td>\n",
       "      <td>1.1.1.1</td>\n",
       "      <td>1151041.0</td>\n",
       "      <td>NaN</td>\n",
       "      <td>NaN</td>\n",
       "      <td>NaN</td>\n",
       "      <td>0</td>\n",
       "    </tr>\n",
       "    <tr>\n",
       "      <th>1</th>\n",
       "      <td>1997-01</td>\n",
       "      <td>Canada</td>\n",
       "      <td>2016A000011124</td>\n",
       "      <td>Seasonally adjusted at annual rates</td>\n",
       "      <td>Chained (2012) dollars</td>\n",
       "      <td>Goods-producing industries [T002]</td>\n",
       "      <td>Dollars</td>\n",
       "      <td>81</td>\n",
       "      <td>millions</td>\n",
       "      <td>6</td>\n",
       "      <td>v1000000674</td>\n",
       "      <td>1.1.1.2</td>\n",
       "      <td>393954.0</td>\n",
       "      <td>NaN</td>\n",
       "      <td>NaN</td>\n",
       "      <td>NaN</td>\n",
       "      <td>0</td>\n",
       "    </tr>\n",
       "  </tbody>\n",
       "</table>\n",
       "</div>"
      ],
      "text/plain": [
       "  REF_DATE     GEO           DGUID                  Seasonal adjustment  \\\n",
       "0  1997-01  Canada  2016A000011124  Seasonally adjusted at annual rates   \n",
       "1  1997-01  Canada  2016A000011124  Seasonally adjusted at annual rates   \n",
       "\n",
       "                   Prices  \\\n",
       "0  Chained (2012) dollars   \n",
       "1  Chained (2012) dollars   \n",
       "\n",
       "  North American Industry Classification System (NAICS)      UOM  UOM_ID  \\\n",
       "0                              All industries [T001]     Dollars      81   \n",
       "1                  Goods-producing industries [T002]     Dollars      81   \n",
       "\n",
       "  SCALAR_FACTOR  SCALAR_ID       VECTOR COORDINATE      VALUE STATUS  SYMBOL  \\\n",
       "0      millions          6  v1000000673    1.1.1.1  1151041.0    NaN     NaN   \n",
       "1      millions          6  v1000000674    1.1.1.2   393954.0    NaN     NaN   \n",
       "\n",
       "   TERMINATED  DECIMALS  \n",
       "0         NaN         0  \n",
       "1         NaN         0  "
      ]
     },
     "execution_count": 24,
     "metadata": {},
     "output_type": "execute_result"
    }
   ],
   "source": [
    "gdp.head(2)"
   ]
  },
  {
   "cell_type": "markdown",
   "id": "6f2d7d34-37fe-4a2f-9f91-f6fecc04ab42",
   "metadata": {},
   "source": [
    "### Extracted only required columns"
   ]
  },
  {
   "cell_type": "code",
   "execution_count": 25,
   "id": "fb7427ff-8c54-460f-8660-46e521d7d08a",
   "metadata": {},
   "outputs": [
    {
     "data": {
      "text/html": [
       "<div>\n",
       "<style scoped>\n",
       "    .dataframe tbody tr th:only-of-type {\n",
       "        vertical-align: middle;\n",
       "    }\n",
       "\n",
       "    .dataframe tbody tr th {\n",
       "        vertical-align: top;\n",
       "    }\n",
       "\n",
       "    .dataframe thead th {\n",
       "        text-align: right;\n",
       "    }\n",
       "</style>\n",
       "<table border=\"1\" class=\"dataframe\">\n",
       "  <thead>\n",
       "    <tr style=\"text-align: right;\">\n",
       "      <th></th>\n",
       "      <th>REF_DATE</th>\n",
       "      <th>Seasonal adjustment</th>\n",
       "      <th>Prices</th>\n",
       "      <th>North American Industry Classification System (NAICS)</th>\n",
       "      <th>VALUE</th>\n",
       "      <th>STATUS</th>\n",
       "    </tr>\n",
       "  </thead>\n",
       "  <tbody>\n",
       "    <tr>\n",
       "      <th>0</th>\n",
       "      <td>1997-01</td>\n",
       "      <td>Seasonally adjusted at annual rates</td>\n",
       "      <td>Chained (2012) dollars</td>\n",
       "      <td>All industries [T001]</td>\n",
       "      <td>1151041.0</td>\n",
       "      <td>NaN</td>\n",
       "    </tr>\n",
       "    <tr>\n",
       "      <th>1</th>\n",
       "      <td>1997-01</td>\n",
       "      <td>Seasonally adjusted at annual rates</td>\n",
       "      <td>Chained (2012) dollars</td>\n",
       "      <td>Goods-producing industries [T002]</td>\n",
       "      <td>393954.0</td>\n",
       "      <td>NaN</td>\n",
       "    </tr>\n",
       "    <tr>\n",
       "      <th>2</th>\n",
       "      <td>1997-01</td>\n",
       "      <td>Seasonally adjusted at annual rates</td>\n",
       "      <td>Chained (2012) dollars</td>\n",
       "      <td>Service-producing industries [T003]</td>\n",
       "      <td>756377.0</td>\n",
       "      <td>NaN</td>\n",
       "    </tr>\n",
       "    <tr>\n",
       "      <th>3</th>\n",
       "      <td>1997-01</td>\n",
       "      <td>Seasonally adjusted at annual rates</td>\n",
       "      <td>Chained (2012) dollars</td>\n",
       "      <td>Business sector industries [T004]</td>\n",
       "      <td>NaN</td>\n",
       "      <td>..</td>\n",
       "    </tr>\n",
       "    <tr>\n",
       "      <th>4</th>\n",
       "      <td>1997-01</td>\n",
       "      <td>Seasonally adjusted at annual rates</td>\n",
       "      <td>Chained (2012) dollars</td>\n",
       "      <td>Business sector, goods [T005]</td>\n",
       "      <td>NaN</td>\n",
       "      <td>..</td>\n",
       "    </tr>\n",
       "  </tbody>\n",
       "</table>\n",
       "</div>"
      ],
      "text/plain": [
       "  REF_DATE                  Seasonal adjustment                  Prices  \\\n",
       "0  1997-01  Seasonally adjusted at annual rates  Chained (2012) dollars   \n",
       "1  1997-01  Seasonally adjusted at annual rates  Chained (2012) dollars   \n",
       "2  1997-01  Seasonally adjusted at annual rates  Chained (2012) dollars   \n",
       "3  1997-01  Seasonally adjusted at annual rates  Chained (2012) dollars   \n",
       "4  1997-01  Seasonally adjusted at annual rates  Chained (2012) dollars   \n",
       "\n",
       "  North American Industry Classification System (NAICS)      VALUE STATUS  \n",
       "0                              All industries [T001]     1151041.0    NaN  \n",
       "1                  Goods-producing industries [T002]      393954.0    NaN  \n",
       "2                Service-producing industries [T003]      756377.0    NaN  \n",
       "3                  Business sector industries [T004]           NaN     ..  \n",
       "4                      Business sector, goods [T005]           NaN     ..  "
      ]
     },
     "execution_count": 25,
     "metadata": {},
     "output_type": "execute_result"
    }
   ],
   "source": [
    "gdp_subset = gdp[['REF_DATE', 'Seasonal adjustment', 'Prices', 'North American Industry Classification System (NAICS)', 'VALUE', 'STATUS']]\n",
    "gdp_subset.head()"
   ]
  },
  {
   "cell_type": "code",
   "execution_count": 29,
   "id": "a516493f-a30f-4f39-848a-f0533ddb5f54",
   "metadata": {},
   "outputs": [
    {
     "data": {
      "text/plain": [
       "REF_DATE                                                  object\n",
       "Seasonal adjustment                                       object\n",
       "Prices                                                    object\n",
       "North American Industry Classification System (NAICS)     object\n",
       "VALUE                                                    float64\n",
       "STATUS                                                    object\n",
       "dtype: object"
      ]
     },
     "execution_count": 29,
     "metadata": {},
     "output_type": "execute_result"
    }
   ],
   "source": [
    "gdp_subset.dtypes"
   ]
  },
  {
   "cell_type": "code",
   "execution_count": null,
   "id": "132f3841-cd83-4414-a853-b12e15b6e2b5",
   "metadata": {},
   "outputs": [],
   "source": []
  },
  {
   "cell_type": "code",
   "execution_count": null,
   "id": "87e9abf3-c7e1-48dd-97e9-9400af66f0cf",
   "metadata": {},
   "outputs": [],
   "source": []
  }
 ],
 "metadata": {
  "kernelspec": {
   "display_name": "Python 3 (ipykernel)",
   "language": "python",
   "name": "python3"
  },
  "language_info": {
   "codemirror_mode": {
    "name": "ipython",
    "version": 3
   },
   "file_extension": ".py",
   "mimetype": "text/x-python",
   "name": "python",
   "nbconvert_exporter": "python",
   "pygments_lexer": "ipython3",
   "version": "3.9.12"
  }
 },
 "nbformat": 4,
 "nbformat_minor": 5
}
