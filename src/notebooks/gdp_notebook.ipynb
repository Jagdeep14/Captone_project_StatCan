{
 "cells": [
  {
   "cell_type": "code",
   "execution_count": 1,
   "id": "8406f02f-81d5-44f7-9243-ad7fff304fdc",
   "metadata": {},
   "outputs": [],
   "source": [
    "# imports\n",
    "import pandas as pd\n",
    "import numpy as np\n",
    "import matplotlib.pyplot as plt\n",
    "from pytrends.request import TrendReq"
   ]
  },
  {
   "cell_type": "markdown",
   "id": "d952a748-ecf9-41dd-98e8-3a5c012f13e9",
   "metadata": {},
   "source": [
    "# GDP data reading and cleaning"
   ]
  },
  {
   "cell_type": "code",
   "execution_count": 171,
   "id": "51cbd7f2-547b-4b1a-8645-2d7b7413a7f9",
   "metadata": {},
   "outputs": [
    {
     "name": "stderr",
     "output_type": "stream",
     "text": [
      "C:\\Users\\sidhu\\AppData\\Local\\Temp/ipykernel_17144/2999133702.py:2: DtypeWarning: Columns (13) have mixed types. Specify dtype option on import or set low_memory=False.\n",
      "  gdp = pd.read_csv(gdp_path)\n"
     ]
    },
    {
     "data": {
      "text/html": [
       "<div>\n",
       "<style scoped>\n",
       "    .dataframe tbody tr th:only-of-type {\n",
       "        vertical-align: middle;\n",
       "    }\n",
       "\n",
       "    .dataframe tbody tr th {\n",
       "        vertical-align: top;\n",
       "    }\n",
       "\n",
       "    .dataframe thead th {\n",
       "        text-align: right;\n",
       "    }\n",
       "</style>\n",
       "<table border=\"1\" class=\"dataframe\">\n",
       "  <thead>\n",
       "    <tr style=\"text-align: right;\">\n",
       "      <th></th>\n",
       "      <th>REF_DATE</th>\n",
       "      <th>GEO</th>\n",
       "      <th>DGUID</th>\n",
       "      <th>Prices</th>\n",
       "      <th>Seasonal adjustment</th>\n",
       "      <th>Estimates</th>\n",
       "      <th>UOM</th>\n",
       "      <th>UOM_ID</th>\n",
       "      <th>SCALAR_FACTOR</th>\n",
       "      <th>SCALAR_ID</th>\n",
       "      <th>VECTOR</th>\n",
       "      <th>COORDINATE</th>\n",
       "      <th>VALUE</th>\n",
       "      <th>STATUS</th>\n",
       "      <th>SYMBOL</th>\n",
       "      <th>TERMINATED</th>\n",
       "      <th>DECIMALS</th>\n",
       "    </tr>\n",
       "  </thead>\n",
       "  <tbody>\n",
       "    <tr>\n",
       "      <th>0</th>\n",
       "      <td>1961-01-01</td>\n",
       "      <td>Canada</td>\n",
       "      <td>2016A000011124</td>\n",
       "      <td>Chained (2012) dollars</td>\n",
       "      <td>Seasonally adjusted at annual rates</td>\n",
       "      <td>Final consumption expenditure</td>\n",
       "      <td>Dollars</td>\n",
       "      <td>81</td>\n",
       "      <td>millions</td>\n",
       "      <td>6</td>\n",
       "      <td>v62305723</td>\n",
       "      <td>1.1.1.1</td>\n",
       "      <td>273818.0</td>\n",
       "      <td>NaN</td>\n",
       "      <td>NaN</td>\n",
       "      <td>NaN</td>\n",
       "      <td>0</td>\n",
       "    </tr>\n",
       "    <tr>\n",
       "      <th>1</th>\n",
       "      <td>1961-01-01</td>\n",
       "      <td>Canada</td>\n",
       "      <td>2016A000011124</td>\n",
       "      <td>Chained (2012) dollars</td>\n",
       "      <td>Seasonally adjusted at annual rates</td>\n",
       "      <td>Household final consumption expenditure</td>\n",
       "      <td>Dollars</td>\n",
       "      <td>81</td>\n",
       "      <td>millions</td>\n",
       "      <td>6</td>\n",
       "      <td>v62305724</td>\n",
       "      <td>1.1.1.2</td>\n",
       "      <td>182300.0</td>\n",
       "      <td>NaN</td>\n",
       "      <td>NaN</td>\n",
       "      <td>NaN</td>\n",
       "      <td>0</td>\n",
       "    </tr>\n",
       "  </tbody>\n",
       "</table>\n",
       "</div>"
      ],
      "text/plain": [
       "    REF_DATE     GEO           DGUID                  Prices  \\\n",
       "0 1961-01-01  Canada  2016A000011124  Chained (2012) dollars   \n",
       "1 1961-01-01  Canada  2016A000011124  Chained (2012) dollars   \n",
       "\n",
       "                   Seasonal adjustment  \\\n",
       "0  Seasonally adjusted at annual rates   \n",
       "1  Seasonally adjusted at annual rates   \n",
       "\n",
       "                                 Estimates      UOM  UOM_ID SCALAR_FACTOR  \\\n",
       "0            Final consumption expenditure  Dollars      81      millions   \n",
       "1  Household final consumption expenditure  Dollars      81      millions   \n",
       "\n",
       "   SCALAR_ID     VECTOR COORDINATE     VALUE STATUS  SYMBOL TERMINATED  \\\n",
       "0          6  v62305723    1.1.1.1  273818.0    NaN     NaN        NaN   \n",
       "1          6  v62305724    1.1.1.2  182300.0    NaN     NaN        NaN   \n",
       "\n",
       "   DECIMALS  \n",
       "0         0  \n",
       "1         0  "
      ]
     },
     "execution_count": 171,
     "metadata": {},
     "output_type": "execute_result"
    }
   ],
   "source": [
    "gdp_path = '../../data/expenditure/expenditure_gdp.csv'\n",
    "gdp = pd.read_csv(gdp_path)\n",
    "gdp['REF_DATE'] = pd.to_datetime(gdp['REF_DATE'])\n",
    "gdp.head(2)"
   ]
  },
  {
   "cell_type": "markdown",
   "id": "6f2d7d34-37fe-4a2f-9f91-f6fecc04ab42",
   "metadata": {},
   "source": [
    "### Extracted only required columns and rows"
   ]
  },
  {
   "cell_type": "code",
   "execution_count": 4,
   "id": "fb7427ff-8c54-460f-8660-46e521d7d08a",
   "metadata": {},
   "outputs": [],
   "source": [
    "# filter data\n",
    "gdp_subset = gdp[(gdp['REF_DATE'] >= '2004-01-01') &\n",
    "                (gdp['Prices'] == 'Chained (2012) dollars') & \n",
    "                (gdp['Estimates'] == 'Gross domestic product at market prices') &\n",
    "                 (gdp['UOM'] == 'Dollars')]\n",
    "gdpts = gdp_subset[['REF_DATE', 'VALUE']]\n",
    "\n",
    "# rename columns\n",
    "gdpts = gdpts.rename(columns = {'REF_DATE': 'Date', 'VALUE': 'GDP'})"
   ]
  },
  {
   "cell_type": "code",
   "execution_count": 5,
   "id": "a516493f-a30f-4f39-848a-f0533ddb5f54",
   "metadata": {},
   "outputs": [
    {
     "data": {
      "text/html": [
       "<div>\n",
       "<style scoped>\n",
       "    .dataframe tbody tr th:only-of-type {\n",
       "        vertical-align: middle;\n",
       "    }\n",
       "\n",
       "    .dataframe tbody tr th {\n",
       "        vertical-align: top;\n",
       "    }\n",
       "\n",
       "    .dataframe thead th {\n",
       "        text-align: right;\n",
       "    }\n",
       "</style>\n",
       "<table border=\"1\" class=\"dataframe\">\n",
       "  <thead>\n",
       "    <tr style=\"text-align: right;\">\n",
       "      <th></th>\n",
       "      <th>Date</th>\n",
       "      <th>GDP</th>\n",
       "    </tr>\n",
       "  </thead>\n",
       "  <tbody>\n",
       "    <tr>\n",
       "      <th>31505</th>\n",
       "      <td>2004-01-01</td>\n",
       "      <td>1566737.0</td>\n",
       "    </tr>\n",
       "    <tr>\n",
       "      <th>31688</th>\n",
       "      <td>2004-04-01</td>\n",
       "      <td>1585347.0</td>\n",
       "    </tr>\n",
       "    <tr>\n",
       "      <th>31871</th>\n",
       "      <td>2004-07-01</td>\n",
       "      <td>1604061.0</td>\n",
       "    </tr>\n",
       "    <tr>\n",
       "      <th>32054</th>\n",
       "      <td>2004-10-01</td>\n",
       "      <td>1615585.0</td>\n",
       "    </tr>\n",
       "    <tr>\n",
       "      <th>32237</th>\n",
       "      <td>2005-01-01</td>\n",
       "      <td>1621176.0</td>\n",
       "    </tr>\n",
       "  </tbody>\n",
       "</table>\n",
       "</div>"
      ],
      "text/plain": [
       "            Date        GDP\n",
       "31505 2004-01-01  1566737.0\n",
       "31688 2004-04-01  1585347.0\n",
       "31871 2004-07-01  1604061.0\n",
       "32054 2004-10-01  1615585.0\n",
       "32237 2005-01-01  1621176.0"
      ]
     },
     "execution_count": 5,
     "metadata": {},
     "output_type": "execute_result"
    }
   ],
   "source": [
    "gdpts.head()"
   ]
  },
  {
   "cell_type": "markdown",
   "id": "2a4023e2-37cf-40ed-a19c-88d0a9deef7b",
   "metadata": {},
   "source": [
    "### Time series of GDP"
   ]
  },
  {
   "cell_type": "code",
   "execution_count": 6,
   "id": "132f3841-cd83-4414-a853-b12e15b6e2b5",
   "metadata": {},
   "outputs": [
    {
     "data": {
      "image/png": "[encoded data removed]",
      "text/plain": [
       "<Figure size 432x288 with 1 Axes>"
      ]
     },
     "metadata": {
      "needs_background": "light"
     },
     "output_type": "display_data"
    }
   ],
   "source": [
    "gdp_data = gdpts.copy()\n",
    "gdp_data.index = gdpts['Date']\n",
    "plt.plot(gdp_data['GDP'])\n",
    "plt.show()"
   ]
  },
  {
   "cell_type": "markdown",
   "id": "69c39525-3f1f-4aeb-b74d-36e630fe40d0",
   "metadata": {},
   "source": [
    "# Get predictors from Google Trends"
   ]
  },
  {
   "cell_type": "code",
   "execution_count": 136,
   "id": "8ea6d9e2-7732-4fc0-a44a-6f44a44cd828",
   "metadata": {},
   "outputs": [],
   "source": [
    "# get caegories and keywords from csv file\n",
    "key_path = '../../data/keywords_data/GDP.csv'\n",
    "key_data = pd.read_csv(key_path)\n",
    "cat_lst = key_data['CatNo']\n",
    "key_data.head()\n",
    "cat_lst = cat_lst[0:3]\n",
    "cat_lst = [94]"
   ]
  },
  {
   "cell_type": "code",
   "execution_count": 160,
   "id": "189d3c3d-88b0-4bc9-a15e-d79ffc2d3af0",
   "metadata": {},
   "outputs": [],
   "source": [
    "pytrends = TrendReq(hl='en-US', backoff_factor=0.1)\n",
    "\n",
    "\n",
    "def get_trends(keyword=[''], category='0', related_queries=0, related_topics=0):\n",
    "    \"\"\" function to get the google trend for desired keyword and category\"\"\"\n",
    "    kw_list = keyword\n",
    "    cat = category\n",
    "    timeframe = '2022-01-10 2022-04-01'\n",
    "    geo = 'CA'\n",
    "    gprop = ''\n",
    "\n",
    "    try:\n",
    "        pytrends.build_payload(kw_list, cat, timeframe, geo, gprop)\n",
    "        # get time series\n",
    "        data = pytrends.interest_over_time()\n",
    "    except:\n",
    "        print(f\"Category {cat} does not exist\")\n",
    "        return [''], [''], ['']\n",
    "\n",
    "    # get related queries\n",
    "    try:\n",
    "        if related_queries > 0:\n",
    "            queries = pytrends.related_queries()\n",
    "            queries_lst = list(queries['']['top']['query'].values[0:related_queries])\n",
    "        else:\n",
    "            queries_lst = ['']\n",
    "    except:\n",
    "        queries_lst = ['']\n",
    "\n",
    "    # get related topics\n",
    "    try:\n",
    "        if related_topics > 0:\n",
    "            topics = pytrends.related_topics()\n",
    "            topics_lst = list(topics['']['top']['topic_title'].values[0:related_topics])\n",
    "        else:\n",
    "            topics_lst = ['']\n",
    "    except:\n",
    "        topics_lst = ['']\n",
    "    return data, queries_lst, topics_lst"
   ]
  },
  {
   "cell_type": "code",
   "execution_count": 163,
   "id": "fd169cf5-7f08-4a67-8c3a-c63d4ba86565",
   "metadata": {},
   "outputs": [],
   "source": [
    "cat_queries_dict = {}\n",
    "cat_topics_dict = {}\n",
    "\n",
    "# get time series and related queries and topics of categories\n",
    "for i, category in enumerate(cat_lst):\n",
    "    category = str(category)\n",
    "    data1, queries, topics = get_trends(category=category, related_queries=2, related_topics=2)\n",
    "    cat_queries_dict[category] = queries\n",
    "    cat_topics_dict[category] = topics"
   ]
  },
  {
   "cell_type": "code",
   "execution_count": 166,
   "id": "de9bf2f0-aea8-4f83-a2ad-bcee19adf48b",
   "metadata": {},
   "outputs": [
    {
     "data": {
      "text/html": [
       "<div>\n",
       "<style scoped>\n",
       "    .dataframe tbody tr th:only-of-type {\n",
       "        vertical-align: middle;\n",
       "    }\n",
       "\n",
       "    .dataframe tbody tr th {\n",
       "        vertical-align: top;\n",
       "    }\n",
       "\n",
       "    .dataframe thead th {\n",
       "        text-align: right;\n",
       "    }\n",
       "</style>\n",
       "<table border=\"1\" class=\"dataframe\">\n",
       "  <thead>\n",
       "    <tr style=\"text-align: right;\">\n",
       "      <th></th>\n",
       "      <th>CatNo</th>\n",
       "      <th>Category</th>\n",
       "      <th>Keywords</th>\n",
       "      <th>keywordCat</th>\n",
       "      <th>keywordCatNo</th>\n",
       "    </tr>\n",
       "  </thead>\n",
       "  <tbody>\n",
       "    <tr>\n",
       "      <th>0</th>\n",
       "      <td>569</td>\n",
       "      <td>Events &amp; Listings</td>\n",
       "      <td>Economic crisis</td>\n",
       "      <td>Economics</td>\n",
       "      <td>520</td>\n",
       "    </tr>\n",
       "    <tr>\n",
       "      <th>1</th>\n",
       "      <td>23</td>\n",
       "      <td>Performing Arts</td>\n",
       "      <td>Crisis</td>\n",
       "      <td>Economics</td>\n",
       "      <td>520</td>\n",
       "    </tr>\n",
       "    <tr>\n",
       "      <th>2</th>\n",
       "      <td>47</td>\n",
       "      <td>Autos &amp; Vehicles</td>\n",
       "      <td>Recession</td>\n",
       "      <td>Economics</td>\n",
       "      <td>520</td>\n",
       "    </tr>\n",
       "    <tr>\n",
       "      <th>3</th>\n",
       "      <td>815</td>\n",
       "      <td>Vehicle Brands</td>\n",
       "      <td>Financial crisis</td>\n",
       "      <td>Economics</td>\n",
       "      <td>520</td>\n",
       "    </tr>\n",
       "    <tr>\n",
       "      <th>4</th>\n",
       "      <td>170</td>\n",
       "      <td>Vehicle Licensing &amp; Registration</td>\n",
       "      <td>Krach</td>\n",
       "      <td>Economics</td>\n",
       "      <td>520</td>\n",
       "    </tr>\n",
       "  </tbody>\n",
       "</table>\n",
       "</div>"
      ],
      "text/plain": [
       "   CatNo                          Category          Keywords keywordCat  \\\n",
       "0    569                 Events & Listings   Economic crisis  Economics   \n",
       "1     23                   Performing Arts            Crisis  Economics   \n",
       "2     47                  Autos & Vehicles         Recession  Economics   \n",
       "3    815                    Vehicle Brands  Financial crisis  Economics   \n",
       "4    170  Vehicle Licensing & Registration             Krach  Economics   \n",
       "\n",
       "  keywordCatNo  \n",
       "0          520  \n",
       "1          520  \n",
       "2          520  \n",
       "3          520  \n",
       "4          520  "
      ]
     },
     "execution_count": 166,
     "metadata": {},
     "output_type": "execute_result"
    }
   ],
   "source": [
    "key_data.head()"
   ]
  },
  {
   "cell_type": "code",
   "execution_count": 170,
   "id": "9a826c9d-ecdc-4d04-8569-5b055e33decd",
   "metadata": {},
   "outputs": [],
   "source": [
    "keywords_lst = key_data['Keywords'].dropna()\n",
    "keycat_lst = key_data['keywordCat'].dropna()\n",
    "\n",
    "keywords_queries_dict = {}\n",
    "keywords_topics_dict = {}\n",
    "\n",
    "# get time series and related queries and topics of selected keywords\n",
    "for i, category in enumerate(cat_lst):\n",
    "    category = str(category)\n",
    "    data1, queries, topics = get_trends(keyword = ['recession'], related_queries=2, related_topics=2)\n",
    "    cat_queries_dict[category] = queries\n",
    "    cat_topics_dict[category] = topics"
   ]
  },
  {
   "cell_type": "code",
   "execution_count": 174,
   "id": "1f90b27c-f06d-4f7a-beb5-83bfc21f0c37",
   "metadata": {},
   "outputs": [
    {
     "data": {
      "text/plain": [
       "0           Economic crisis\n",
       "1                    Crisis\n",
       "2                 Recession\n",
       "3          Financial crisis\n",
       "4                     Krach\n",
       "5              Unemployment\n",
       "6     Unemployment benefits\n",
       "7              Student loan\n",
       "8                      Loan\n",
       "9                  Interest\n",
       "10                 Mortgage\n",
       "11           Auto Financing\n",
       "12                 Birthday\n",
       "13           Temporary jobs\n",
       "14       Affordable housing\n",
       "15                   Lawyer\n",
       "16              public debt\n",
       "17             office space\n",
       "18           Housing bubble\n",
       "19               Bankruptcy\n",
       "20              Exportation\n",
       "21      Commercial Building\n",
       "22              Foreclosure\n",
       "Name: Keywords, dtype: object"
      ]
     },
     "execution_count": 174,
     "metadata": {},
     "output_type": "execute_result"
    }
   ],
   "source": [
    "keywords_lst"
   ]
  },
  {
   "cell_type": "markdown",
   "id": "7ee6c6f4-8221-4f04-89a4-3f5c33010961",
   "metadata": {},
   "source": [
    "### Plot trends"
   ]
  },
  {
   "cell_type": "code",
   "execution_count": 164,
   "id": "11ea0dd6-fd6f-43d7-911a-ef2592d38e85",
   "metadata": {},
   "outputs": [
    {
     "data": {
      "image/png": "[encoded data removed]",
      "text/plain": [
       "<Figure size 432x288 with 1 Axes>"
      ]
     },
     "metadata": {
      "needs_background": "light"
     },
     "output_type": "display_data"
    }
   ],
   "source": [
    "trend_data = data.copy()\n",
    "temp = pd.DataFrame({'A': data['recession'], 'B':data1['recession']})\n",
    "plt.plot(temp)\n",
    "plt.show()"
   ]
  },
  {
   "cell_type": "code",
   "execution_count": 153,
   "id": "134816bb-24ae-46e1-af44-5f28924ef187",
   "metadata": {},
   "outputs": [
    {
     "data": {
      "image/png": "[encoded data removed]",
      "text/plain": [
       "<Figure size 432x288 with 1 Axes>"
      ]
     },
     "metadata": {
      "needs_background": "light"
     },
     "output_type": "display_data"
    }
   ],
   "source": [
    "trend_data = data.copy()\n",
    "plt.plot(trend_data['recession'])\n",
    "plt.show()"
   ]
  },
  {
   "cell_type": "code",
   "execution_count": 12,
   "id": "97aec486-611a-4bc5-8b65-a43a70f9c453",
   "metadata": {},
   "outputs": [],
   "source": [
    "kw_list = ['']\n",
    "cat = '22'\n",
    "timeframe = '2004-01-01 2022-01-01'\n",
    "geo = 'CA'\n",
    "gprop = ''\n",
    "\n",
    "pytrends.build_payload(kw_list, cat, timeframe, geo, gprop)\n",
    "data = pytrends.interest_over_time()"
   ]
  },
  {
   "cell_type": "code",
   "execution_count": 12,
   "id": "acefd7bc-46f8-48f7-bf72-dd3c11e2f583",
   "metadata": {},
   "outputs": [
    {
     "data": {
      "text/plain": [
       "[{'mid': '/g/1211cg58', 'title': 'economic crisis', 'type': 'Topic'},\n",
       " {'mid': '/g/11q2xlm4ss',\n",
       "  'title': '2019–present Sri Lankan economic crisis',\n",
       "  'type': 'Event'},\n",
       " {'mid': '/m/080pqzt',\n",
       "  'title': '1998–1999 Ecuador economic crisis',\n",
       "  'type': 'Topic'},\n",
       " {'mid': '/g/11bwdr23n9',\n",
       "  'title': '2013–present economic crisis in Venezuela',\n",
       "  'type': 'Topic'},\n",
       " {'mid': '/m/05p85kd',\n",
       "  'title': '1991 Indian economic crisis',\n",
       "  'type': 'Topic'}]"
      ]
     },
     "execution_count": 12,
     "metadata": {},
     "output_type": "execute_result"
    }
   ],
   "source": [
    "pytrends.suggestions(\"Economic crisis\")"
   ]
  },
  {
   "cell_type": "code",
   "execution_count": null,
   "id": "67f84c1f-fa82-4701-ac03-5bd741d0074b",
   "metadata": {},
   "outputs": [],
   "source": []
  }
 ],
 "metadata": {
  "kernelspec": {
   "display_name": "Python 3 (ipykernel)",
   "language": "python",
   "name": "python3"
  },
  "language_info": {
   "codemirror_mode": {
    "name": "ipython",
    "version": 3
   },
   "file_extension": ".py",
   "mimetype": "text/x-python",
   "name": "python",
   "nbconvert_exporter": "python",
   "pygments_lexer": "ipython3",
   "version": "3.9.5"
  }
 },
 "nbformat": 4,
 "nbformat_minor": 5
}
