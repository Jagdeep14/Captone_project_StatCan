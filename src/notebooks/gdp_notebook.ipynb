{
 "cells": [
  {
   "cell_type": "code",
   "execution_count": 281,
   "id": "8406f02f-81d5-44f7-9243-ad7fff304fdc",
   "metadata": {},
   "outputs": [],
   "source": [
    "# imports\n",
    "import pandas as pd\n",
    "import numpy as np\n",
    "import matplotlib.pyplot as plt\n",
    "from pytrends.request import TrendReq\n",
    "\n",
    "from statsmodels.tsa.stattools import adfuller, kpss"
   ]
  },
  {
   "cell_type": "markdown",
   "id": "d952a748-ecf9-41dd-98e8-3a5c012f13e9",
   "metadata": {},
   "source": [
    "# GDP data reading and cleaning"
   ]
  },
  {
   "cell_type": "code",
   "execution_count": 171,
   "id": "51cbd7f2-547b-4b1a-8645-2d7b7413a7f9",
   "metadata": {},
   "outputs": [
    {
     "name": "stderr",
     "output_type": "stream",
     "text": [
      "C:\\Users\\sidhu\\AppData\\Local\\Temp/ipykernel_17144/2999133702.py:2: DtypeWarning: Columns (13) have mixed types. Specify dtype option on import or set low_memory=False.\n",
      "  gdp = pd.read_csv(gdp_path)\n"
     ]
    },
    {
     "data": {
      "text/html": [
       "<div>\n",
       "<style scoped>\n",
       "    .dataframe tbody tr th:only-of-type {\n",
       "        vertical-align: middle;\n",
       "    }\n",
       "\n",
       "    .dataframe tbody tr th {\n",
       "        vertical-align: top;\n",
       "    }\n",
       "\n",
       "    .dataframe thead th {\n",
       "        text-align: right;\n",
       "    }\n",
       "</style>\n",
       "<table border=\"1\" class=\"dataframe\">\n",
       "  <thead>\n",
       "    <tr style=\"text-align: right;\">\n",
       "      <th></th>\n",
       "      <th>REF_DATE</th>\n",
       "      <th>GEO</th>\n",
       "      <th>DGUID</th>\n",
       "      <th>Prices</th>\n",
       "      <th>Seasonal adjustment</th>\n",
       "      <th>Estimates</th>\n",
       "      <th>UOM</th>\n",
       "      <th>UOM_ID</th>\n",
       "      <th>SCALAR_FACTOR</th>\n",
       "      <th>SCALAR_ID</th>\n",
       "      <th>VECTOR</th>\n",
       "      <th>COORDINATE</th>\n",
       "      <th>VALUE</th>\n",
       "      <th>STATUS</th>\n",
       "      <th>SYMBOL</th>\n",
       "      <th>TERMINATED</th>\n",
       "      <th>DECIMALS</th>\n",
       "    </tr>\n",
       "  </thead>\n",
       "  <tbody>\n",
       "    <tr>\n",
       "      <th>0</th>\n",
       "      <td>1961-01-01</td>\n",
       "      <td>Canada</td>\n",
       "      <td>2016A000011124</td>\n",
       "      <td>Chained (2012) dollars</td>\n",
       "      <td>Seasonally adjusted at annual rates</td>\n",
       "      <td>Final consumption expenditure</td>\n",
       "      <td>Dollars</td>\n",
       "      <td>81</td>\n",
       "      <td>millions</td>\n",
       "      <td>6</td>\n",
       "      <td>v62305723</td>\n",
       "      <td>1.1.1.1</td>\n",
       "      <td>273818.0</td>\n",
       "      <td>NaN</td>\n",
       "      <td>NaN</td>\n",
       "      <td>NaN</td>\n",
       "      <td>0</td>\n",
       "    </tr>\n",
       "    <tr>\n",
       "      <th>1</th>\n",
       "      <td>1961-01-01</td>\n",
       "      <td>Canada</td>\n",
       "      <td>2016A000011124</td>\n",
       "      <td>Chained (2012) dollars</td>\n",
       "      <td>Seasonally adjusted at annual rates</td>\n",
       "      <td>Household final consumption expenditure</td>\n",
       "      <td>Dollars</td>\n",
       "      <td>81</td>\n",
       "      <td>millions</td>\n",
       "      <td>6</td>\n",
       "      <td>v62305724</td>\n",
       "      <td>1.1.1.2</td>\n",
       "      <td>182300.0</td>\n",
       "      <td>NaN</td>\n",
       "      <td>NaN</td>\n",
       "      <td>NaN</td>\n",
       "      <td>0</td>\n",
       "    </tr>\n",
       "  </tbody>\n",
       "</table>\n",
       "</div>"
      ],
      "text/plain": [
       "    REF_DATE     GEO           DGUID                  Prices  \\\n",
       "0 1961-01-01  Canada  2016A000011124  Chained (2012) dollars   \n",
       "1 1961-01-01  Canada  2016A000011124  Chained (2012) dollars   \n",
       "\n",
       "                   Seasonal adjustment  \\\n",
       "0  Seasonally adjusted at annual rates   \n",
       "1  Seasonally adjusted at annual rates   \n",
       "\n",
       "                                 Estimates      UOM  UOM_ID SCALAR_FACTOR  \\\n",
       "0            Final consumption expenditure  Dollars      81      millions   \n",
       "1  Household final consumption expenditure  Dollars      81      millions   \n",
       "\n",
       "   SCALAR_ID     VECTOR COORDINATE     VALUE STATUS  SYMBOL TERMINATED  \\\n",
       "0          6  v62305723    1.1.1.1  273818.0    NaN     NaN        NaN   \n",
       "1          6  v62305724    1.1.1.2  182300.0    NaN     NaN        NaN   \n",
       "\n",
       "   DECIMALS  \n",
       "0         0  \n",
       "1         0  "
      ]
     },
     "execution_count": 171,
     "metadata": {},
     "output_type": "execute_result"
    }
   ],
   "source": [
    "gdp_path = '../../data/expenditure/expenditure_gdp.csv'\n",
    "gdp = pd.read_csv(gdp_path)\n",
    "gdp['REF_DATE'] = pd.to_datetime(gdp['REF_DATE'])\n",
    "gdp.head(2)"
   ]
  },
  {
   "cell_type": "markdown",
   "id": "6f2d7d34-37fe-4a2f-9f91-f6fecc04ab42",
   "metadata": {},
   "source": [
    "### Extracted only required columns and rows"
   ]
  },
  {
   "cell_type": "code",
   "execution_count": 270,
   "id": "fb7427ff-8c54-460f-8660-46e521d7d08a",
   "metadata": {},
   "outputs": [],
   "source": [
    "# filter data\n",
    "gdp_subset = gdp[(gdp['REF_DATE'] >= '2004-01-01') &\n",
    "                (gdp['Prices'] == 'Chained (2012) dollars') & \n",
    "                (gdp['Estimates'] == 'Gross domestic product at market prices') &\n",
    "                 (gdp['UOM'] == 'Dollars')]\n",
    "gdpts = gdp_subset[['REF_DATE', 'VALUE']]\n",
    "\n",
    "# rename columns\n",
    "gdpts = gdpts.rename(columns = {'REF_DATE': 'Date', 'VALUE': 'GDP'})\n",
    "gdpts.index = gdpts['Date']\n",
    "gdpts = gdpts.drop(columns = ['Date'])"
   ]
  },
  {
   "cell_type": "code",
   "execution_count": 271,
   "id": "a516493f-a30f-4f39-848a-f0533ddb5f54",
   "metadata": {},
   "outputs": [
    {
     "data": {
      "text/html": [
       "<div>\n",
       "<style scoped>\n",
       "    .dataframe tbody tr th:only-of-type {\n",
       "        vertical-align: middle;\n",
       "    }\n",
       "\n",
       "    .dataframe tbody tr th {\n",
       "        vertical-align: top;\n",
       "    }\n",
       "\n",
       "    .dataframe thead th {\n",
       "        text-align: right;\n",
       "    }\n",
       "</style>\n",
       "<table border=\"1\" class=\"dataframe\">\n",
       "  <thead>\n",
       "    <tr style=\"text-align: right;\">\n",
       "      <th></th>\n",
       "      <th>GDP</th>\n",
       "    </tr>\n",
       "    <tr>\n",
       "      <th>Date</th>\n",
       "      <th></th>\n",
       "    </tr>\n",
       "  </thead>\n",
       "  <tbody>\n",
       "    <tr>\n",
       "      <th>2004-01-01</th>\n",
       "      <td>1566737.0</td>\n",
       "    </tr>\n",
       "    <tr>\n",
       "      <th>2004-04-01</th>\n",
       "      <td>1585347.0</td>\n",
       "    </tr>\n",
       "    <tr>\n",
       "      <th>2004-07-01</th>\n",
       "      <td>1604061.0</td>\n",
       "    </tr>\n",
       "    <tr>\n",
       "      <th>2004-10-01</th>\n",
       "      <td>1615585.0</td>\n",
       "    </tr>\n",
       "    <tr>\n",
       "      <th>2005-01-01</th>\n",
       "      <td>1621176.0</td>\n",
       "    </tr>\n",
       "  </tbody>\n",
       "</table>\n",
       "</div>"
      ],
      "text/plain": [
       "                  GDP\n",
       "Date                 \n",
       "2004-01-01  1566737.0\n",
       "2004-04-01  1585347.0\n",
       "2004-07-01  1604061.0\n",
       "2004-10-01  1615585.0\n",
       "2005-01-01  1621176.0"
      ]
     },
     "execution_count": 271,
     "metadata": {},
     "output_type": "execute_result"
    }
   ],
   "source": [
    "gdpts.head()"
   ]
  },
  {
   "cell_type": "markdown",
   "id": "2a4023e2-37cf-40ed-a19c-88d0a9deef7b",
   "metadata": {},
   "source": [
    "### Time series of GDP"
   ]
  },
  {
   "cell_type": "code",
   "execution_count": 280,
   "id": "132f3841-cd83-4414-a853-b12e15b6e2b5",
   "metadata": {},
   "outputs": [
    {
     "data": {
      "image/png": "[encoded data removed]",
      "text/plain": [
       "<Figure size 432x288 with 1 Axes>"
      ]
     },
     "metadata": {
      "needs_background": "light"
     },
     "output_type": "display_data"
    }
   ],
   "source": [
    "gdp_data = gdpts.copy()\n",
    "plt.plot(gdp_data['GDP'])\n",
    "plt.show()"
   ]
  },
  {
   "cell_type": "markdown",
   "id": "36227a5c-a109-4087-9008-15b41ab61219",
   "metadata": {},
   "source": [
    "### Growth rate of GDP"
   ]
  },
  {
   "cell_type": "code",
   "execution_count": 284,
   "id": "96a531aa-379f-4763-b6ec-a27cc62f62d9",
   "metadata": {},
   "outputs": [
    {
     "data": {
      "image/png": "[encoded data removed]",
      "text/plain": [
       "<Figure size 432x288 with 1 Axes>"
      ]
     },
     "metadata": {
      "needs_background": "light"
     },
     "output_type": "display_data"
    }
   ],
   "source": [
    "gdpts['GDP_GrowthRate'] = gdpts['GDP'].pct_change()\n",
    "gdpts = gdpts.dropna()\n",
    "\n",
    "plt.plot(gdpts['GDP_GrowthRate'])\n",
    "plt.show()"
   ]
  },
  {
   "cell_type": "markdown",
   "id": "8c7095d5-419f-4d6a-9a8f-413c73948959",
   "metadata": {},
   "source": [
    "### Check stationarity"
   ]
  },
  {
   "cell_type": "code",
   "execution_count": 316,
   "id": "388384cc-7804-487d-adb2-3a3ff7723caf",
   "metadata": {},
   "outputs": [],
   "source": [
    "# source link: https://www.statsmodels.org/devel/examples/notebooks/generated/stationarity_detrending_adf_kpss.html\n",
    "\n",
    "def adf_test(timeseries):\n",
    "    #print(\"Results of Dickey-Fuller Test:\")\n",
    "    dftest = adfuller(timeseries, autolag=\"AIC\")\n",
    "    dfoutput = pd.Series(\n",
    "        dftest[0:4],\n",
    "        index=[\n",
    "            \"Test Statistic\",\n",
    "            \"p-value\",\n",
    "            \"#Lags Used\",\n",
    "            \"Number of Observations Used\",\n",
    "        ],\n",
    "    )\n",
    "    for key, value in dftest[4].items():\n",
    "        dfoutput[\"Critical Value (%s)\" % key] = value\n",
    "    #print(dfoutput)\n",
    "    if dftest[1] < 0.05:\n",
    "        print(\"Series is stationary\")\n",
    "    else:\n",
    "        print(\"Series is not stationary\")\n",
    "\n",
    "\n",
    "def kpss_test(timeseries):\n",
    "    #print(\"Results of KPSS Test:\")\n",
    "    kpsstest = kpss(timeseries, regression=\"c\", nlags=\"auto\")\n",
    "    kpss_output = pd.Series(\n",
    "        kpsstest[0:3], index=[\"Test Statistic\", \"p-value\", \"Lags Used\"]\n",
    "    )\n",
    "    for key, value in kpsstest[3].items():\n",
    "        kpss_output[\"Critical Value (%s)\" % key] = value\n",
    "    #print(kpss_output)\n",
    "    if kptest[1] > 0.05:\n",
    "        print(\"Series is stationary\")\n",
    "    else:\n",
    "        print(\"Series is not stationary\")"
   ]
  },
  {
   "cell_type": "code",
   "execution_count": 317,
   "id": "9357d4ea-ff4b-433c-94c1-235d410c5c95",
   "metadata": {},
   "outputs": [
    {
     "name": "stdout",
     "output_type": "stream",
     "text": [
      "Series is stationary\n"
     ]
    }
   ],
   "source": [
    "adf_test(gdpts['GDP_GrowthRate'])\n"
   ]
  },
  {
   "cell_type": "code",
   "execution_count": 318,
   "id": "980958d3-66dc-4910-a929-dcc3c7b13197",
   "metadata": {},
   "outputs": [
    {
     "name": "stderr",
     "output_type": "stream",
     "text": [
      "C:\\Users\\sidhu\\miniconda3\\lib\\site-packages\\statsmodels\\tsa\\stattools.py:1910: InterpolationWarning: The test statistic is outside of the range of p-values available in the\n",
      "look-up table. The actual p-value is greater than the p-value returned.\n",
      "\n",
      "  warnings.warn(\n"
     ]
    },
    {
     "ename": "NameError",
     "evalue": "name 'kptest' is not defined",
     "output_type": "error",
     "traceback": [
      "\u001b[1;31m---------------------------------------------------------------------------\u001b[0m",
      "\u001b[1;31mNameError\u001b[0m                                 Traceback (most recent call last)",
      "\u001b[1;32m~\\AppData\\Local\\Temp/ipykernel_17144/1953012466.py\u001b[0m in \u001b[0;36m<module>\u001b[1;34m\u001b[0m\n\u001b[1;32m----> 1\u001b[1;33m \u001b[0mkstest\u001b[0m \u001b[1;33m=\u001b[0m \u001b[0mkpss_test\u001b[0m\u001b[1;33m(\u001b[0m\u001b[0mgdpts\u001b[0m\u001b[1;33m[\u001b[0m\u001b[1;34m'GDP_GrowthRate'\u001b[0m\u001b[1;33m]\u001b[0m\u001b[1;33m)\u001b[0m\u001b[1;33m\u001b[0m\u001b[1;33m\u001b[0m\u001b[0m\n\u001b[0m",
      "\u001b[1;32m~\\AppData\\Local\\Temp/ipykernel_17144/1318175952.py\u001b[0m in \u001b[0;36mkpss_test\u001b[1;34m(timeseries)\u001b[0m\n\u001b[0;32m     31\u001b[0m         \u001b[0mkpss_output\u001b[0m\u001b[1;33m[\u001b[0m\u001b[1;34m\"Critical Value (%s)\"\u001b[0m \u001b[1;33m%\u001b[0m \u001b[0mkey\u001b[0m\u001b[1;33m]\u001b[0m \u001b[1;33m=\u001b[0m \u001b[0mvalue\u001b[0m\u001b[1;33m\u001b[0m\u001b[1;33m\u001b[0m\u001b[0m\n\u001b[0;32m     32\u001b[0m     \u001b[1;31m#print(kpss_output)\u001b[0m\u001b[1;33m\u001b[0m\u001b[1;33m\u001b[0m\u001b[1;33m\u001b[0m\u001b[0m\n\u001b[1;32m---> 33\u001b[1;33m     \u001b[1;32mif\u001b[0m \u001b[0mkptest\u001b[0m\u001b[1;33m[\u001b[0m\u001b[1;36m1\u001b[0m\u001b[1;33m]\u001b[0m \u001b[1;33m>\u001b[0m \u001b[1;36m0.05\u001b[0m\u001b[1;33m:\u001b[0m\u001b[1;33m\u001b[0m\u001b[1;33m\u001b[0m\u001b[0m\n\u001b[0m\u001b[0;32m     34\u001b[0m         \u001b[0mprint\u001b[0m\u001b[1;33m(\u001b[0m\u001b[1;34m\"Series is stationary\"\u001b[0m\u001b[1;33m)\u001b[0m\u001b[1;33m\u001b[0m\u001b[1;33m\u001b[0m\u001b[0m\n\u001b[0;32m     35\u001b[0m     \u001b[1;32melse\u001b[0m\u001b[1;33m:\u001b[0m\u001b[1;33m\u001b[0m\u001b[1;33m\u001b[0m\u001b[0m\n",
      "\u001b[1;31mNameError\u001b[0m: name 'kptest' is not defined"
     ]
    }
   ],
   "source": [
    "kstest = kpss_test(gdpts['GDP_GrowthRate'])"
   ]
  },
  {
   "cell_type": "code",
   "execution_count": 314,
   "id": "b3f431b5-fe98-4d96-8782-339f3803a2ff",
   "metadata": {},
   "outputs": [
    {
     "data": {
      "text/plain": [
       "0.1"
      ]
     },
     "execution_count": 314,
     "metadata": {},
     "output_type": "execute_result"
    }
   ],
   "source": [
    "kstest[1]"
   ]
  },
  {
   "cell_type": "code",
   "execution_count": null,
   "id": "8acb87c8-9f0f-46ba-a217-b25fac65681d",
   "metadata": {},
   "outputs": [],
   "source": []
  },
  {
   "cell_type": "markdown",
   "id": "69c39525-3f1f-4aeb-b74d-36e630fe40d0",
   "metadata": {},
   "source": [
    "# Get predictors from Google Trends"
   ]
  },
  {
   "cell_type": "code",
   "execution_count": 232,
   "id": "8ea6d9e2-7732-4fc0-a44a-6f44a44cd828",
   "metadata": {},
   "outputs": [],
   "source": [
    "# get caegories and keywords from csv file\n",
    "key_path = '../../data/keywords_data/GDP.csv'\n",
    "key_data = pd.read_csv(key_path)\n",
    "cat_lst = key_data['CatNo']                    # list of categories\n",
    "keywords_lst = key_data['Keywords'].dropna()   # list of selected keywords\n",
    "keyCat_lst = key_data['keywordCatNo'].astype('Int64').dropna()   # list of categories corresponding to keywords"
   ]
  },
  {
   "cell_type": "code",
   "execution_count": 233,
   "id": "189d3c3d-88b0-4bc9-a15e-d79ffc2d3af0",
   "metadata": {},
   "outputs": [],
   "source": [
    "pytrends = TrendReq(hl='en-US', backoff_factor=0.1)\n",
    "\n",
    "# function to get google trend time series of respective\n",
    "\n",
    "\n",
    "def get_trends(keyword=[''], category='0', related_queries=0, related_topics=0):\n",
    "    \"\"\" function to get the google trend for desired keyword and category\"\"\"\n",
    "    kw_list = keyword\n",
    "    cat = category\n",
    "    timeframe = '2004-01-01 2022-04-01'\n",
    "    geo = 'CA'\n",
    "    gprop = ''\n",
    "\n",
    "    try:\n",
    "        pytrends.build_payload(kw_list, cat, timeframe, geo, gprop)\n",
    "        # get time series\n",
    "        data = pytrends.interest_over_time()\n",
    "    except:\n",
    "        print(f\"Category {cat} does not exist\")\n",
    "        return [''], [''], ['']\n",
    "\n",
    "    # get related queries\n",
    "    try:\n",
    "        if related_queries > 0:\n",
    "            queries = pytrends.related_queries()\n",
    "            queries_lst = list(queries['']['top']['query'].values[0:related_queries])\n",
    "        else:\n",
    "            queries_lst = ['']\n",
    "    except:\n",
    "        queries_lst = ['']\n",
    "\n",
    "    # get related topics\n",
    "    try:\n",
    "        if related_topics > 0:\n",
    "            topics = pytrends.related_topics()\n",
    "            topics_lst = list(topics['']['top']['topic_title'].values[0:related_topics])\n",
    "        else:\n",
    "            topics_lst = ['']\n",
    "    except:\n",
    "        topics_lst = ['']\n",
    "    return data, queries_lst, topics_lst"
   ]
  },
  {
   "cell_type": "code",
   "execution_count": 216,
   "id": "de9bf2f0-aea8-4f83-a2ad-bcee19adf48b",
   "metadata": {},
   "outputs": [],
   "source": [
    "# get dataframe of timeseries for categories\n",
    "\n",
    "cat_queries_dict = {}\n",
    "cat_topics_dict = {}\n",
    "\n",
    "# get time series and related queries and topics of categories\n",
    "for i, category in enumerate(cat_lst):\n",
    "    category = str(category)\n",
    "    data, queries, topics = get_trends(category=category, related_queries=2, related_topics=2)\n",
    "    cat_queries_dict[category] = queries\n",
    "    cat_topics_dict[category] = topics\n",
    "\n",
    "    #Code to append data for different columns in data frame\n",
    "    if i == 0:\n",
    "        data.rename(columns = {'': category}, inplace = True)\n",
    "        categoryts = data.drop(columns=['isPartial'])\n",
    "    else:\n",
    "        data.rename(columns = {'': category}, inplace = True)\n",
    "        data = data.drop(columns=['isPartial'])\n",
    "        categoryts = categoryts.join(data)"
   ]
  },
  {
   "cell_type": "code",
   "execution_count": null,
   "id": "6be5967c-e6bf-44d5-bdc9-c3b4de193c5f",
   "metadata": {},
   "outputs": [],
   "source": [
    "# get dataframe of timeseries for keywords\n",
    "\n",
    "keywords_queries_dict = {}\n",
    "keywords_topics_dict = {}\n",
    "\n",
    "# get time series and related queries and topics of selected keywords\n",
    "for i, keyword in enumerate(keywords_lst[0:2]):\n",
    "    category = str(keyCat_lst[i])\n",
    "    data, queries, topics = get_trends(keyword = [keyword], category = category, related_queries=2, related_topics=2)\n",
    "    keywords_queries_dict[category] = queries\n",
    "    keywords_topics_dict[category] = topics\n",
    "\n",
    "    #Code to append data for different columns in data frame\n",
    "    if i == 0:\n",
    "        keywordsts = data.drop(columns=['isPartial'])\n",
    "    else:\n",
    "        data = data.drop(columns=['isPartial'])\n",
    "        keywordsts = keywordsts.join(data)"
   ]
  },
  {
   "cell_type": "code",
   "execution_count": null,
   "id": "cc5fe270-3d6f-4dd4-8898-20c99e9ea1b4",
   "metadata": {},
   "outputs": [],
   "source": []
  },
  {
   "cell_type": "code",
   "execution_count": 218,
   "id": "9a826c9d-ecdc-4d04-8569-5b055e33decd",
   "metadata": {},
   "outputs": [],
   "source": []
  },
  {
   "cell_type": "code",
   "execution_count": null,
   "id": "1f90b27c-f06d-4f7a-beb5-83bfc21f0c37",
   "metadata": {},
   "outputs": [],
   "source": []
  },
  {
   "cell_type": "markdown",
   "id": "7ee6c6f4-8221-4f04-89a4-3f5c33010961",
   "metadata": {},
   "source": [
    "### Plot trends"
   ]
  },
  {
   "cell_type": "code",
   "execution_count": null,
   "id": "11ea0dd6-fd6f-43d7-911a-ef2592d38e85",
   "metadata": {},
   "outputs": [],
   "source": []
  },
  {
   "cell_type": "code",
   "execution_count": 231,
   "id": "134816bb-24ae-46e1-af44-5f28924ef187",
   "metadata": {},
   "outputs": [
    {
     "data": {
      "image/png": "[encoded data removed]",
      "text/plain": [
       "<Figure size 432x288 with 1 Axes>"
      ]
     },
     "metadata": {
      "needs_background": "light"
     },
     "output_type": "display_data"
    }
   ],
   "source": [
    "trend_data = categoryts.copy()\n",
    "plt.plot(trend_data['23'])\n",
    "plt.show()"
   ]
  },
  {
   "cell_type": "code",
   "execution_count": null,
   "id": "97aec486-611a-4bc5-8b65-a43a70f9c453",
   "metadata": {},
   "outputs": [],
   "source": []
  },
  {
   "cell_type": "code",
   "execution_count": 12,
   "id": "acefd7bc-46f8-48f7-bf72-dd3c11e2f583",
   "metadata": {},
   "outputs": [
    {
     "data": {
      "text/plain": [
       "[{'mid': '/g/1211cg58', 'title': 'economic crisis', 'type': 'Topic'},\n",
       " {'mid': '/g/11q2xlm4ss',\n",
       "  'title': '2019–present Sri Lankan economic crisis',\n",
       "  'type': 'Event'},\n",
       " {'mid': '/m/080pqzt',\n",
       "  'title': '1998–1999 Ecuador economic crisis',\n",
       "  'type': 'Topic'},\n",
       " {'mid': '/g/11bwdr23n9',\n",
       "  'title': '2013–present economic crisis in Venezuela',\n",
       "  'type': 'Topic'},\n",
       " {'mid': '/m/05p85kd',\n",
       "  'title': '1991 Indian economic crisis',\n",
       "  'type': 'Topic'}]"
      ]
     },
     "execution_count": 12,
     "metadata": {},
     "output_type": "execute_result"
    }
   ],
   "source": [
    "pytrends.suggestions(\"Economic crisis\")"
   ]
  },
  {
   "cell_type": "code",
   "execution_count": null,
   "id": "67f84c1f-fa82-4701-ac03-5bd741d0074b",
   "metadata": {},
   "outputs": [],
   "source": []
  }
 ],
 "metadata": {
  "kernelspec": {
   "display_name": "Python 3 (ipykernel)",
   "language": "python",
   "name": "python3"
  },
  "language_info": {
   "codemirror_mode": {
    "name": "ipython",
    "version": 3
   },
   "file_extension": ".py",
   "mimetype": "text/x-python",
   "name": "python",
   "nbconvert_exporter": "python",
   "pygments_lexer": "ipython3",
   "version": "3.9.5"
  }
 },
 "nbformat": 4,
 "nbformat_minor": 5
}
