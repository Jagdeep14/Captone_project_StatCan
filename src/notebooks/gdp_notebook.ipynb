{
 "cells": [
  {
   "cell_type": "code",
   "execution_count": 1,
   "id": "8406f02f-81d5-44f7-9243-ad7fff304fdc",
   "metadata": {},
   "outputs": [],
   "source": [
    "# imports\n",
    "import pandas as pd\n",
    "import numpy as np\n",
    "import matplotlib.pyplot as plt"
   ]
  },
  {
   "cell_type": "markdown",
   "id": "d952a748-ecf9-41dd-98e8-3a5c012f13e9",
   "metadata": {},
   "source": [
    "# GDP data reading and cleaning"
   ]
  },
  {
   "cell_type": "code",
   "execution_count": 3,
   "id": "51cbd7f2-547b-4b1a-8645-2d7b7413a7f9",
   "metadata": {},
   "outputs": [
    {
     "name": "stderr",
     "output_type": "stream",
     "text": [
      "C:\\Users\\sidhu\\AppData\\Local\\Temp/ipykernel_13836/3962260804.py:2: DtypeWarning: Columns (13) have mixed types. Specify dtype option on import or set low_memory=False.\n",
      "  gdp = pd.read_csv(gdp_path)\n"
     ]
    }
   ],
   "source": [
    "gdp_path = '../../data/expenditure/expenditure_gdp.csv'\n",
    "gdp = pd.read_csv(gdp_path)"
   ]
  },
  {
   "cell_type": "code",
   "execution_count": 4,
   "id": "bc137608-50b8-4ced-8273-0de041ab37cd",
   "metadata": {},
   "outputs": [
    {
     "data": {
      "text/html": [
       "<div>\n",
       "<style scoped>\n",
       "    .dataframe tbody tr th:only-of-type {\n",
       "        vertical-align: middle;\n",
       "    }\n",
       "\n",
       "    .dataframe tbody tr th {\n",
       "        vertical-align: top;\n",
       "    }\n",
       "\n",
       "    .dataframe thead th {\n",
       "        text-align: right;\n",
       "    }\n",
       "</style>\n",
       "<table border=\"1\" class=\"dataframe\">\n",
       "  <thead>\n",
       "    <tr style=\"text-align: right;\">\n",
       "      <th></th>\n",
       "      <th>REF_DATE</th>\n",
       "      <th>GEO</th>\n",
       "      <th>DGUID</th>\n",
       "      <th>Prices</th>\n",
       "      <th>Seasonal adjustment</th>\n",
       "      <th>Estimates</th>\n",
       "      <th>UOM</th>\n",
       "      <th>UOM_ID</th>\n",
       "      <th>SCALAR_FACTOR</th>\n",
       "      <th>SCALAR_ID</th>\n",
       "      <th>VECTOR</th>\n",
       "      <th>COORDINATE</th>\n",
       "      <th>VALUE</th>\n",
       "      <th>STATUS</th>\n",
       "      <th>SYMBOL</th>\n",
       "      <th>TERMINATED</th>\n",
       "      <th>DECIMALS</th>\n",
       "    </tr>\n",
       "  </thead>\n",
       "  <tbody>\n",
       "    <tr>\n",
       "      <th>0</th>\n",
       "      <td>1961-01-01</td>\n",
       "      <td>Canada</td>\n",
       "      <td>2016A000011124</td>\n",
       "      <td>Chained (2012) dollars</td>\n",
       "      <td>Seasonally adjusted at annual rates</td>\n",
       "      <td>Final consumption expenditure</td>\n",
       "      <td>Dollars</td>\n",
       "      <td>81</td>\n",
       "      <td>millions</td>\n",
       "      <td>6</td>\n",
       "      <td>v62305723</td>\n",
       "      <td>1.1.1.1</td>\n",
       "      <td>273818.0</td>\n",
       "      <td>NaN</td>\n",
       "      <td>NaN</td>\n",
       "      <td>NaN</td>\n",
       "      <td>0</td>\n",
       "    </tr>\n",
       "    <tr>\n",
       "      <th>1</th>\n",
       "      <td>1961-01-01</td>\n",
       "      <td>Canada</td>\n",
       "      <td>2016A000011124</td>\n",
       "      <td>Chained (2012) dollars</td>\n",
       "      <td>Seasonally adjusted at annual rates</td>\n",
       "      <td>Household final consumption expenditure</td>\n",
       "      <td>Dollars</td>\n",
       "      <td>81</td>\n",
       "      <td>millions</td>\n",
       "      <td>6</td>\n",
       "      <td>v62305724</td>\n",
       "      <td>1.1.1.2</td>\n",
       "      <td>182300.0</td>\n",
       "      <td>NaN</td>\n",
       "      <td>NaN</td>\n",
       "      <td>NaN</td>\n",
       "      <td>0</td>\n",
       "    </tr>\n",
       "  </tbody>\n",
       "</table>\n",
       "</div>"
      ],
      "text/plain": [
       "    REF_DATE     GEO           DGUID                  Prices  \\\n",
       "0 1961-01-01  Canada  2016A000011124  Chained (2012) dollars   \n",
       "1 1961-01-01  Canada  2016A000011124  Chained (2012) dollars   \n",
       "\n",
       "                   Seasonal adjustment  \\\n",
       "0  Seasonally adjusted at annual rates   \n",
       "1  Seasonally adjusted at annual rates   \n",
       "\n",
       "                                 Estimates      UOM  UOM_ID SCALAR_FACTOR  \\\n",
       "0            Final consumption expenditure  Dollars      81      millions   \n",
       "1  Household final consumption expenditure  Dollars      81      millions   \n",
       "\n",
       "   SCALAR_ID     VECTOR COORDINATE     VALUE STATUS  SYMBOL TERMINATED  \\\n",
       "0          6  v62305723    1.1.1.1  273818.0    NaN     NaN        NaN   \n",
       "1          6  v62305724    1.1.1.2  182300.0    NaN     NaN        NaN   \n",
       "\n",
       "   DECIMALS  \n",
       "0         0  \n",
       "1         0  "
      ]
     },
     "execution_count": 4,
     "metadata": {},
     "output_type": "execute_result"
    }
   ],
   "source": [
    "gdp['REF_DATE'] = pd.to_datetime(gdp['REF_DATE'])\n",
    "gdp.head(2)"
   ]
  },
  {
   "cell_type": "markdown",
   "id": "6f2d7d34-37fe-4a2f-9f91-f6fecc04ab42",
   "metadata": {},
   "source": [
    "### Extracted only required columns and rows"
   ]
  },
  {
   "cell_type": "code",
   "execution_count": 5,
   "id": "fb7427ff-8c54-460f-8660-46e521d7d08a",
   "metadata": {},
   "outputs": [],
   "source": [
    "# filter data\n",
    "gdp_subset = gdp[(gdp['REF_DATE'] >= '2004-01-01') &\n",
    "                (gdp['Prices'] == 'Chained (2012) dollars') & \n",
    "                (gdp['Estimates'] == 'Gross domestic product at market prices') &\n",
    "                 (gdp['UOM'] == 'Dollars')]\n",
    "gdpts = gdp_subset[['REF_DATE', 'VALUE']]\n",
    "\n",
    "# rename columns\n",
    "gdpts = gdpts.rename(columns = {'REF_DATE': 'Date', 'VALUE': 'GDP'})"
   ]
  },
  {
   "cell_type": "code",
   "execution_count": 6,
   "id": "a516493f-a30f-4f39-848a-f0533ddb5f54",
   "metadata": {},
   "outputs": [
    {
     "data": {
      "text/html": [
       "<div>\n",
       "<style scoped>\n",
       "    .dataframe tbody tr th:only-of-type {\n",
       "        vertical-align: middle;\n",
       "    }\n",
       "\n",
       "    .dataframe tbody tr th {\n",
       "        vertical-align: top;\n",
       "    }\n",
       "\n",
       "    .dataframe thead th {\n",
       "        text-align: right;\n",
       "    }\n",
       "</style>\n",
       "<table border=\"1\" class=\"dataframe\">\n",
       "  <thead>\n",
       "    <tr style=\"text-align: right;\">\n",
       "      <th></th>\n",
       "      <th>Date</th>\n",
       "      <th>GDP</th>\n",
       "    </tr>\n",
       "  </thead>\n",
       "  <tbody>\n",
       "    <tr>\n",
       "      <th>31505</th>\n",
       "      <td>2004-01-01</td>\n",
       "      <td>1566737.0</td>\n",
       "    </tr>\n",
       "    <tr>\n",
       "      <th>31688</th>\n",
       "      <td>2004-04-01</td>\n",
       "      <td>1585347.0</td>\n",
       "    </tr>\n",
       "    <tr>\n",
       "      <th>31871</th>\n",
       "      <td>2004-07-01</td>\n",
       "      <td>1604061.0</td>\n",
       "    </tr>\n",
       "    <tr>\n",
       "      <th>32054</th>\n",
       "      <td>2004-10-01</td>\n",
       "      <td>1615585.0</td>\n",
       "    </tr>\n",
       "    <tr>\n",
       "      <th>32237</th>\n",
       "      <td>2005-01-01</td>\n",
       "      <td>1621176.0</td>\n",
       "    </tr>\n",
       "  </tbody>\n",
       "</table>\n",
       "</div>"
      ],
      "text/plain": [
       "            Date        GDP\n",
       "31505 2004-01-01  1566737.0\n",
       "31688 2004-04-01  1585347.0\n",
       "31871 2004-07-01  1604061.0\n",
       "32054 2004-10-01  1615585.0\n",
       "32237 2005-01-01  1621176.0"
      ]
     },
     "execution_count": 6,
     "metadata": {},
     "output_type": "execute_result"
    }
   ],
   "source": [
    "gdpts.head()"
   ]
  },
  {
   "cell_type": "markdown",
   "id": "2a4023e2-37cf-40ed-a19c-88d0a9deef7b",
   "metadata": {},
   "source": [
    "### Time series of GDP"
   ]
  },
  {
   "cell_type": "code",
   "execution_count": 7,
   "id": "132f3841-cd83-4414-a853-b12e15b6e2b5",
   "metadata": {},
   "outputs": [
    {
     "data": {
      "image/png": "[encoded data removed]",
      "text/plain": [
       "<Figure size 432x288 with 1 Axes>"
      ]
     },
     "metadata": {
      "needs_background": "light"
     },
     "output_type": "display_data"
    }
   ],
   "source": [
    "gdp_data = gdpts.copy()\n",
    "gdp_data.index = gdpts['Date']\n",
    "plt.plot(gdp_data['GDP'])\n",
    "plt.show()"
   ]
  },
  {
   "cell_type": "markdown",
   "id": "69c39525-3f1f-4aeb-b74d-36e630fe40d0",
   "metadata": {},
   "source": [
    "# Get predictors from Google Trends"
   ]
  },
  {
   "cell_type": "code",
   "execution_count": null,
   "id": "189d3c3d-88b0-4bc9-a15e-d79ffc2d3af0",
   "metadata": {},
   "outputs": [],
   "source": []
  },
  {
   "cell_type": "code",
   "execution_count": null,
   "id": "fd169cf5-7f08-4a67-8c3a-c63d4ba86565",
   "metadata": {},
   "outputs": [],
   "source": []
  },
  {
   "cell_type": "code",
   "execution_count": null,
   "id": "11ea0dd6-fd6f-43d7-911a-ef2592d38e85",
   "metadata": {},
   "outputs": [],
   "source": []
  }
 ],
 "metadata": {
  "kernelspec": {
   "display_name": "Python 3 (ipykernel)",
   "language": "python",
   "name": "python3"
  },
  "language_info": {
   "codemirror_mode": {
    "name": "ipython",
    "version": 3
   },
   "file_extension": ".py",
   "mimetype": "text/x-python",
   "name": "python",
   "nbconvert_exporter": "python",
   "pygments_lexer": "ipython3",
   "version": "3.9.5"
  }
 },
 "nbformat": 4,
 "nbformat_minor": 5
}
