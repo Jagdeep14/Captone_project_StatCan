{
 "cells": [
  {
   "cell_type": "markdown",
   "id": "d952a748-ecf9-41dd-98e8-3a5c012f13e9",
   "metadata": {},
   "source": [
    "# GDP data reading and cleaning"
   ]
  },
  {
   "cell_type": "code",
   "execution_count": null,
   "id": "8406f02f-81d5-44f7-9243-ad7fff304fdc",
   "metadata": {},
   "outputs": [],
   "source": []
  },
  {
   "cell_type": "code",
   "execution_count": null,
   "id": "fb7427ff-8c54-460f-8660-46e521d7d08a",
   "metadata": {},
   "outputs": [],
   "source": []
  }
 ],
 "metadata": {
  "kernelspec": {
   "display_name": "Python 3 (ipykernel)",
   "language": "python",
   "name": "python3"
  },
  "language_info": {
   "codemirror_mode": {
    "name": "ipython",
    "version": 3
   },
   "file_extension": ".py",
   "mimetype": "text/x-python",
   "name": "python",
   "nbconvert_exporter": "python",
   "pygments_lexer": "ipython3",
   "version": "3.9.5"
  }
 },
 "nbformat": 4,
 "nbformat_minor": 5
}
