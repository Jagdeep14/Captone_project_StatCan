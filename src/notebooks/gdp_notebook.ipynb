{
 "cells": [
  {
   "cell_type": "code",
   "execution_count": 2,
   "id": "8406f02f-81d5-44f7-9243-ad7fff304fdc",
   "metadata": {},
   "outputs": [],
   "source": [
    "# imports\n",
    "import pandas as pd\n",
    "import numpy as np\n",
    "import matplotlib.pyplot as plt\n",
    "from pytrends.request import TrendReq"
   ]
  },
  {
   "cell_type": "markdown",
   "id": "d952a748-ecf9-41dd-98e8-3a5c012f13e9",
   "metadata": {},
   "source": [
    "# GDP data reading and cleaning"
   ]
  },
  {
   "cell_type": "code",
   "execution_count": 3,
   "id": "51cbd7f2-547b-4b1a-8645-2d7b7413a7f9",
   "metadata": {},
   "outputs": [
    {
     "name": "stderr",
     "output_type": "stream",
     "text": [
      "C:\\Users\\sidhu\\AppData\\Local\\Temp/ipykernel_6408/3962260804.py:2: DtypeWarning: Columns (13) have mixed types. Specify dtype option on import or set low_memory=False.\n",
      "  gdp = pd.read_csv(gdp_path)\n"
     ]
    }
   ],
   "source": [
    "gdp_path = '../../data/expenditure/expenditure_gdp.csv'\n",
    "gdp = pd.read_csv(gdp_path)"
   ]
  },
  {
   "cell_type": "code",
   "execution_count": 4,
   "id": "bc137608-50b8-4ced-8273-0de041ab37cd",
   "metadata": {},
   "outputs": [
    {
     "data": {
      "text/html": [
       "<div>\n",
       "<style scoped>\n",
       "    .dataframe tbody tr th:only-of-type {\n",
       "        vertical-align: middle;\n",
       "    }\n",
       "\n",
       "    .dataframe tbody tr th {\n",
       "        vertical-align: top;\n",
       "    }\n",
       "\n",
       "    .dataframe thead th {\n",
       "        text-align: right;\n",
       "    }\n",
       "</style>\n",
       "<table border=\"1\" class=\"dataframe\">\n",
       "  <thead>\n",
       "    <tr style=\"text-align: right;\">\n",
       "      <th></th>\n",
       "      <th>REF_DATE</th>\n",
       "      <th>GEO</th>\n",
       "      <th>DGUID</th>\n",
       "      <th>Prices</th>\n",
       "      <th>Seasonal adjustment</th>\n",
       "      <th>Estimates</th>\n",
       "      <th>UOM</th>\n",
       "      <th>UOM_ID</th>\n",
       "      <th>SCALAR_FACTOR</th>\n",
       "      <th>SCALAR_ID</th>\n",
       "      <th>VECTOR</th>\n",
       "      <th>COORDINATE</th>\n",
       "      <th>VALUE</th>\n",
       "      <th>STATUS</th>\n",
       "      <th>SYMBOL</th>\n",
       "      <th>TERMINATED</th>\n",
       "      <th>DECIMALS</th>\n",
       "    </tr>\n",
       "  </thead>\n",
       "  <tbody>\n",
       "    <tr>\n",
       "      <th>0</th>\n",
       "      <td>1961-01-01</td>\n",
       "      <td>Canada</td>\n",
       "      <td>2016A000011124</td>\n",
       "      <td>Chained (2012) dollars</td>\n",
       "      <td>Seasonally adjusted at annual rates</td>\n",
       "      <td>Final consumption expenditure</td>\n",
       "      <td>Dollars</td>\n",
       "      <td>81</td>\n",
       "      <td>millions</td>\n",
       "      <td>6</td>\n",
       "      <td>v62305723</td>\n",
       "      <td>1.1.1.1</td>\n",
       "      <td>273818.0</td>\n",
       "      <td>NaN</td>\n",
       "      <td>NaN</td>\n",
       "      <td>NaN</td>\n",
       "      <td>0</td>\n",
       "    </tr>\n",
       "    <tr>\n",
       "      <th>1</th>\n",
       "      <td>1961-01-01</td>\n",
       "      <td>Canada</td>\n",
       "      <td>2016A000011124</td>\n",
       "      <td>Chained (2012) dollars</td>\n",
       "      <td>Seasonally adjusted at annual rates</td>\n",
       "      <td>Household final consumption expenditure</td>\n",
       "      <td>Dollars</td>\n",
       "      <td>81</td>\n",
       "      <td>millions</td>\n",
       "      <td>6</td>\n",
       "      <td>v62305724</td>\n",
       "      <td>1.1.1.2</td>\n",
       "      <td>182300.0</td>\n",
       "      <td>NaN</td>\n",
       "      <td>NaN</td>\n",
       "      <td>NaN</td>\n",
       "      <td>0</td>\n",
       "    </tr>\n",
       "  </tbody>\n",
       "</table>\n",
       "</div>"
      ],
      "text/plain": [
       "    REF_DATE     GEO           DGUID                  Prices  \\\n",
       "0 1961-01-01  Canada  2016A000011124  Chained (2012) dollars   \n",
       "1 1961-01-01  Canada  2016A000011124  Chained (2012) dollars   \n",
       "\n",
       "                   Seasonal adjustment  \\\n",
       "0  Seasonally adjusted at annual rates   \n",
       "1  Seasonally adjusted at annual rates   \n",
       "\n",
       "                                 Estimates      UOM  UOM_ID SCALAR_FACTOR  \\\n",
       "0            Final consumption expenditure  Dollars      81      millions   \n",
       "1  Household final consumption expenditure  Dollars      81      millions   \n",
       "\n",
       "   SCALAR_ID     VECTOR COORDINATE     VALUE STATUS  SYMBOL TERMINATED  \\\n",
       "0          6  v62305723    1.1.1.1  273818.0    NaN     NaN        NaN   \n",
       "1          6  v62305724    1.1.1.2  182300.0    NaN     NaN        NaN   \n",
       "\n",
       "   DECIMALS  \n",
       "0         0  \n",
       "1         0  "
      ]
     },
     "execution_count": 4,
     "metadata": {},
     "output_type": "execute_result"
    }
   ],
   "source": [
    "gdp['REF_DATE'] = pd.to_datetime(gdp['REF_DATE'])\n",
    "gdp.head(2)"
   ]
  },
  {
   "cell_type": "markdown",
   "id": "6f2d7d34-37fe-4a2f-9f91-f6fecc04ab42",
   "metadata": {},
   "source": [
    "### Extracted only required columns and rows"
   ]
  },
  {
   "cell_type": "code",
   "execution_count": 5,
   "id": "fb7427ff-8c54-460f-8660-46e521d7d08a",
   "metadata": {},
   "outputs": [],
   "source": [
    "# filter data\n",
    "gdp_subset = gdp[(gdp['REF_DATE'] >= '2004-01-01') &\n",
    "                (gdp['Prices'] == 'Chained (2012) dollars') & \n",
    "                (gdp['Estimates'] == 'Gross domestic product at market prices') &\n",
    "                 (gdp['UOM'] == 'Dollars')]\n",
    "gdpts = gdp_subset[['REF_DATE', 'VALUE']]\n",
    "\n",
    "# rename columns\n",
    "gdpts = gdpts.rename(columns = {'REF_DATE': 'Date', 'VALUE': 'GDP'})"
   ]
  },
  {
   "cell_type": "code",
   "execution_count": 6,
   "id": "a516493f-a30f-4f39-848a-f0533ddb5f54",
   "metadata": {},
   "outputs": [
    {
     "data": {
      "text/html": [
       "<div>\n",
       "<style scoped>\n",
       "    .dataframe tbody tr th:only-of-type {\n",
       "        vertical-align: middle;\n",
       "    }\n",
       "\n",
       "    .dataframe tbody tr th {\n",
       "        vertical-align: top;\n",
       "    }\n",
       "\n",
       "    .dataframe thead th {\n",
       "        text-align: right;\n",
       "    }\n",
       "</style>\n",
       "<table border=\"1\" class=\"dataframe\">\n",
       "  <thead>\n",
       "    <tr style=\"text-align: right;\">\n",
       "      <th></th>\n",
       "      <th>Date</th>\n",
       "      <th>GDP</th>\n",
       "    </tr>\n",
       "  </thead>\n",
       "  <tbody>\n",
       "    <tr>\n",
       "      <th>31505</th>\n",
       "      <td>2004-01-01</td>\n",
       "      <td>1566737.0</td>\n",
       "    </tr>\n",
       "    <tr>\n",
       "      <th>31688</th>\n",
       "      <td>2004-04-01</td>\n",
       "      <td>1585347.0</td>\n",
       "    </tr>\n",
       "    <tr>\n",
       "      <th>31871</th>\n",
       "      <td>2004-07-01</td>\n",
       "      <td>1604061.0</td>\n",
       "    </tr>\n",
       "    <tr>\n",
       "      <th>32054</th>\n",
       "      <td>2004-10-01</td>\n",
       "      <td>1615585.0</td>\n",
       "    </tr>\n",
       "    <tr>\n",
       "      <th>32237</th>\n",
       "      <td>2005-01-01</td>\n",
       "      <td>1621176.0</td>\n",
       "    </tr>\n",
       "  </tbody>\n",
       "</table>\n",
       "</div>"
      ],
      "text/plain": [
       "            Date        GDP\n",
       "31505 2004-01-01  1566737.0\n",
       "31688 2004-04-01  1585347.0\n",
       "31871 2004-07-01  1604061.0\n",
       "32054 2004-10-01  1615585.0\n",
       "32237 2005-01-01  1621176.0"
      ]
     },
     "execution_count": 6,
     "metadata": {},
     "output_type": "execute_result"
    }
   ],
   "source": [
    "gdpts.head()"
   ]
  },
  {
   "cell_type": "markdown",
   "id": "2a4023e2-37cf-40ed-a19c-88d0a9deef7b",
   "metadata": {},
   "source": [
    "### Time series of GDP"
   ]
  },
  {
   "cell_type": "code",
   "execution_count": 7,
   "id": "132f3841-cd83-4414-a853-b12e15b6e2b5",
   "metadata": {},
   "outputs": [
    {
     "data": {
      "image/png": "[encoded data removed]",
      "text/plain": [
       "<Figure size 432x288 with 1 Axes>"
      ]
     },
     "metadata": {
      "needs_background": "light"
     },
     "output_type": "display_data"
    }
   ],
   "source": [
    "gdp_data = gdpts.copy()\n",
    "gdp_data.index = gdpts['Date']\n",
    "plt.plot(gdp_data['GDP'])\n",
    "plt.show()"
   ]
  },
  {
   "cell_type": "markdown",
   "id": "69c39525-3f1f-4aeb-b74d-36e630fe40d0",
   "metadata": {},
   "source": [
    "# Get predictors from Google Trends"
   ]
  },
  {
   "cell_type": "code",
   "execution_count": 128,
   "id": "8ea6d9e2-7732-4fc0-a44a-6f44a44cd828",
   "metadata": {},
   "outputs": [
    {
     "data": {
      "text/html": [
       "<div>\n",
       "<style scoped>\n",
       "    .dataframe tbody tr th:only-of-type {\n",
       "        vertical-align: middle;\n",
       "    }\n",
       "\n",
       "    .dataframe tbody tr th {\n",
       "        vertical-align: top;\n",
       "    }\n",
       "\n",
       "    .dataframe thead th {\n",
       "        text-align: right;\n",
       "    }\n",
       "</style>\n",
       "<table border=\"1\" class=\"dataframe\">\n",
       "  <thead>\n",
       "    <tr style=\"text-align: right;\">\n",
       "      <th></th>\n",
       "      <th>CatNo</th>\n",
       "      <th>Category</th>\n",
       "      <th>Keywords</th>\n",
       "      <th>keywordCat</th>\n",
       "      <th>keywordCatNo</th>\n",
       "    </tr>\n",
       "  </thead>\n",
       "  <tbody>\n",
       "    <tr>\n",
       "      <th>0</th>\n",
       "      <td>569</td>\n",
       "      <td>Events &amp; Listings</td>\n",
       "      <td>Economic crisis</td>\n",
       "      <td>Economics</td>\n",
       "      <td>520</td>\n",
       "    </tr>\n",
       "    <tr>\n",
       "      <th>1</th>\n",
       "      <td>23</td>\n",
       "      <td>Performing Arts</td>\n",
       "      <td>Crisis</td>\n",
       "      <td>Economics</td>\n",
       "      <td>520</td>\n",
       "    </tr>\n",
       "    <tr>\n",
       "      <th>2</th>\n",
       "      <td>47</td>\n",
       "      <td>Autos &amp; Vehicles</td>\n",
       "      <td>Recession</td>\n",
       "      <td>Economics</td>\n",
       "      <td>520</td>\n",
       "    </tr>\n",
       "    <tr>\n",
       "      <th>3</th>\n",
       "      <td>815</td>\n",
       "      <td>Vehicle Brands</td>\n",
       "      <td>Financial crisis</td>\n",
       "      <td>Economics</td>\n",
       "      <td>520</td>\n",
       "    </tr>\n",
       "    <tr>\n",
       "      <th>4</th>\n",
       "      <td>170</td>\n",
       "      <td>Vehicle Licensing &amp; Registration</td>\n",
       "      <td>Krach</td>\n",
       "      <td>Economics</td>\n",
       "      <td>520</td>\n",
       "    </tr>\n",
       "  </tbody>\n",
       "</table>\n",
       "</div>"
      ],
      "text/plain": [
       "   CatNo                          Category          Keywords keywordCat  \\\n",
       "0    569                 Events & Listings   Economic crisis  Economics   \n",
       "1     23                   Performing Arts            Crisis  Economics   \n",
       "2     47                  Autos & Vehicles         Recession  Economics   \n",
       "3    815                    Vehicle Brands  Financial crisis  Economics   \n",
       "4    170  Vehicle Licensing & Registration             Krach  Economics   \n",
       "\n",
       "  keywordCatNo  \n",
       "0          520  \n",
       "1          520  \n",
       "2          520  \n",
       "3          520  \n",
       "4          520  "
      ]
     },
     "execution_count": 128,
     "metadata": {},
     "output_type": "execute_result"
    }
   ],
   "source": [
    "# get caegories from csv file\n",
    "key_path = '../../data/keywords_data/GDP.csv'\n",
    "key_data = pd.read_csv(key_path)\n",
    "cat_lst = key_data['CatNo']\n",
    "key_data.head()"
   ]
  },
  {
   "cell_type": "code",
   "execution_count": 129,
   "id": "189d3c3d-88b0-4bc9-a15e-d79ffc2d3af0",
   "metadata": {},
   "outputs": [],
   "source": [
    "pytrends = TrendReq(hl='en-US', backoff_factor=0.1)\n",
    "\n",
    "\n",
    "def get_trends(keyword=[''], category='0', related_queries=5, related_topics=5):\n",
    "    \"\"\" function to get the google trend for desired keyword and category\"\"\"\n",
    "    kw_list = keyword\n",
    "    cat = category\n",
    "    timeframe = '2004-01-01 2022-01-01'\n",
    "    geo = 'CA'\n",
    "    gprop = ''\n",
    "\n",
    "    pytrends.build_payload(kw_list, cat, timeframe, geo, gprop)\n",
    "    # get time series\n",
    "    data = pytrends.interest_over_time()\n",
    "    \n",
    "    # get related queries\n",
    "    if related_queries > 0:\n",
    "        queries = pytrends.related_queries()\n",
    "        queries_lst = list(queries['']['top']['query'].values[0:related_queries])\n",
    "    \n",
    "    # get related topics\n",
    "    if related_topics > 0:\n",
    "        topics = pytrends.related_topics()\n",
    "        topics_lst = list(topics['']['top']['topic_title'].values[0:related_topics])\n",
    "    return data, queries_lst, topics_lst"
   ]
  },
  {
   "cell_type": "code",
   "execution_count": 130,
   "id": "fd169cf5-7f08-4a67-8c3a-c63d4ba86565",
   "metadata": {},
   "outputs": [],
   "source": [
    "queries_dict = {}\n",
    "topics_dict = {}\n",
    "\n",
    "for i, category in enumerate(cat_lst):\n",
    "    category = str(category)\n",
    "    data, queries, topics = get_trends(category=category, related_queries=2, related_topics=2)\n",
    "    queries_dict[category] = queries\n",
    "    topics_dict[category] = topics\n"
   ]
  },
  {
   "cell_type": "code",
   "execution_count": 135,
   "id": "de9bf2f0-aea8-4f83-a2ad-bcee19adf48b",
   "metadata": {},
   "outputs": [
    {
     "data": {
      "text/plain": [
       "{'569': ['cineplex', 'cinema'],\n",
       " '23': ['dance', 'theatre'],\n",
       " '47': ['honda', 'ford'],\n",
       " '815': ['honda', 'ford'],\n",
       " '170': ['license', 'driving'],\n",
       " '249': ['blue cross', 'desjardins'],\n",
       " '71': ['pizza pizza', 'pizza'],\n",
       " '276': ['restaurant', 'restaurants'],\n",
       " '634': ['clinic', 'dr'],\n",
       " '250': ['hospital', 'hopital'],\n",
       " '168': ['fire', 'emergency'],\n",
       " '437': ['depression', 'anxiety'],\n",
       " '11': ['home depot', 'ikea'],\n",
       " '29': ['mls', 'real estate'],\n",
       " '96': ['remax', 'real real'],\n",
       " '18': ['kijiji', 'walmart'],\n",
       " '67': ['hotel', 'air canada'],\n",
       " '179': ['hotel', 'hotels'],\n",
       " '5': ['google', 'apple'],\n",
       " '68': ['shoes', 'boots'],\n",
       " '78': ['xbox', 'videotron'],\n",
       " '696': ['or', 'bijoux'],\n",
       " '329': ['acces d', 'accesd'],\n",
       " '95': ['staples', 'desk'],\n",
       " '423': ['bankruptcy', 'hollywoodpq'],\n",
       " '279': ['credit', 'mortgage'],\n",
       " '1160': ['business', 'pret'],\n",
       " '813': ['student', 'tuition'],\n",
       " '466': ['mortgage', 'calculator'],\n",
       " '468': ['lease', 'calculator'],\n",
       " '46': ['farm', 'plant'],\n",
       " '750': ['forest', 'forestry'],\n",
       " '747': ['salmon', 'fish'],\n",
       " '121': ['circulaire', 'iga'],\n",
       " '123': ['cigarettes', 'smoke'],\n",
       " '697': ['shoes', 'boots'],\n",
       " '1176': ['printing', 'vistaprint'],\n",
       " '1268': ['gas', 'gas prices'],\n",
       " '288': ['bottle depot', 'plastic'],\n",
       " '248': ['pharmacy', 'side effects'],\n",
       " '30': ['kingston', 'hp'],\n",
       " '287': ['generator', 'valve'],\n",
       " '612': ['oscar', 'car wash'],\n",
       " '13': ['google', 'mail'],\n",
       " '31': ['java', 'windows'],\n",
       " '7': ['rbc', 'td'],\n",
       " '38': ['insurance', 'desjardins'],\n",
       " '969': ['lawyer', 'law'],\n",
       " '477': ['architecture', 'architects'],\n",
       " '25': ['marketing', 'circulaire'],\n",
       " '380': ['vet', 'animal hospital'],\n",
       " '1010': ['vacations', 'voyage'],\n",
       " '726': ['acces', 'acces d'],\n",
       " '76': ['canada', 'passport'],\n",
       " '74': ['school', 'college'],\n",
       " '256': ['clinic', 'dr'],\n",
       " '508': ['chomage', 'assurance emploi'],\n",
       " '20': ['nhl', 'hockey'],\n",
       " '1199': ['ordre', 'abstract'],\n",
       " '144': ['hair removal', 'laser'],\n",
       " '748': ['tractor', 'deere'],\n",
       " '48': ['construction', 'doors'],\n",
       " '255': ['clinique', 'clinique médicale'],\n",
       " '50': ['canada', 'tracking'],\n",
       " '664': ['logistics', 'distribution'],\n",
       " '60': ['jobs', 'job'],\n",
       " '802': ['jobs', 'developer'],\n",
       " '621': ['canning', 'kraft'],\n",
       " '1140': ['boat', 'kayak'],\n",
       " '841': ['superstore', 'walmart'],\n",
       " '289': ['trailers', 'trucks'],\n",
       " '665': ['ship', 'traversier'],\n",
       " '662': ['air', 'air france'],\n",
       " '354': ['canada', 'customs'],\n",
       " '666': ['rail', 'railway'],\n",
       " '1150': ['canada', 'tracking'],\n",
       " '277': ['beer', 'lcbo'],\n",
       " '650': ['doors', 'portail'],\n",
       " '651': ['bridge', 'pont'],\n",
       " '652': ['contractors', 'contracting'],\n",
       " '158': ['home depot', 'paint'],\n",
       " '1143': ['netflix', 'dvd'],\n",
       " '70': ['gift', 'birthday'],\n",
       " '271': ['vacuum', 'appliances'],\n",
       " '270': ['furniture', 'ikea'],\n",
       " '794': ['garmin', 'gps'],\n",
       " '233': ['hydro', 'gas'],\n",
       " '473': ['auto', 'cars'],\n",
       " '1339': ['carpool', 'ride'],\n",
       " '932': ['fifa', 'madden'],\n",
       " '882': ['dog', 'pet'],\n",
       " '94': ['yoga', 'fitness'],\n",
       " '293': ['wedding', 'bridal'],\n",
       " '205': ['car rental', 'taxi'],\n",
       " '208': ['niagara falls', 'toronto'],\n",
       " '1081': ['rentals', 'cottage'],\n",
       " '73': ['walmart', 'store'],\n",
       " '1188': ['garmin', 'gps'],\n",
       " '185': ['fashion', 'model'],\n",
       " '610': ['truck', 'ford'],\n",
       " '206': ['cruise', 'cruises'],\n",
       " '1003': ['backpack', 'luggage'],\n",
       " '918': ['pizza pizza', 'pizza'],\n",
       " '355': ['livres', 'librairie'],\n",
       " '145': ['spa', 'massage'],\n",
       " '894': ['theatre', 'macbeth'],\n",
       " '960': ['emploi', 'emploi quebec'],\n",
       " '961': ['resume', 'cover letter'],\n",
       " '378': ['rent', 'for rent'],\n",
       " '465': ['insurance', 'insurance home'],\n",
       " '1164': ['survival', 'economist'],\n",
       " '784': ['finance', 'dow'],\n",
       " '1209': ['news', 'bbc'],\n",
       " '396': ['election', 'election results'],\n",
       " '408': ['toronto', 'news'],\n",
       " '832': ['flooring', 'carpet'],\n",
       " '952': ['pool', 'piscine'],\n",
       " '1139': ['td', 'monnex'],\n",
       " '107': ['stock', 'tsx'],\n",
       " '903': ['ttc', 'rrsp'],\n",
       " '343': ['sql', 'access'],\n",
       " '77': ['paypal', 'sql'],\n",
       " '278': ['canada', 'tax'],\n",
       " '1300': ['omnivox', 'cegep'],\n",
       " '730': ['git', 'github'],\n",
       " '341': ['salesforce', 'crm'],\n",
       " '334': ['expo', 'exhibition'],\n",
       " '314': ['security', 'avg'],\n",
       " '718': ['outsourcing', 'accenture'],\n",
       " '728': ['server', 'servers'],\n",
       " '1162': ['cra', 'cra login'],\n",
       " '53': ['godaddy', 'domain'],\n",
       " '342': ['erp', 'dashboard'],\n",
       " '1159': ['management', 'project'],\n",
       " '1214': ['trailers', 'trucks'],\n",
       " '670': ['homemade', 'potash'],\n",
       " '12': ['acces d', 'canada post'],\n",
       " '566': ['fabric fabric', 'fabric'],\n",
       " '672': ['glue', 'epoxy'],\n",
       " '673': ['couleur', 'couleurs'],\n",
       " '49': ['covid', 'manufacturing']}"
      ]
     },
     "execution_count": 135,
     "metadata": {},
     "output_type": "execute_result"
    }
   ],
   "source": [
    "queries_dict"
   ]
  },
  {
   "cell_type": "code",
   "execution_count": 108,
   "id": "9a826c9d-ecdc-4d04-8569-5b055e33decd",
   "metadata": {},
   "outputs": [
    {
     "data": {
      "text/plain": [
       "{'569': ['Cineplex Entertainment',\n",
       "  'Film',\n",
       "  'Movie theater',\n",
       "  'Toronto',\n",
       "  'Theater']}"
      ]
     },
     "execution_count": 108,
     "metadata": {},
     "output_type": "execute_result"
    }
   ],
   "source": []
  },
  {
   "cell_type": "markdown",
   "id": "7ee6c6f4-8221-4f04-89a4-3f5c33010961",
   "metadata": {},
   "source": [
    "### Plot trends"
   ]
  },
  {
   "cell_type": "code",
   "execution_count": 11,
   "id": "11ea0dd6-fd6f-43d7-911a-ef2592d38e85",
   "metadata": {},
   "outputs": [
    {
     "data": {
      "image/png": "[encoded data removed]",
      "text/plain": [
       "<Figure size 432x288 with 1 Axes>"
      ]
     },
     "metadata": {
      "needs_background": "light"
     },
     "output_type": "display_data"
    }
   ],
   "source": [
    "trend_data = data.copy()\n",
    "plt.plot(trend_data[''])\n",
    "plt.show()"
   ]
  },
  {
   "cell_type": "code",
   "execution_count": 12,
   "id": "97aec486-611a-4bc5-8b65-a43a70f9c453",
   "metadata": {},
   "outputs": [],
   "source": [
    "kw_list = ['']\n",
    "cat = '22'\n",
    "timeframe = '2004-01-01 2022-01-01'\n",
    "geo = 'CA'\n",
    "gprop = ''\n",
    "\n",
    "pytrends.build_payload(kw_list, cat, timeframe, geo, gprop)\n",
    "data = pytrends.interest_over_time()"
   ]
  },
  {
   "cell_type": "code",
   "execution_count": 110,
   "id": "acefd7bc-46f8-48f7-bf72-dd3c11e2f583",
   "metadata": {},
   "outputs": [
    {
     "data": {
      "text/plain": [
       "[{'mid': '/g/1211cg58', 'title': 'economic crisis', 'type': 'Topic'},\n",
       " {'mid': '/g/11q2xlm4ss',\n",
       "  'title': '2019–present Sri Lankan economic crisis',\n",
       "  'type': 'Event'},\n",
       " {'mid': '/m/080pqzt',\n",
       "  'title': '1998–1999 Ecuador economic crisis',\n",
       "  'type': 'Topic'},\n",
       " {'mid': '/g/11bwdr23n9',\n",
       "  'title': '2013–present economic crisis in Venezuela',\n",
       "  'type': 'Topic'},\n",
       " {'mid': '/m/05p85kd',\n",
       "  'title': '1991 Indian economic crisis',\n",
       "  'type': 'Topic'}]"
      ]
     },
     "execution_count": 110,
     "metadata": {},
     "output_type": "execute_result"
    }
   ],
   "source": [
    "pytrends.suggestions(\"Economic crisis\")"
   ]
  },
  {
   "cell_type": "code",
   "execution_count": null,
   "id": "67f84c1f-fa82-4701-ac03-5bd741d0074b",
   "metadata": {},
   "outputs": [],
   "source": []
  }
 ],
 "metadata": {
  "kernelspec": {
   "display_name": "Python 3 (ipykernel)",
   "language": "python",
   "name": "python3"
  },
  "language_info": {
   "codemirror_mode": {
    "name": "ipython",
    "version": 3
   },
   "file_extension": ".py",
   "mimetype": "text/x-python",
   "name": "python",
   "nbconvert_exporter": "python",
   "pygments_lexer": "ipython3",
   "version": "3.9.5"
  }
 },
 "nbformat": 4,
 "nbformat_minor": 5
}
