{
 "cells": [
  {
   "cell_type": "code",
   "execution_count": 1,
   "id": "fcfce433-53a7-4ef3-aff4-74d7233f88e2",
   "metadata": {},
   "outputs": [],
   "source": [
    "# imports\n",
    "import pandas as pd\n",
    "import numpy as np\n",
    "import matplotlib.pyplot as plt\n",
    "import json\n",
    "import time\n",
    "\n",
    "from statistics import mean, stdev\n",
    "from pytrends.request import TrendReq\n",
    "from urllib3.exceptions import MaxRetryError\n",
    "\n",
    "from statsmodels.tsa.stattools import adfuller, kpss\n",
    "import statsmodels.api as sm\n",
    "\n",
    "from sklearn.decomposition import PCA\n",
    "from sklearn.preprocessing import StandardScaler\n",
    "from sklearn.model_selection import train_test_split\n",
    "\n",
    "import warnings\n",
    "\n",
    "# our modules\n",
    "from plotSeries import *\n",
    "from checkStationarity import *\n",
    "from GoogleTrendsData import *\n",
    "from makeSeriesStationary import *\n",
    "from predictorsSelection import *\n",
    "from dataPreProcessing import *\n",
    "from tsModels import *\n",
    "from rollingPredictionfuns import *\n",
    "from fittedAndPredictedValuefuns import *\n",
    "from bootstrapfuns import *"
   ]
  },
  {
   "cell_type": "markdown",
   "id": "d6018e9b-f8c4-4474-b473-559e8807cfac",
   "metadata": {},
   "source": [
    "# 1. Read data (StatCan)"
   ]
  },
  {
   "cell_type": "code",
   "execution_count": 2,
   "id": "aadd1bd8-23f1-4255-8b55-04dd74753433",
   "metadata": {},
   "outputs": [
    {
     "name": "stdout",
     "output_type": "stream",
     "text": [
      "All other series are stationary\n"
     ]
    }
   ],
   "source": [
    "# Reading file\n",
    "data = pd.read_csv('../../data/retailEcommercesales/retailEcommerceSales.csv',sep=',')\n",
    "\n",
    "# data filter\n",
    "retailEcommercesales = data[~data[\"Sales\"].str.contains('unadjusted')]\n",
    "retailEcommercesales = retailEcommercesales.filter(['REF_DATE','VALUE'])\n",
    "\n",
    "# rename columns\n",
    "retailEcommercesales = retailEcommercesales.rename(columns = {'REF_DATE': 'Date', 'VALUE': 'Ecommerce_sales'})\n",
    "retailEcommercesales_ts = retailEcommercesales.copy()\n",
    "\n",
    "#Changing data type of date\n",
    "retailEcommercesales=retailEcommercesales.set_index(['Date'])\n",
    "retailEcommercesales.index = pd.to_datetime(retailEcommercesales.index)\n",
    "retailEcommercesales_ts = retailEcommercesales_ts.set_index('Date')\n",
    "retailEcommercesales_ts.index = pd.to_datetime(retailEcommercesales_ts.index)\n",
    "\n",
    "# calculate and add growth rate to the dataframe\n",
    "retailEcommercesales_ts['Growth_rate'] = retailEcommercesales_ts.pct_change()\n",
    "retailEcommercesales_ts = retailEcommercesales_ts.dropna() # removing NA\n",
    "\n",
    "# check sttaionarity of time series\n",
    "check_stationarity(retailEcommercesales_ts[['Growth_rate']])"
   ]
  },
  {
   "cell_type": "markdown",
   "id": "896542e8-fa1a-4939-885b-5c5bd18fca2f",
   "metadata": {},
   "source": [
    "# 2. Get Google Trends data"
   ]
  },
  {
   "cell_type": "code",
   "execution_count": 3,
   "id": "6de2275a-dc15-42cf-a26c-d6561954d697",
   "metadata": {},
   "outputs": [],
   "source": [
    "# Reading keywords\n",
    "keywords_csv = pd.read_csv('../../data/keywords_data/EECOMMERCE.csv')\n",
    "\n",
    "# extracting timeseries dataframe\n",
    "for index, row in keywords_csv.iterrows():\n",
    "    #calling Pytrends\n",
    "    data, queries, topics=ecommerce_trend(keywords=[str(row['Keyword'])],category=str(row['SubcatNo']))\n",
    "    \n",
    "    if index==0:\n",
    "        FinalData, queries, topics=ecommerce_trend(keywords=[str(row['Keyword'])],category=str(row['SubcatNo']))\n",
    "        FinalData.rename(columns = {'':str(row['Keyword'])}, inplace = True)    #column name for frame\n",
    "        FinalData=FinalData.drop(columns=['isPartial'])   #remove column\n",
    "    else:\n",
    "        data, queries, topics=ecommerce_trend(keywords=[str(row['Keyword'])],category=str(row['SubcatNo']))\n",
    "        data.rename(columns = {'':str(row['Keyword'])}, inplace = True)\n",
    "        data=data.drop(columns=['isPartial'])\n",
    "        data = data[str(row['Keyword'])]\n",
    "        FinalData = FinalData.join(data)"
   ]
  },
  {
   "cell_type": "code",
   "execution_count": 4,
   "id": "2e905c1e-9468-49f4-9fa8-3c60ca157354",
   "metadata": {},
   "outputs": [],
   "source": [
    "# write data to csv\n",
    "FinalData.to_csv('EcommerceKeywordTimeSeries.csv')"
   ]
  },
  {
   "cell_type": "code",
   "execution_count": 5,
   "id": "96c92665-b098-47ed-876c-77f879247721",
   "metadata": {},
   "outputs": [],
   "source": [
    "#pre-processing time series\n",
    "ecommerce_keyword_ts = pd.read_csv('EcommerceKeywordTimeSeries.csv')\n",
    "ecommerce_keyword_ts.rename(columns = {'date':'Date'}, inplace = True)\n",
    "ecommerce_keyword_ts = ecommerce_keyword_ts.set_index(['Date'])\n",
    "ecommerce_keyword_ts.index = pd.to_datetime(ecommerce_keyword_ts.index)\n",
    "ecommerce_keyword_ts = ecommerce_keyword_ts.dropna()"
   ]
  },
  {
   "cell_type": "markdown",
   "id": "b47699ac-23e4-44a2-b0b1-d14ac0be3de5",
   "metadata": {},
   "source": [
    "# 3. Make data stationary"
   ]
  },
  {
   "cell_type": "code",
   "execution_count": 6,
   "id": "11f3435c-f021-43ce-bbab-23468d0b368a",
   "metadata": {},
   "outputs": [
    {
     "name": "stdout",
     "output_type": "stream",
     "text": [
      "Series DoorDash is trend stationary, trend needs to be removed\n",
      "Series square online is not stationary, differencing can be used to make it stationary\n",
      "All other series are stationary\n"
     ]
    }
   ],
   "source": [
    "#extracting and removing trend\n",
    "normalized_ecommerce_keyword = normalize(ecommerce_keyword_ts)\n",
    "detrend_ecommerce_keyword = (detrend(normalized_ecommerce_keyword))\n",
    "check_stationarity(detrend_ecommerce_keyword)"
   ]
  },
  {
   "cell_type": "code",
   "execution_count": 7,
   "id": "7a7b4bfb-2fb8-4378-a34f-7c67b8685331",
   "metadata": {},
   "outputs": [],
   "source": [
    "# response and predictors structing\n",
    "predictor = make_predictors_df(detrend_ecommerce_keyword)\n",
    "response = make_predictors_df(retailEcommercesales_ts[['Growth_rate']])"
   ]
  },
  {
   "cell_type": "markdown",
   "id": "820e6fc6-abe9-4631-8261-5d8d38a6c035",
   "metadata": {},
   "source": [
    "# 4. Model fit"
   ]
  },
  {
   "cell_type": "code",
   "execution_count": 8,
   "id": "d418d249-dcc8-4c65-8733-247e061b06e7",
   "metadata": {},
   "outputs": [
    {
     "name": "stdout",
     "output_type": "stream",
     "text": [
      "Prediction error: 365396.9182999891\n"
     ]
    },
    {
     "data": {
      "text/plain": [
       "365396.9182999891"
      ]
     },
     "execution_count": 8,
     "metadata": {},
     "output_type": "execute_result"
    }
   ],
   "source": [
    "# Random Forest\n",
    "\n",
    "rf_predictors, rf_response = get_lag1_data_ecommerce(retailEcommercesales_ts, detrend_ecommerce_keyword, response_var='Growth_rate')\n",
    "\n",
    "#Splitting data in training and testing\n",
    "train_rf, test_rf, extra_rf = ts_train_test_split(rf_response, rf_predictors, test_size=0.2)\n",
    "\n",
    "#Fitting RF model\n",
    "rfmodel = randomForest_modelfit(train_rf, response_var='Growth_rate', n_trees=600)\n",
    "x_rf, y_rf = train_rf.loc[:, ~train_rf.columns.isin(['Growth_rate'])], train_rf[['Growth_rate']]\n",
    "\n",
    "# fitted growth rate\n",
    "fitted_growthRate_rf = rfmodel.predict(x_rf)\n",
    "fitted_growthRate_rf = pd.DataFrame(fitted_growthRate_rf, columns={'Fitted GrowthRate'})\n",
    "fitted_growthRate_rf.index = train_rf.index\n",
    "\n",
    "#Random Forest Predictions\n",
    "rf_pred_ecommercegrowth = rolling_prediction_randomForest(train_rf, test_rf, extra_rf,dependent_var='Growth_rate',\n",
    "                                              n_trees=600)\n",
    "\n",
    "#rf_pred_retailgrowth\n",
    "\n",
    "# Fitted and predicted retail sales value\n",
    "pred_error, fig, data = fitted_and_predicted_sales_ecommerce(rfmodel, \n",
    "                                                    rf_pred_ecommercegrowth, \n",
    "                                                    retailEcommercesales, train_rf, test_rf, extra_rf)\n",
    "pred_error"
   ]
  },
  {
   "cell_type": "code",
   "execution_count": 9,
   "id": "bb6ee255-1f67-44f3-8bf9-29056cb3360a",
   "metadata": {},
   "outputs": [],
   "source": [
    "# Bootstrap for GDP\n",
    "\n",
    "# create bootstrap samples\n",
    "bs_samples = get_bootstrap_samples(train_rf, n_sample=100, rs=None)  # rs = RandomState(1234)\n",
    "\n",
    "# get predicted growth rate uisng bootstrap samples\n",
    "# predicted_growth_df = pd.DataFrame(columns=list(range(0, len(bs_samples))))\n",
    "# for i, df in enumerate(bs_samples):\n",
    "#     predicted_growth_temp = rolling_prediction_randomForest(df, test_rf, extra_rf, dependent_var='Growth_rate',n_trees=100)\n",
    "#     predicted_growth_df.iloc[:, i] = predicted_growth_temp[0]\n"
   ]
  },
  {
   "cell_type": "code",
   "execution_count": null,
   "id": "1c9c3754-42f3-4b45-94a5-820b5af99a6c",
   "metadata": {},
   "outputs": [],
   "source": [
    "bs_samples"
   ]
  }
 ],
 "metadata": {
  "kernelspec": {
   "display_name": "Python 3 (ipykernel)",
   "language": "python",
   "name": "python3"
  },
  "language_info": {
   "codemirror_mode": {
    "name": "ipython",
    "version": 3
   },
   "file_extension": ".py",
   "mimetype": "text/x-python",
   "name": "python",
   "nbconvert_exporter": "python",
   "pygments_lexer": "ipython3",
   "version": "3.9.5"
  }
 },
 "nbformat": 4,
 "nbformat_minor": 5
}
