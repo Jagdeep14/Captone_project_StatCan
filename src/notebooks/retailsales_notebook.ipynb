{
 "cells": [
  {
   "cell_type": "markdown",
   "id": "013fcb74-f764-49fc-829f-bf6f4a0f1538",
   "metadata": {},
   "source": [
    "## Retail Sales By Industries\n",
    "\n",
    "### Data Cleaning and Wrangling"
   ]
  },
  {
   "cell_type": "code",
   "execution_count": 1,
   "id": "2e6f6a68-8882-4e3c-8cb8-9f5a1f14f852",
   "metadata": {},
   "outputs": [],
   "source": [
    "# Imports\n",
    "\n",
    "import pandas as pd"
   ]
  },
  {
   "cell_type": "code",
   "execution_count": 2,
   "id": "0c3abbd2-5b26-4dbd-9e45-939e1d8d1c63",
   "metadata": {},
   "outputs": [],
   "source": [
    "# Reading file\n",
    "\n",
    "retailsales=pd.read_csv('../../data/retailsalesbyIndustry/retailSalesbyIndustry.csv')"
   ]
  },
  {
   "cell_type": "code",
   "execution_count": 3,
   "id": "80be5e7b-1013-447f-a98c-98d762e880fb",
   "metadata": {},
   "outputs": [],
   "source": [
    "# Renaming columns as per required\n",
    "retailsales.rename(columns = {'REF_DATE':'DATE', \n",
    "                                            'GEO':'LOCATION',\n",
    "                                            'North American Industry Classification System (NAICS)':'INDUSTRY',\n",
    "                                            'Adjustments':'ADJUSTMENTS'\n",
    "                                           },inplace = True)"
   ]
  },
  {
   "cell_type": "code",
   "execution_count": 4,
   "id": "b05bb5b7-77bf-4c17-9538-6f3e63c3a43e",
   "metadata": {},
   "outputs": [
    {
     "data": {
      "text/html": [
       "<div>\n",
       "<style scoped>\n",
       "    .dataframe tbody tr th:only-of-type {\n",
       "        vertical-align: middle;\n",
       "    }\n",
       "\n",
       "    .dataframe tbody tr th {\n",
       "        vertical-align: top;\n",
       "    }\n",
       "\n",
       "    .dataframe thead th {\n",
       "        text-align: right;\n",
       "    }\n",
       "</style>\n",
       "<table border=\"1\" class=\"dataframe\">\n",
       "  <thead>\n",
       "    <tr style=\"text-align: right;\">\n",
       "      <th></th>\n",
       "      <th>DATE</th>\n",
       "      <th>VALUE</th>\n",
       "    </tr>\n",
       "  </thead>\n",
       "  <tbody>\n",
       "    <tr>\n",
       "      <th>9793</th>\n",
       "      <td>2004-01-01</td>\n",
       "      <td>27935993.0</td>\n",
       "    </tr>\n",
       "    <tr>\n",
       "      <th>10331</th>\n",
       "      <td>2004-02-01</td>\n",
       "      <td>28719948.0</td>\n",
       "    </tr>\n",
       "    <tr>\n",
       "      <th>10869</th>\n",
       "      <td>2004-03-01</td>\n",
       "      <td>28689514.0</td>\n",
       "    </tr>\n",
       "    <tr>\n",
       "      <th>11407</th>\n",
       "      <td>2004-04-01</td>\n",
       "      <td>28254086.0</td>\n",
       "    </tr>\n",
       "    <tr>\n",
       "      <th>11945</th>\n",
       "      <td>2004-05-01</td>\n",
       "      <td>28554094.0</td>\n",
       "    </tr>\n",
       "    <tr>\n",
       "      <th>...</th>\n",
       "      <td>...</td>\n",
       "      <td>...</td>\n",
       "    </tr>\n",
       "    <tr>\n",
       "      <th>130975</th>\n",
       "      <td>2021-10-01</td>\n",
       "      <td>58218955.0</td>\n",
       "    </tr>\n",
       "    <tr>\n",
       "      <th>131711</th>\n",
       "      <td>2021-11-01</td>\n",
       "      <td>58750669.0</td>\n",
       "    </tr>\n",
       "    <tr>\n",
       "      <th>132447</th>\n",
       "      <td>2021-12-01</td>\n",
       "      <td>57919779.0</td>\n",
       "    </tr>\n",
       "    <tr>\n",
       "      <th>133183</th>\n",
       "      <td>2022-01-01</td>\n",
       "      <td>59857374.0</td>\n",
       "    </tr>\n",
       "    <tr>\n",
       "      <th>133919</th>\n",
       "      <td>2022-02-01</td>\n",
       "      <td>59899112.0</td>\n",
       "    </tr>\n",
       "  </tbody>\n",
       "</table>\n",
       "<p>218 rows × 2 columns</p>\n",
       "</div>"
      ],
      "text/plain": [
       "             DATE       VALUE\n",
       "9793   2004-01-01  27935993.0\n",
       "10331  2004-02-01  28719948.0\n",
       "10869  2004-03-01  28689514.0\n",
       "11407  2004-04-01  28254086.0\n",
       "11945  2004-05-01  28554094.0\n",
       "...           ...         ...\n",
       "130975 2021-10-01  58218955.0\n",
       "131711 2021-11-01  58750669.0\n",
       "132447 2021-12-01  57919779.0\n",
       "133183 2022-01-01  59857374.0\n",
       "133919 2022-02-01  59899112.0\n",
       "\n",
       "[218 rows x 2 columns]"
      ]
     },
     "execution_count": 4,
     "metadata": {},
     "output_type": "execute_result"
    }
   ],
   "source": [
    "# Filtering columns as needed and extracting required columns\n",
    "retailsales_filtered=retailsales[(retailsales['LOCATION'] == 'Canada') & \n",
    "                 (retailsales['INDUSTRY'] == 'Retail trade [44-45]')&\n",
    "                 (retailsales['ADJUSTMENTS'] == 'Seasonally adjusted')&\n",
    "                 (retailsales['DATE'] >= '2004-01')]\n",
    "retailsales_final = retailsales_filtered[['DATE', 'VALUE']].copy()\n",
    "\n",
    "#Changing data type of date\n",
    "retailsales_final['DATE'] =  pd.to_datetime(retailsales_final['DATE'])\n",
    "retailsales_final"
   ]
  },
  {
   "cell_type": "code",
   "execution_count": null,
   "id": "d2ea307a-fb6a-4e95-92bc-802d08565241",
   "metadata": {},
   "outputs": [],
   "source": []
  }
 ],
 "metadata": {
  "kernelspec": {
   "display_name": "Python 3 (ipykernel)",
   "language": "python",
   "name": "python3"
  },
  "language_info": {
   "codemirror_mode": {
    "name": "ipython",
    "version": 3
   },
   "file_extension": ".py",
   "mimetype": "text/x-python",
   "name": "python",
   "nbconvert_exporter": "python",
   "pygments_lexer": "ipython3",
   "version": "3.9.12"
  }
 },
 "nbformat": 4,
 "nbformat_minor": 5
}
