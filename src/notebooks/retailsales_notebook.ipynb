{
 "cells": [
  {
   "cell_type": "markdown",
   "id": "013fcb74-f764-49fc-829f-bf6f4a0f1538",
   "metadata": {},
   "source": [
    "## Retail Sales By Industries\n",
    "\n",
    "### Data Cleaning and Wrangling"
   ]
  },
  {
   "cell_type": "code",
   "execution_count": 39,
   "id": "2e6f6a68-8882-4e3c-8cb8-9f5a1f14f852",
   "metadata": {},
   "outputs": [],
   "source": [
    "# Imports\n",
    "\n",
    "import pandas as pd\n",
    "import matplotlib.pyplot as plt\n",
    "from pytrends.request import TrendReq"
   ]
  },
  {
   "cell_type": "code",
   "execution_count": 40,
   "id": "0c3abbd2-5b26-4dbd-9e45-939e1d8d1c63",
   "metadata": {},
   "outputs": [],
   "source": [
    "# Reading file\n",
    "\n",
    "retailsales=pd.read_csv('../../data/retailsalesbyIndustry/retailSalesbyIndustry.csv')"
   ]
  },
  {
   "cell_type": "code",
   "execution_count": 41,
   "id": "80be5e7b-1013-447f-a98c-98d762e880fb",
   "metadata": {},
   "outputs": [],
   "source": [
    "# Renaming columns as per required\n",
    "retailsales.rename(columns = {'REF_DATE':'DATE', \n",
    "                                            'GEO':'LOCATION',\n",
    "                                            'North American Industry Classification System (NAICS)':'INDUSTRY',\n",
    "                                            'Adjustments':'ADJUSTMENTS'\n",
    "                                           },inplace = True)"
   ]
  },
  {
   "cell_type": "code",
   "execution_count": 42,
   "id": "b05bb5b7-77bf-4c17-9538-6f3e63c3a43e",
   "metadata": {},
   "outputs": [
    {
     "data": {
      "text/html": [
       "<div>\n",
       "<style scoped>\n",
       "    .dataframe tbody tr th:only-of-type {\n",
       "        vertical-align: middle;\n",
       "    }\n",
       "\n",
       "    .dataframe tbody tr th {\n",
       "        vertical-align: top;\n",
       "    }\n",
       "\n",
       "    .dataframe thead th {\n",
       "        text-align: right;\n",
       "    }\n",
       "</style>\n",
       "<table border=\"1\" class=\"dataframe\">\n",
       "  <thead>\n",
       "    <tr style=\"text-align: right;\">\n",
       "      <th></th>\n",
       "      <th>DATE</th>\n",
       "      <th>VALUE</th>\n",
       "    </tr>\n",
       "  </thead>\n",
       "  <tbody>\n",
       "    <tr>\n",
       "      <th>0</th>\n",
       "      <td>2004-01-01</td>\n",
       "      <td>27935993.0</td>\n",
       "    </tr>\n",
       "    <tr>\n",
       "      <th>1</th>\n",
       "      <td>2004-02-01</td>\n",
       "      <td>28719948.0</td>\n",
       "    </tr>\n",
       "    <tr>\n",
       "      <th>2</th>\n",
       "      <td>2004-03-01</td>\n",
       "      <td>28689514.0</td>\n",
       "    </tr>\n",
       "    <tr>\n",
       "      <th>3</th>\n",
       "      <td>2004-04-01</td>\n",
       "      <td>28254086.0</td>\n",
       "    </tr>\n",
       "    <tr>\n",
       "      <th>4</th>\n",
       "      <td>2004-05-01</td>\n",
       "      <td>28554094.0</td>\n",
       "    </tr>\n",
       "    <tr>\n",
       "      <th>...</th>\n",
       "      <td>...</td>\n",
       "      <td>...</td>\n",
       "    </tr>\n",
       "    <tr>\n",
       "      <th>213</th>\n",
       "      <td>2021-10-01</td>\n",
       "      <td>58218955.0</td>\n",
       "    </tr>\n",
       "    <tr>\n",
       "      <th>214</th>\n",
       "      <td>2021-11-01</td>\n",
       "      <td>58750669.0</td>\n",
       "    </tr>\n",
       "    <tr>\n",
       "      <th>215</th>\n",
       "      <td>2021-12-01</td>\n",
       "      <td>57919779.0</td>\n",
       "    </tr>\n",
       "    <tr>\n",
       "      <th>216</th>\n",
       "      <td>2022-01-01</td>\n",
       "      <td>59857374.0</td>\n",
       "    </tr>\n",
       "    <tr>\n",
       "      <th>217</th>\n",
       "      <td>2022-02-01</td>\n",
       "      <td>59899112.0</td>\n",
       "    </tr>\n",
       "  </tbody>\n",
       "</table>\n",
       "<p>218 rows × 2 columns</p>\n",
       "</div>"
      ],
      "text/plain": [
       "          DATE       VALUE\n",
       "0   2004-01-01  27935993.0\n",
       "1   2004-02-01  28719948.0\n",
       "2   2004-03-01  28689514.0\n",
       "3   2004-04-01  28254086.0\n",
       "4   2004-05-01  28554094.0\n",
       "..         ...         ...\n",
       "213 2021-10-01  58218955.0\n",
       "214 2021-11-01  58750669.0\n",
       "215 2021-12-01  57919779.0\n",
       "216 2022-01-01  59857374.0\n",
       "217 2022-02-01  59899112.0\n",
       "\n",
       "[218 rows x 2 columns]"
      ]
     },
     "execution_count": 42,
     "metadata": {},
     "output_type": "execute_result"
    }
   ],
   "source": [
    "# Filtering columns as needed and extracting required columns\n",
    "retailsales_filtered=retailsales[(retailsales['LOCATION'] == 'Canada') & \n",
    "                 (retailsales['INDUSTRY'] == 'Retail trade [44-45]')&\n",
    "                 (retailsales['ADJUSTMENTS'] == 'Seasonally adjusted')&\n",
    "                 (retailsales['DATE'] >= '2004-01')]\n",
    "retailsales_final = retailsales_filtered[['DATE', 'VALUE']].copy()\n",
    "\n",
    "#Changing data type of date\n",
    "retailsales_final['DATE'] =  pd.to_datetime(retailsales_final['DATE'])\n",
    "retailsales_final.reset_index(drop=True)"
   ]
  },
  {
   "cell_type": "code",
   "execution_count": 43,
   "id": "b4dc1c63-a11f-400a-a40e-7d9829003551",
   "metadata": {},
   "outputs": [
    {
     "data": {
      "image/png": "[encoded data removed]",
      "text/plain": [
       "<Figure size 432x288 with 1 Axes>"
      ]
     },
     "metadata": {
      "needs_background": "light"
     },
     "output_type": "display_data"
    }
   ],
   "source": [
    "# plot\n",
    "\n",
    "retailsales_date=retailsales_final.set_index('DATE')\n",
    "\n",
    "plt.plot(retailsales_date)\n",
    "plt.show()"
   ]
  },
  {
   "cell_type": "markdown",
   "id": "52809ba9-1a9a-4a0f-891f-fc4de8eda748",
   "metadata": {},
   "source": [
    "## Getting predictors from Google trends"
   ]
  },
  {
   "cell_type": "code",
   "execution_count": 44,
   "id": "34c0fa89-0c90-457f-b2ef-0bbe8ed8cb10",
   "metadata": {},
   "outputs": [],
   "source": [
    "pytrends = TrendReq(hl='en-US', tz=360, backoff_factor=0.1)"
   ]
  },
  {
   "cell_type": "code",
   "execution_count": 67,
   "id": "7cb98173-d24b-4e69-9b2b-6f03d39c06e0",
   "metadata": {},
   "outputs": [],
   "source": [
    "def get_trend(keyword=[''], category='0'):\n",
    "    \"\"\" Function for getting trends for selected keywords\n",
    "        \n",
    "        arguments: \n",
    "        \n",
    "        Keywords: data type is string: stores list of keywords\n",
    "        category: data type is string: stores the code for category\n",
    "        \n",
    "        returns: google trend data as a data frame  \n",
    "    \"\"\"\n",
    "    \n",
    "    kw_list=keyword\n",
    "    cat=category\n",
    "    timeframe='2004-01-01 2022-01-01'\n",
    "    geo ='CA'\n",
    "    gprop =''\n",
    "    \n",
    "    pytrends.build_payload(kw_list, cat, timeframe, geo, gprop)\n",
    "    #data = pytrends.interest_over_time()\n",
    "    \n",
    "    return data\n",
    "    "
   ]
  },
  {
   "cell_type": "code",
   "execution_count": 85,
   "id": "e01db971-cd08-4923-99ec-3bc185e32bae",
   "metadata": {},
   "outputs": [],
   "source": [
    "keyword=[\"blockchain\"]\n",
    "data=get_trend(keyword=[''],category='844')\n"
   ]
  },
  {
   "cell_type": "code",
   "execution_count": 86,
   "id": "bc78ab9b-11ea-43ca-9aea-2749f29ba431",
   "metadata": {},
   "outputs": [
    {
     "data": {
      "image/png": "[encoded data removed]",
      "text/plain": [
       "<Figure size 432x288 with 1 Axes>"
      ]
     },
     "metadata": {
      "needs_background": "light"
     },
     "output_type": "display_data"
    }
   ],
   "source": [
    "trend_data = data.copy()\n",
    "plt.plot(trend_data[''])\n",
    "plt.show()"
   ]
  },
  {
   "cell_type": "code",
   "execution_count": null,
   "id": "56a188c0-2932-4417-88c0-a2974548e5ef",
   "metadata": {},
   "outputs": [],
   "source": []
  },
  {
   "cell_type": "code",
   "execution_count": null,
   "id": "214e9e54-f15a-41a7-b9b6-d9668f6a1f5d",
   "metadata": {},
   "outputs": [],
   "source": []
  },
  {
   "cell_type": "code",
   "execution_count": null,
   "id": "feb27af5-7fb2-4992-81e7-7eaaa1a63e48",
   "metadata": {},
   "outputs": [],
   "source": []
  },
  {
   "cell_type": "code",
   "execution_count": null,
   "id": "1c7ed188-40e7-4197-bc89-f7540be7c5a8",
   "metadata": {},
   "outputs": [],
   "source": []
  },
  {
   "cell_type": "code",
   "execution_count": null,
   "id": "1b730b3b-58ca-46f1-ad97-7f5baf2fc209",
   "metadata": {},
   "outputs": [],
   "source": []
  },
  {
   "cell_type": "code",
   "execution_count": 82,
   "id": "4b9bf5dc-f22d-43b3-8853-31110a077ffd",
   "metadata": {},
   "outputs": [],
   "source": [
    "# keywords = []\n",
    "\n",
    "# all_keywords=['Fidget spinner','Food','Cycling','Home Alone','Delivery','Wine','Beer']\n",
    "\n",
    "# cat = '22'\n",
    "# geo = ''\n",
    "# timeframes = ['today 5-y', 'today 12-m','today 3-m']\n",
    "# gprop = ''\n",
    "\n",
    "# def check_trends():\n",
    "    \n",
    "#     pytrends.build_payload(all_keywords, cat=0, timeframes[0], geo='CA', gprop)\n",
    "\n",
    "#     data = pytrends.interest_over_time()\n",
    "#     print(data)\n",
    "    \n",
    "# for kw in all_keywords:\n",
    "#     keywords.append(kw)\n",
    "#     check_trends()\n",
    "#     keywords.pop()"
   ]
  },
  {
   "cell_type": "code",
   "execution_count": null,
   "id": "8830c0c7-e898-470f-9245-238d4a40d344",
   "metadata": {},
   "outputs": [],
   "source": []
  }
 ],
 "metadata": {
  "kernelspec": {
   "display_name": "Python 3 (ipykernel)",
   "language": "python",
   "name": "python3"
  },
  "language_info": {
   "codemirror_mode": {
    "name": "ipython",
    "version": 3
   },
   "file_extension": ".py",
   "mimetype": "text/x-python",
   "name": "python",
   "nbconvert_exporter": "python",
   "pygments_lexer": "ipython3",
   "version": "3.9.12"
  }
 },
 "nbformat": 4,
 "nbformat_minor": 5
}
